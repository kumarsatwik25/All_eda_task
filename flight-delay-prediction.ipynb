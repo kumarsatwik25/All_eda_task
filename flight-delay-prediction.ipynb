{
 "cells": [
  {
   "cell_type": "markdown",
   "metadata": {
    "id": "o7jJw0uYsG1O"
   },
   "source": [
    "# Flight Delay Prediction"
   ]
  },
  {
   "cell_type": "markdown",
   "metadata": {
    "id": "jksuAG-3t2-L"
   },
   "source": [
    "![](https://frontera.net/wp-content/uploads/2017/11/bigstock-Landscape-With-White-Passenger-192652528.jpg)"
   ]
  },
  {
   "cell_type": "markdown",
   "metadata": {
    "id": "rL9pyG_bt2-N"
   },
   "source": []
  },
  {
   "cell_type": "markdown",
   "metadata": {
    "id": "TmTKj2B-t2-Q"
   },
   "source": []
  },
  {
   "cell_type": "markdown",
   "metadata": {
    "id": "kNmLwquTt2-S"
   },
   "source": [
    "The following steps are followed in this project:\n",
    "- Downloading a real-world dataset from a Kaggle competition\n",
    "- Formulate the problem, understand the dataset description, and describe the modeling objective.\n",
    "- Perform exploratory data analysis, gather insights, perform feature engineering, create a training, validation & test  split, and prepare the data for modeling.\n",
    "- Train & evaluate different machine learning models, tune hyperparameters to improve models.\n",
    "- Report the final performance of best model(s), show sample predictions, and save model weights. \n",
    "- Summary of the work, links to references, ideas for future work.\n"
   ]
  },
  {
   "cell_type": "markdown",
   "metadata": {
    "id": "JGxQOTlIt2-U"
   },
   "source": [
    "## Install Required Libraries"
   ]
  },
  {
   "cell_type": "code",
   "execution_count": 1,
   "metadata": {
    "colab": {
     "base_uri": "https://localhost:8080/"
    },
    "executionInfo": {
     "elapsed": 5888,
     "status": "ok",
     "timestamp": 1674071180276,
     "user": {
      "displayName": "satwik gupta",
      "userId": "11579781950189161815"
     },
     "user_tz": -330
    },
    "id": "6y9SLVW3sG1O",
    "outputId": "2b6cd4e6-2d51-4f17-e9e1-856ce838566d"
   },
   "outputs": [
    {
     "name": "stdout",
     "output_type": "stream",
     "text": [
      "\u001b[?25l     \u001b[90m━━━━━━━━━━━━━━━━━━━━━━━━━━━━━━━━━━━━━━━━\u001b[0m \u001b[32m0.0/68.6 KB\u001b[0m \u001b[31m?\u001b[0m eta \u001b[36m-:--:--\u001b[0m\r",
      "\u001b[2K     \u001b[90m━━━━━━━━━━━━━━━━━━━━━━━━━━━━━━━━━━━━━━━━\u001b[0m \u001b[32m68.6/68.6 KB\u001b[0m \u001b[31m3.2 MB/s\u001b[0m eta \u001b[36m0:00:00\u001b[0m\n",
      "\u001b[?25h  Preparing metadata (setup.py) ... \u001b[?25l\u001b[?25hdone\n",
      "  Building wheel for uuid (setup.py) ... \u001b[?25l\u001b[?25hdone\n"
     ]
    }
   ],
   "source": [
    "!pip install jovian --upgrade --quiet"
   ]
  },
  {
   "cell_type": "code",
   "execution_count": 2,
   "metadata": {
    "executionInfo": {
     "elapsed": 45,
     "status": "ok",
     "timestamp": 1674071180291,
     "user": {
      "displayName": "satwik gupta",
      "userId": "11579781950189161815"
     },
     "user_tz": -330
    },
    "id": "xzhtkaT4sG1Q"
   },
   "outputs": [],
   "source": [
    "import jovian"
   ]
  },
  {
   "cell_type": "code",
   "execution_count": 3,
   "metadata": {
    "executionInfo": {
     "elapsed": 4317,
     "status": "ok",
     "timestamp": 1674071184568,
     "user": {
      "displayName": "satwik gupta",
      "userId": "11579781950189161815"
     },
     "user_tz": -330
    },
    "id": "iD_MNT3gsG1R"
   },
   "outputs": [],
   "source": [
    "!pip install numpy pandas matplotlib seaborn --quiet"
   ]
  },
  {
   "cell_type": "code",
   "execution_count": 4,
   "metadata": {
    "colab": {
     "base_uri": "https://localhost:8080/"
    },
    "executionInfo": {
     "elapsed": 22305,
     "status": "ok",
     "timestamp": 1674071206857,
     "user": {
      "displayName": "satwik gupta",
      "userId": "11579781950189161815"
     },
     "user_tz": -330
    },
    "id": "1scz-coJsG1S",
    "outputId": "a555c28c-cd4e-4db6-d4cf-43b11e3fa5ef"
   },
   "outputs": [
    {
     "name": "stdout",
     "output_type": "stream",
     "text": [
      "\u001b[2K     \u001b[90m━━━━━━━━━━━━━━━━━━━━━━━━━━━━━━━━━━━━━━━\u001b[0m \u001b[32m193.6/193.6 MB\u001b[0m \u001b[31m6.4 MB/s\u001b[0m eta \u001b[36m0:00:00\u001b[0m\n",
      "\u001b[2K     \u001b[90m━━━━━━━━━━━━━━━━━━━━━━━━━━━━━━━━━━━━━━━━\u001b[0m \u001b[32m47.0/47.0 KB\u001b[0m \u001b[31m5.7 MB/s\u001b[0m eta \u001b[36m0:00:00\u001b[0m\n",
      "\u001b[2K     \u001b[90m━━━━━━━━━━━━━━━━━━━━━━━━━━━━━━━━━━━━━━━━\u001b[0m \u001b[32m2.0/2.0 MB\u001b[0m \u001b[31m77.2 MB/s\u001b[0m eta \u001b[36m0:00:00\u001b[0m\n",
      "\u001b[2K     \u001b[90m━━━━━━━━━━━━━━━━━━━━━━━━━━━━━━━━━━━━━━━━\u001b[0m \u001b[32m9.7/9.7 MB\u001b[0m \u001b[31m89.0 MB/s\u001b[0m eta \u001b[36m0:00:00\u001b[0m\n",
      "\u001b[?25h"
     ]
    }
   ],
   "source": [
    "!pip install opendatasets xgboost graphviz lightgbm scikit-learn --upgrade --quiet"
   ]
  },
  {
   "cell_type": "code",
   "execution_count": 5,
   "metadata": {
    "executionInfo": {
     "elapsed": 839,
     "status": "ok",
     "timestamp": 1674071207672,
     "user": {
      "displayName": "satwik gupta",
      "userId": "11579781950189161815"
     },
     "user_tz": -330
    },
    "id": "dXOFsAHhsG1S"
   },
   "outputs": [],
   "source": [
    "import numpy as np\n",
    "import pandas as pd\n",
    "import opendatasets as od\n",
    "import os\n",
    "pd.set_option(\"display.max_columns\", 120)\n",
    "pd.set_option(\"display.max_rows\", 120)"
   ]
  },
  {
   "cell_type": "code",
   "execution_count": 6,
   "metadata": {
    "executionInfo": {
     "elapsed": 1787,
     "status": "ok",
     "timestamp": 1674071209445,
     "user": {
      "displayName": "satwik gupta",
      "userId": "11579781950189161815"
     },
     "user_tz": -330
    },
    "id": "BU9hqQvHt2-i"
   },
   "outputs": [],
   "source": [
    "import matplotlib.pyplot as plt\n",
    "import seaborn as sns\n",
    "import matplotlib\n",
    "import os\n",
    "%matplotlib inline\n",
    "\n",
    "sns.set_style('darkgrid')\n",
    "matplotlib.rcParams['font.size'] = 14\n",
    "matplotlib.rcParams['figure.figsize'] = (10, 6)\n",
    "matplotlib.rcParams['figure.facecolor'] = '#00000000'"
   ]
  },
  {
   "cell_type": "code",
   "execution_count": null,
   "metadata": {
    "colab": {
     "base_uri": "https://localhost:8080/"
    },
    "executionInfo": {
     "elapsed": 69,
     "status": "ok",
     "timestamp": 1674071209447,
     "user": {
      "displayName": "satwik gupta",
      "userId": "11579781950189161815"
     },
     "user_tz": -330
    },
    "id": "eoFwSQIwt2-j",
    "outputId": "486854ab-4ca9-4f6a-86cb-a95da2ab0690"
   },
   "outputs": [
    {
     "data": {
      "application/javascript": [
       "window.require && require([\"base/js/namespace\"],function(Jupyter){Jupyter.notebook.save_checkpoint()})"
      ],
      "text/plain": [
       "<IPython.core.display.Javascript object>"
      ]
     },
     "metadata": {},
     "output_type": "display_data"
    }
   ],
   "source": [
    "\n",
    "jovian.commit()"
   ]
  },
  {
   "cell_type": "markdown",
   "metadata": {
    "id": "zfuFAlzkt2-o"
   },
   "source": [
    "## Download Dataset"
   ]
  },
  {
   "cell_type": "markdown",
   "metadata": {
    "id": "JEmY8p3Ut2-o"
   },
   "source": [
    "The dataset can be downloaded from Kaggle directly within the Jupyter notebook using the opendatasets library. Kaggle credentials are to be provided for downloading."
   ]
  },
  {
   "cell_type": "code",
   "execution_count": 8,
   "metadata": {
    "colab": {
     "base_uri": "https://localhost:8080/"
    },
    "executionInfo": {
     "elapsed": 29930,
     "status": "ok",
     "timestamp": 1674071239327,
     "user": {
      "displayName": "satwik gupta",
      "userId": "11579781950189161815"
     },
     "user_tz": -330
    },
    "id": "SPkyoA4psG1T",
    "outputId": "cf809c67-9389-406b-84a3-9441a54d0bd0"
   },
   "outputs": [
    {
     "name": "stdout",
     "output_type": "stream",
     "text": [
      "Please provide your Kaggle credentials to download this dataset. Learn more: http://bit.ly/kaggle-creds\n",
      "Your Kaggle username: guptasatwik\n",
      "Your Kaggle Key: ··········\n",
      "Downloading flight-delay-prediction.zip to ./flight-delay-prediction\n"
     ]
    },
    {
     "name": "stderr",
     "output_type": "stream",
     "text": [
      "100%|██████████| 22.9M/22.9M [00:00<00:00, 83.7MB/s]\n"
     ]
    },
    {
     "name": "stdout",
     "output_type": "stream",
     "text": [
      "\n"
     ]
    }
   ],
   "source": [
    "od.download('https://www.kaggle.com/divyansh22/flight-delay-prediction')"
   ]
  },
  {
   "cell_type": "code",
   "execution_count": 9,
   "metadata": {
    "colab": {
     "base_uri": "https://localhost:8080/"
    },
    "executionInfo": {
     "elapsed": 28,
     "status": "ok",
     "timestamp": 1674071239328,
     "user": {
      "displayName": "satwik gupta",
      "userId": "11579781950189161815"
     },
     "user_tz": -330
    },
    "id": "0h-NJIIPsG1V",
    "outputId": "b52d213e-a48d-4aac-f99a-5755f0b775ac"
   },
   "outputs": [
    {
     "data": {
      "text/plain": [
       "['Jan_2020_ontime.csv', 'Jan_2019_ontime.csv']"
      ]
     },
     "execution_count": 9,
     "metadata": {},
     "output_type": "execute_result"
    }
   ],
   "source": [
    "os.listdir('flight-delay-prediction')"
   ]
  },
  {
   "cell_type": "markdown",
   "metadata": {
    "id": "4XwkiB7nt2-s"
   },
   "source": [
    "There are two 'csv' files for data from Jan 2019 and Jan 2020, now we can load the data into pandas dataframes."
   ]
  },
  {
   "cell_type": "code",
   "execution_count": 10,
   "metadata": {
    "executionInfo": {
     "elapsed": 3714,
     "status": "ok",
     "timestamp": 1674071243029,
     "user": {
      "displayName": "satwik gupta",
      "userId": "11579781950189161815"
     },
     "user_tz": -330
    },
    "id": "w-HZR8pIsG1W"
   },
   "outputs": [],
   "source": [
    "jan_2019_df = pd.read_csv('./flight-delay-prediction/Jan_2019_ontime.csv')\n",
    "jan_2020_df = pd.read_csv('./flight-delay-prediction/Jan_2020_ontime.csv')"
   ]
  },
  {
   "cell_type": "code",
   "execution_count": 11,
   "metadata": {
    "colab": {
     "base_uri": "https://localhost:8080/",
     "height": 288
    },
    "executionInfo": {
     "elapsed": 130,
     "status": "ok",
     "timestamp": 1674071243045,
     "user": {
      "displayName": "satwik gupta",
      "userId": "11579781950189161815"
     },
     "user_tz": -330
    },
    "id": "CLBkWmJGsG1X",
    "outputId": "1c7d37a2-23dc-459d-c616-cba427f9b371"
   },
   "outputs": [
    {
     "data": {
      "text/html": [
       "\n",
       "  <div id=\"df-18bf15e5-bd86-4afc-b496-fa8df9539ccd\">\n",
       "    <div class=\"colab-df-container\">\n",
       "      <div>\n",
       "<style scoped>\n",
       "    .dataframe tbody tr th:only-of-type {\n",
       "        vertical-align: middle;\n",
       "    }\n",
       "\n",
       "    .dataframe tbody tr th {\n",
       "        vertical-align: top;\n",
       "    }\n",
       "\n",
       "    .dataframe thead th {\n",
       "        text-align: right;\n",
       "    }\n",
       "</style>\n",
       "<table border=\"1\" class=\"dataframe\">\n",
       "  <thead>\n",
       "    <tr style=\"text-align: right;\">\n",
       "      <th></th>\n",
       "      <th>DAY_OF_MONTH</th>\n",
       "      <th>DAY_OF_WEEK</th>\n",
       "      <th>OP_UNIQUE_CARRIER</th>\n",
       "      <th>OP_CARRIER_AIRLINE_ID</th>\n",
       "      <th>OP_CARRIER</th>\n",
       "      <th>TAIL_NUM</th>\n",
       "      <th>OP_CARRIER_FL_NUM</th>\n",
       "      <th>ORIGIN_AIRPORT_ID</th>\n",
       "      <th>ORIGIN_AIRPORT_SEQ_ID</th>\n",
       "      <th>ORIGIN</th>\n",
       "      <th>DEST_AIRPORT_ID</th>\n",
       "      <th>DEST_AIRPORT_SEQ_ID</th>\n",
       "      <th>DEST</th>\n",
       "      <th>DEP_TIME</th>\n",
       "      <th>DEP_DEL15</th>\n",
       "      <th>DEP_TIME_BLK</th>\n",
       "      <th>ARR_TIME</th>\n",
       "      <th>ARR_DEL15</th>\n",
       "      <th>CANCELLED</th>\n",
       "      <th>DIVERTED</th>\n",
       "      <th>DISTANCE</th>\n",
       "      <th>Unnamed: 21</th>\n",
       "    </tr>\n",
       "  </thead>\n",
       "  <tbody>\n",
       "    <tr>\n",
       "      <th>0</th>\n",
       "      <td>1</td>\n",
       "      <td>2</td>\n",
       "      <td>9E</td>\n",
       "      <td>20363</td>\n",
       "      <td>9E</td>\n",
       "      <td>N8688C</td>\n",
       "      <td>3280</td>\n",
       "      <td>11953</td>\n",
       "      <td>1195302</td>\n",
       "      <td>GNV</td>\n",
       "      <td>10397</td>\n",
       "      <td>1039707</td>\n",
       "      <td>ATL</td>\n",
       "      <td>601.0</td>\n",
       "      <td>0.0</td>\n",
       "      <td>0600-0659</td>\n",
       "      <td>722.0</td>\n",
       "      <td>0.0</td>\n",
       "      <td>0.0</td>\n",
       "      <td>0.0</td>\n",
       "      <td>300.0</td>\n",
       "      <td>NaN</td>\n",
       "    </tr>\n",
       "    <tr>\n",
       "      <th>1</th>\n",
       "      <td>1</td>\n",
       "      <td>2</td>\n",
       "      <td>9E</td>\n",
       "      <td>20363</td>\n",
       "      <td>9E</td>\n",
       "      <td>N348PQ</td>\n",
       "      <td>3281</td>\n",
       "      <td>13487</td>\n",
       "      <td>1348702</td>\n",
       "      <td>MSP</td>\n",
       "      <td>11193</td>\n",
       "      <td>1119302</td>\n",
       "      <td>CVG</td>\n",
       "      <td>1359.0</td>\n",
       "      <td>0.0</td>\n",
       "      <td>1400-1459</td>\n",
       "      <td>1633.0</td>\n",
       "      <td>0.0</td>\n",
       "      <td>0.0</td>\n",
       "      <td>0.0</td>\n",
       "      <td>596.0</td>\n",
       "      <td>NaN</td>\n",
       "    </tr>\n",
       "    <tr>\n",
       "      <th>2</th>\n",
       "      <td>1</td>\n",
       "      <td>2</td>\n",
       "      <td>9E</td>\n",
       "      <td>20363</td>\n",
       "      <td>9E</td>\n",
       "      <td>N8896A</td>\n",
       "      <td>3282</td>\n",
       "      <td>11433</td>\n",
       "      <td>1143302</td>\n",
       "      <td>DTW</td>\n",
       "      <td>11193</td>\n",
       "      <td>1119302</td>\n",
       "      <td>CVG</td>\n",
       "      <td>1215.0</td>\n",
       "      <td>0.0</td>\n",
       "      <td>1200-1259</td>\n",
       "      <td>1329.0</td>\n",
       "      <td>0.0</td>\n",
       "      <td>0.0</td>\n",
       "      <td>0.0</td>\n",
       "      <td>229.0</td>\n",
       "      <td>NaN</td>\n",
       "    </tr>\n",
       "    <tr>\n",
       "      <th>3</th>\n",
       "      <td>1</td>\n",
       "      <td>2</td>\n",
       "      <td>9E</td>\n",
       "      <td>20363</td>\n",
       "      <td>9E</td>\n",
       "      <td>N8886A</td>\n",
       "      <td>3283</td>\n",
       "      <td>15249</td>\n",
       "      <td>1524906</td>\n",
       "      <td>TLH</td>\n",
       "      <td>10397</td>\n",
       "      <td>1039707</td>\n",
       "      <td>ATL</td>\n",
       "      <td>1521.0</td>\n",
       "      <td>0.0</td>\n",
       "      <td>1500-1559</td>\n",
       "      <td>1625.0</td>\n",
       "      <td>0.0</td>\n",
       "      <td>0.0</td>\n",
       "      <td>0.0</td>\n",
       "      <td>223.0</td>\n",
       "      <td>NaN</td>\n",
       "    </tr>\n",
       "    <tr>\n",
       "      <th>4</th>\n",
       "      <td>1</td>\n",
       "      <td>2</td>\n",
       "      <td>9E</td>\n",
       "      <td>20363</td>\n",
       "      <td>9E</td>\n",
       "      <td>N8974C</td>\n",
       "      <td>3284</td>\n",
       "      <td>10397</td>\n",
       "      <td>1039707</td>\n",
       "      <td>ATL</td>\n",
       "      <td>11778</td>\n",
       "      <td>1177801</td>\n",
       "      <td>FSM</td>\n",
       "      <td>1847.0</td>\n",
       "      <td>0.0</td>\n",
       "      <td>1900-1959</td>\n",
       "      <td>1940.0</td>\n",
       "      <td>0.0</td>\n",
       "      <td>0.0</td>\n",
       "      <td>0.0</td>\n",
       "      <td>579.0</td>\n",
       "      <td>NaN</td>\n",
       "    </tr>\n",
       "  </tbody>\n",
       "</table>\n",
       "</div>\n",
       "      <button class=\"colab-df-convert\" onclick=\"convertToInteractive('df-18bf15e5-bd86-4afc-b496-fa8df9539ccd')\"\n",
       "              title=\"Convert this dataframe to an interactive table.\"\n",
       "              style=\"display:none;\">\n",
       "        \n",
       "  <svg xmlns=\"http://www.w3.org/2000/svg\" height=\"24px\"viewBox=\"0 0 24 24\"\n",
       "       width=\"24px\">\n",
       "    <path d=\"M0 0h24v24H0V0z\" fill=\"none\"/>\n",
       "    <path d=\"M18.56 5.44l.94 2.06.94-2.06 2.06-.94-2.06-.94-.94-2.06-.94 2.06-2.06.94zm-11 1L8.5 8.5l.94-2.06 2.06-.94-2.06-.94L8.5 2.5l-.94 2.06-2.06.94zm10 10l.94 2.06.94-2.06 2.06-.94-2.06-.94-.94-2.06-.94 2.06-2.06.94z\"/><path d=\"M17.41 7.96l-1.37-1.37c-.4-.4-.92-.59-1.43-.59-.52 0-1.04.2-1.43.59L10.3 9.45l-7.72 7.72c-.78.78-.78 2.05 0 2.83L4 21.41c.39.39.9.59 1.41.59.51 0 1.02-.2 1.41-.59l7.78-7.78 2.81-2.81c.8-.78.8-2.07 0-2.86zM5.41 20L4 18.59l7.72-7.72 1.47 1.35L5.41 20z\"/>\n",
       "  </svg>\n",
       "      </button>\n",
       "      \n",
       "  <style>\n",
       "    .colab-df-container {\n",
       "      display:flex;\n",
       "      flex-wrap:wrap;\n",
       "      gap: 12px;\n",
       "    }\n",
       "\n",
       "    .colab-df-convert {\n",
       "      background-color: #E8F0FE;\n",
       "      border: none;\n",
       "      border-radius: 50%;\n",
       "      cursor: pointer;\n",
       "      display: none;\n",
       "      fill: #1967D2;\n",
       "      height: 32px;\n",
       "      padding: 0 0 0 0;\n",
       "      width: 32px;\n",
       "    }\n",
       "\n",
       "    .colab-df-convert:hover {\n",
       "      background-color: #E2EBFA;\n",
       "      box-shadow: 0px 1px 2px rgba(60, 64, 67, 0.3), 0px 1px 3px 1px rgba(60, 64, 67, 0.15);\n",
       "      fill: #174EA6;\n",
       "    }\n",
       "\n",
       "    [theme=dark] .colab-df-convert {\n",
       "      background-color: #3B4455;\n",
       "      fill: #D2E3FC;\n",
       "    }\n",
       "\n",
       "    [theme=dark] .colab-df-convert:hover {\n",
       "      background-color: #434B5C;\n",
       "      box-shadow: 0px 1px 3px 1px rgba(0, 0, 0, 0.15);\n",
       "      filter: drop-shadow(0px 1px 2px rgba(0, 0, 0, 0.3));\n",
       "      fill: #FFFFFF;\n",
       "    }\n",
       "  </style>\n",
       "\n",
       "      <script>\n",
       "        const buttonEl =\n",
       "          document.querySelector('#df-18bf15e5-bd86-4afc-b496-fa8df9539ccd button.colab-df-convert');\n",
       "        buttonEl.style.display =\n",
       "          google.colab.kernel.accessAllowed ? 'block' : 'none';\n",
       "\n",
       "        async function convertToInteractive(key) {\n",
       "          const element = document.querySelector('#df-18bf15e5-bd86-4afc-b496-fa8df9539ccd');\n",
       "          const dataTable =\n",
       "            await google.colab.kernel.invokeFunction('convertToInteractive',\n",
       "                                                     [key], {});\n",
       "          if (!dataTable) return;\n",
       "\n",
       "          const docLinkHtml = 'Like what you see? Visit the ' +\n",
       "            '<a target=\"_blank\" href=https://colab.research.google.com/notebooks/data_table.ipynb>data table notebook</a>'\n",
       "            + ' to learn more about interactive tables.';\n",
       "          element.innerHTML = '';\n",
       "          dataTable['output_type'] = 'display_data';\n",
       "          await google.colab.output.renderOutput(dataTable, element);\n",
       "          const docLink = document.createElement('div');\n",
       "          docLink.innerHTML = docLinkHtml;\n",
       "          element.appendChild(docLink);\n",
       "        }\n",
       "      </script>\n",
       "    </div>\n",
       "  </div>\n",
       "  "
      ],
      "text/plain": [
       "   DAY_OF_MONTH  DAY_OF_WEEK OP_UNIQUE_CARRIER  OP_CARRIER_AIRLINE_ID  \\\n",
       "0             1            2                9E                  20363   \n",
       "1             1            2                9E                  20363   \n",
       "2             1            2                9E                  20363   \n",
       "3             1            2                9E                  20363   \n",
       "4             1            2                9E                  20363   \n",
       "\n",
       "  OP_CARRIER TAIL_NUM  OP_CARRIER_FL_NUM  ORIGIN_AIRPORT_ID  \\\n",
       "0         9E   N8688C               3280              11953   \n",
       "1         9E   N348PQ               3281              13487   \n",
       "2         9E   N8896A               3282              11433   \n",
       "3         9E   N8886A               3283              15249   \n",
       "4         9E   N8974C               3284              10397   \n",
       "\n",
       "   ORIGIN_AIRPORT_SEQ_ID ORIGIN  DEST_AIRPORT_ID  DEST_AIRPORT_SEQ_ID DEST  \\\n",
       "0                1195302    GNV            10397              1039707  ATL   \n",
       "1                1348702    MSP            11193              1119302  CVG   \n",
       "2                1143302    DTW            11193              1119302  CVG   \n",
       "3                1524906    TLH            10397              1039707  ATL   \n",
       "4                1039707    ATL            11778              1177801  FSM   \n",
       "\n",
       "   DEP_TIME  DEP_DEL15 DEP_TIME_BLK  ARR_TIME  ARR_DEL15  CANCELLED  DIVERTED  \\\n",
       "0     601.0        0.0    0600-0659     722.0        0.0        0.0       0.0   \n",
       "1    1359.0        0.0    1400-1459    1633.0        0.0        0.0       0.0   \n",
       "2    1215.0        0.0    1200-1259    1329.0        0.0        0.0       0.0   \n",
       "3    1521.0        0.0    1500-1559    1625.0        0.0        0.0       0.0   \n",
       "4    1847.0        0.0    1900-1959    1940.0        0.0        0.0       0.0   \n",
       "\n",
       "   DISTANCE  Unnamed: 21  \n",
       "0     300.0          NaN  \n",
       "1     596.0          NaN  \n",
       "2     229.0          NaN  \n",
       "3     223.0          NaN  \n",
       "4     579.0          NaN  "
      ]
     },
     "execution_count": 11,
     "metadata": {},
     "output_type": "execute_result"
    }
   ],
   "source": [
    "jan_2019_df.head(5)"
   ]
  },
  {
   "cell_type": "code",
   "execution_count": 12,
   "metadata": {
    "colab": {
     "base_uri": "https://localhost:8080/",
     "height": 288
    },
    "executionInfo": {
     "elapsed": 82,
     "status": "ok",
     "timestamp": 1674071243047,
     "user": {
      "displayName": "satwik gupta",
      "userId": "11579781950189161815"
     },
     "user_tz": -330
    },
    "id": "wKWdYpiCsG1Y",
    "outputId": "0f929569-9f13-4b2b-977d-975d2c67b187"
   },
   "outputs": [
    {
     "data": {
      "text/html": [
       "\n",
       "  <div id=\"df-dc17d978-1f5d-4f93-91b8-ea1a5892dded\">\n",
       "    <div class=\"colab-df-container\">\n",
       "      <div>\n",
       "<style scoped>\n",
       "    .dataframe tbody tr th:only-of-type {\n",
       "        vertical-align: middle;\n",
       "    }\n",
       "\n",
       "    .dataframe tbody tr th {\n",
       "        vertical-align: top;\n",
       "    }\n",
       "\n",
       "    .dataframe thead th {\n",
       "        text-align: right;\n",
       "    }\n",
       "</style>\n",
       "<table border=\"1\" class=\"dataframe\">\n",
       "  <thead>\n",
       "    <tr style=\"text-align: right;\">\n",
       "      <th></th>\n",
       "      <th>DAY_OF_MONTH</th>\n",
       "      <th>DAY_OF_WEEK</th>\n",
       "      <th>OP_UNIQUE_CARRIER</th>\n",
       "      <th>OP_CARRIER_AIRLINE_ID</th>\n",
       "      <th>OP_CARRIER</th>\n",
       "      <th>TAIL_NUM</th>\n",
       "      <th>OP_CARRIER_FL_NUM</th>\n",
       "      <th>ORIGIN_AIRPORT_ID</th>\n",
       "      <th>ORIGIN_AIRPORT_SEQ_ID</th>\n",
       "      <th>ORIGIN</th>\n",
       "      <th>DEST_AIRPORT_ID</th>\n",
       "      <th>DEST_AIRPORT_SEQ_ID</th>\n",
       "      <th>DEST</th>\n",
       "      <th>DEP_TIME</th>\n",
       "      <th>DEP_DEL15</th>\n",
       "      <th>DEP_TIME_BLK</th>\n",
       "      <th>ARR_TIME</th>\n",
       "      <th>ARR_DEL15</th>\n",
       "      <th>CANCELLED</th>\n",
       "      <th>DIVERTED</th>\n",
       "      <th>DISTANCE</th>\n",
       "      <th>Unnamed: 21</th>\n",
       "    </tr>\n",
       "  </thead>\n",
       "  <tbody>\n",
       "    <tr>\n",
       "      <th>0</th>\n",
       "      <td>1</td>\n",
       "      <td>3</td>\n",
       "      <td>EV</td>\n",
       "      <td>20366</td>\n",
       "      <td>EV</td>\n",
       "      <td>N48901</td>\n",
       "      <td>4397</td>\n",
       "      <td>13930</td>\n",
       "      <td>1393007</td>\n",
       "      <td>ORD</td>\n",
       "      <td>11977</td>\n",
       "      <td>1197705</td>\n",
       "      <td>GRB</td>\n",
       "      <td>1003.0</td>\n",
       "      <td>0.0</td>\n",
       "      <td>1000-1059</td>\n",
       "      <td>1117.0</td>\n",
       "      <td>0.0</td>\n",
       "      <td>0.0</td>\n",
       "      <td>0.0</td>\n",
       "      <td>174.0</td>\n",
       "      <td>NaN</td>\n",
       "    </tr>\n",
       "    <tr>\n",
       "      <th>1</th>\n",
       "      <td>1</td>\n",
       "      <td>3</td>\n",
       "      <td>EV</td>\n",
       "      <td>20366</td>\n",
       "      <td>EV</td>\n",
       "      <td>N16976</td>\n",
       "      <td>4401</td>\n",
       "      <td>15370</td>\n",
       "      <td>1537002</td>\n",
       "      <td>TUL</td>\n",
       "      <td>13930</td>\n",
       "      <td>1393007</td>\n",
       "      <td>ORD</td>\n",
       "      <td>1027.0</td>\n",
       "      <td>0.0</td>\n",
       "      <td>1000-1059</td>\n",
       "      <td>1216.0</td>\n",
       "      <td>0.0</td>\n",
       "      <td>0.0</td>\n",
       "      <td>0.0</td>\n",
       "      <td>585.0</td>\n",
       "      <td>NaN</td>\n",
       "    </tr>\n",
       "    <tr>\n",
       "      <th>2</th>\n",
       "      <td>1</td>\n",
       "      <td>3</td>\n",
       "      <td>EV</td>\n",
       "      <td>20366</td>\n",
       "      <td>EV</td>\n",
       "      <td>N12167</td>\n",
       "      <td>4404</td>\n",
       "      <td>11618</td>\n",
       "      <td>1161802</td>\n",
       "      <td>EWR</td>\n",
       "      <td>15412</td>\n",
       "      <td>1541205</td>\n",
       "      <td>TYS</td>\n",
       "      <td>1848.0</td>\n",
       "      <td>0.0</td>\n",
       "      <td>1800-1859</td>\n",
       "      <td>2120.0</td>\n",
       "      <td>0.0</td>\n",
       "      <td>0.0</td>\n",
       "      <td>0.0</td>\n",
       "      <td>631.0</td>\n",
       "      <td>NaN</td>\n",
       "    </tr>\n",
       "    <tr>\n",
       "      <th>3</th>\n",
       "      <td>1</td>\n",
       "      <td>3</td>\n",
       "      <td>EV</td>\n",
       "      <td>20366</td>\n",
       "      <td>EV</td>\n",
       "      <td>N14902</td>\n",
       "      <td>4405</td>\n",
       "      <td>10781</td>\n",
       "      <td>1078105</td>\n",
       "      <td>BTR</td>\n",
       "      <td>12266</td>\n",
       "      <td>1226603</td>\n",
       "      <td>IAH</td>\n",
       "      <td>1846.0</td>\n",
       "      <td>0.0</td>\n",
       "      <td>1800-1859</td>\n",
       "      <td>2004.0</td>\n",
       "      <td>0.0</td>\n",
       "      <td>0.0</td>\n",
       "      <td>0.0</td>\n",
       "      <td>253.0</td>\n",
       "      <td>NaN</td>\n",
       "    </tr>\n",
       "    <tr>\n",
       "      <th>4</th>\n",
       "      <td>1</td>\n",
       "      <td>3</td>\n",
       "      <td>EV</td>\n",
       "      <td>20366</td>\n",
       "      <td>EV</td>\n",
       "      <td>N606UX</td>\n",
       "      <td>4407</td>\n",
       "      <td>14524</td>\n",
       "      <td>1452401</td>\n",
       "      <td>RIC</td>\n",
       "      <td>12266</td>\n",
       "      <td>1226603</td>\n",
       "      <td>IAH</td>\n",
       "      <td>1038.0</td>\n",
       "      <td>0.0</td>\n",
       "      <td>1000-1059</td>\n",
       "      <td>1330.0</td>\n",
       "      <td>0.0</td>\n",
       "      <td>0.0</td>\n",
       "      <td>0.0</td>\n",
       "      <td>1157.0</td>\n",
       "      <td>NaN</td>\n",
       "    </tr>\n",
       "  </tbody>\n",
       "</table>\n",
       "</div>\n",
       "      <button class=\"colab-df-convert\" onclick=\"convertToInteractive('df-dc17d978-1f5d-4f93-91b8-ea1a5892dded')\"\n",
       "              title=\"Convert this dataframe to an interactive table.\"\n",
       "              style=\"display:none;\">\n",
       "        \n",
       "  <svg xmlns=\"http://www.w3.org/2000/svg\" height=\"24px\"viewBox=\"0 0 24 24\"\n",
       "       width=\"24px\">\n",
       "    <path d=\"M0 0h24v24H0V0z\" fill=\"none\"/>\n",
       "    <path d=\"M18.56 5.44l.94 2.06.94-2.06 2.06-.94-2.06-.94-.94-2.06-.94 2.06-2.06.94zm-11 1L8.5 8.5l.94-2.06 2.06-.94-2.06-.94L8.5 2.5l-.94 2.06-2.06.94zm10 10l.94 2.06.94-2.06 2.06-.94-2.06-.94-.94-2.06-.94 2.06-2.06.94z\"/><path d=\"M17.41 7.96l-1.37-1.37c-.4-.4-.92-.59-1.43-.59-.52 0-1.04.2-1.43.59L10.3 9.45l-7.72 7.72c-.78.78-.78 2.05 0 2.83L4 21.41c.39.39.9.59 1.41.59.51 0 1.02-.2 1.41-.59l7.78-7.78 2.81-2.81c.8-.78.8-2.07 0-2.86zM5.41 20L4 18.59l7.72-7.72 1.47 1.35L5.41 20z\"/>\n",
       "  </svg>\n",
       "      </button>\n",
       "      \n",
       "  <style>\n",
       "    .colab-df-container {\n",
       "      display:flex;\n",
       "      flex-wrap:wrap;\n",
       "      gap: 12px;\n",
       "    }\n",
       "\n",
       "    .colab-df-convert {\n",
       "      background-color: #E8F0FE;\n",
       "      border: none;\n",
       "      border-radius: 50%;\n",
       "      cursor: pointer;\n",
       "      display: none;\n",
       "      fill: #1967D2;\n",
       "      height: 32px;\n",
       "      padding: 0 0 0 0;\n",
       "      width: 32px;\n",
       "    }\n",
       "\n",
       "    .colab-df-convert:hover {\n",
       "      background-color: #E2EBFA;\n",
       "      box-shadow: 0px 1px 2px rgba(60, 64, 67, 0.3), 0px 1px 3px 1px rgba(60, 64, 67, 0.15);\n",
       "      fill: #174EA6;\n",
       "    }\n",
       "\n",
       "    [theme=dark] .colab-df-convert {\n",
       "      background-color: #3B4455;\n",
       "      fill: #D2E3FC;\n",
       "    }\n",
       "\n",
       "    [theme=dark] .colab-df-convert:hover {\n",
       "      background-color: #434B5C;\n",
       "      box-shadow: 0px 1px 3px 1px rgba(0, 0, 0, 0.15);\n",
       "      filter: drop-shadow(0px 1px 2px rgba(0, 0, 0, 0.3));\n",
       "      fill: #FFFFFF;\n",
       "    }\n",
       "  </style>\n",
       "\n",
       "      <script>\n",
       "        const buttonEl =\n",
       "          document.querySelector('#df-dc17d978-1f5d-4f93-91b8-ea1a5892dded button.colab-df-convert');\n",
       "        buttonEl.style.display =\n",
       "          google.colab.kernel.accessAllowed ? 'block' : 'none';\n",
       "\n",
       "        async function convertToInteractive(key) {\n",
       "          const element = document.querySelector('#df-dc17d978-1f5d-4f93-91b8-ea1a5892dded');\n",
       "          const dataTable =\n",
       "            await google.colab.kernel.invokeFunction('convertToInteractive',\n",
       "                                                     [key], {});\n",
       "          if (!dataTable) return;\n",
       "\n",
       "          const docLinkHtml = 'Like what you see? Visit the ' +\n",
       "            '<a target=\"_blank\" href=https://colab.research.google.com/notebooks/data_table.ipynb>data table notebook</a>'\n",
       "            + ' to learn more about interactive tables.';\n",
       "          element.innerHTML = '';\n",
       "          dataTable['output_type'] = 'display_data';\n",
       "          await google.colab.output.renderOutput(dataTable, element);\n",
       "          const docLink = document.createElement('div');\n",
       "          docLink.innerHTML = docLinkHtml;\n",
       "          element.appendChild(docLink);\n",
       "        }\n",
       "      </script>\n",
       "    </div>\n",
       "  </div>\n",
       "  "
      ],
      "text/plain": [
       "   DAY_OF_MONTH  DAY_OF_WEEK OP_UNIQUE_CARRIER  OP_CARRIER_AIRLINE_ID  \\\n",
       "0             1            3                EV                  20366   \n",
       "1             1            3                EV                  20366   \n",
       "2             1            3                EV                  20366   \n",
       "3             1            3                EV                  20366   \n",
       "4             1            3                EV                  20366   \n",
       "\n",
       "  OP_CARRIER TAIL_NUM  OP_CARRIER_FL_NUM  ORIGIN_AIRPORT_ID  \\\n",
       "0         EV   N48901               4397              13930   \n",
       "1         EV   N16976               4401              15370   \n",
       "2         EV   N12167               4404              11618   \n",
       "3         EV   N14902               4405              10781   \n",
       "4         EV   N606UX               4407              14524   \n",
       "\n",
       "   ORIGIN_AIRPORT_SEQ_ID ORIGIN  DEST_AIRPORT_ID  DEST_AIRPORT_SEQ_ID DEST  \\\n",
       "0                1393007    ORD            11977              1197705  GRB   \n",
       "1                1537002    TUL            13930              1393007  ORD   \n",
       "2                1161802    EWR            15412              1541205  TYS   \n",
       "3                1078105    BTR            12266              1226603  IAH   \n",
       "4                1452401    RIC            12266              1226603  IAH   \n",
       "\n",
       "   DEP_TIME  DEP_DEL15 DEP_TIME_BLK  ARR_TIME  ARR_DEL15  CANCELLED  DIVERTED  \\\n",
       "0    1003.0        0.0    1000-1059    1117.0        0.0        0.0       0.0   \n",
       "1    1027.0        0.0    1000-1059    1216.0        0.0        0.0       0.0   \n",
       "2    1848.0        0.0    1800-1859    2120.0        0.0        0.0       0.0   \n",
       "3    1846.0        0.0    1800-1859    2004.0        0.0        0.0       0.0   \n",
       "4    1038.0        0.0    1000-1059    1330.0        0.0        0.0       0.0   \n",
       "\n",
       "   DISTANCE  Unnamed: 21  \n",
       "0     174.0          NaN  \n",
       "1     585.0          NaN  \n",
       "2     631.0          NaN  \n",
       "3     253.0          NaN  \n",
       "4    1157.0          NaN  "
      ]
     },
     "execution_count": 12,
     "metadata": {},
     "output_type": "execute_result"
    }
   ],
   "source": [
    "jan_2020_df.head(5)"
   ]
  },
  {
   "cell_type": "markdown",
   "metadata": {
    "id": "iKj1PDg3t2-x"
   },
   "source": [
    "Now we can combine the data from two dataframes into a new dataframe for further processing. Concatenation along row axis is done here."
   ]
  },
  {
   "cell_type": "code",
   "execution_count": 13,
   "metadata": {
    "colab": {
     "base_uri": "https://localhost:8080/",
     "height": 505
    },
    "executionInfo": {
     "elapsed": 662,
     "status": "ok",
     "timestamp": 1674071243634,
     "user": {
      "displayName": "satwik gupta",
      "userId": "11579781950189161815"
     },
     "user_tz": -330
    },
    "id": "TbOI6buct2-y",
    "outputId": "8b10a0eb-06c0-4f13-e562-d75a7f1a50c5"
   },
   "outputs": [
    {
     "data": {
      "text/html": [
       "\n",
       "  <div id=\"df-aa558bde-e413-469b-b164-88e1ea81cd5b\">\n",
       "    <div class=\"colab-df-container\">\n",
       "      <div>\n",
       "<style scoped>\n",
       "    .dataframe tbody tr th:only-of-type {\n",
       "        vertical-align: middle;\n",
       "    }\n",
       "\n",
       "    .dataframe tbody tr th {\n",
       "        vertical-align: top;\n",
       "    }\n",
       "\n",
       "    .dataframe thead th {\n",
       "        text-align: right;\n",
       "    }\n",
       "</style>\n",
       "<table border=\"1\" class=\"dataframe\">\n",
       "  <thead>\n",
       "    <tr style=\"text-align: right;\">\n",
       "      <th></th>\n",
       "      <th>DAY_OF_MONTH</th>\n",
       "      <th>DAY_OF_WEEK</th>\n",
       "      <th>OP_UNIQUE_CARRIER</th>\n",
       "      <th>OP_CARRIER_AIRLINE_ID</th>\n",
       "      <th>OP_CARRIER</th>\n",
       "      <th>TAIL_NUM</th>\n",
       "      <th>OP_CARRIER_FL_NUM</th>\n",
       "      <th>ORIGIN_AIRPORT_ID</th>\n",
       "      <th>ORIGIN_AIRPORT_SEQ_ID</th>\n",
       "      <th>ORIGIN</th>\n",
       "      <th>DEST_AIRPORT_ID</th>\n",
       "      <th>DEST_AIRPORT_SEQ_ID</th>\n",
       "      <th>DEST</th>\n",
       "      <th>DEP_TIME</th>\n",
       "      <th>DEP_DEL15</th>\n",
       "      <th>DEP_TIME_BLK</th>\n",
       "      <th>ARR_TIME</th>\n",
       "      <th>ARR_DEL15</th>\n",
       "      <th>CANCELLED</th>\n",
       "      <th>DIVERTED</th>\n",
       "      <th>DISTANCE</th>\n",
       "      <th>Unnamed: 21</th>\n",
       "    </tr>\n",
       "  </thead>\n",
       "  <tbody>\n",
       "    <tr>\n",
       "      <th>0</th>\n",
       "      <td>1</td>\n",
       "      <td>2</td>\n",
       "      <td>9E</td>\n",
       "      <td>20363</td>\n",
       "      <td>9E</td>\n",
       "      <td>N8688C</td>\n",
       "      <td>3280</td>\n",
       "      <td>11953</td>\n",
       "      <td>1195302</td>\n",
       "      <td>GNV</td>\n",
       "      <td>10397</td>\n",
       "      <td>1039707</td>\n",
       "      <td>ATL</td>\n",
       "      <td>601.0</td>\n",
       "      <td>0.0</td>\n",
       "      <td>0600-0659</td>\n",
       "      <td>722.0</td>\n",
       "      <td>0.0</td>\n",
       "      <td>0.0</td>\n",
       "      <td>0.0</td>\n",
       "      <td>300.0</td>\n",
       "      <td>NaN</td>\n",
       "    </tr>\n",
       "    <tr>\n",
       "      <th>1</th>\n",
       "      <td>1</td>\n",
       "      <td>2</td>\n",
       "      <td>9E</td>\n",
       "      <td>20363</td>\n",
       "      <td>9E</td>\n",
       "      <td>N348PQ</td>\n",
       "      <td>3281</td>\n",
       "      <td>13487</td>\n",
       "      <td>1348702</td>\n",
       "      <td>MSP</td>\n",
       "      <td>11193</td>\n",
       "      <td>1119302</td>\n",
       "      <td>CVG</td>\n",
       "      <td>1359.0</td>\n",
       "      <td>0.0</td>\n",
       "      <td>1400-1459</td>\n",
       "      <td>1633.0</td>\n",
       "      <td>0.0</td>\n",
       "      <td>0.0</td>\n",
       "      <td>0.0</td>\n",
       "      <td>596.0</td>\n",
       "      <td>NaN</td>\n",
       "    </tr>\n",
       "    <tr>\n",
       "      <th>2</th>\n",
       "      <td>1</td>\n",
       "      <td>2</td>\n",
       "      <td>9E</td>\n",
       "      <td>20363</td>\n",
       "      <td>9E</td>\n",
       "      <td>N8896A</td>\n",
       "      <td>3282</td>\n",
       "      <td>11433</td>\n",
       "      <td>1143302</td>\n",
       "      <td>DTW</td>\n",
       "      <td>11193</td>\n",
       "      <td>1119302</td>\n",
       "      <td>CVG</td>\n",
       "      <td>1215.0</td>\n",
       "      <td>0.0</td>\n",
       "      <td>1200-1259</td>\n",
       "      <td>1329.0</td>\n",
       "      <td>0.0</td>\n",
       "      <td>0.0</td>\n",
       "      <td>0.0</td>\n",
       "      <td>229.0</td>\n",
       "      <td>NaN</td>\n",
       "    </tr>\n",
       "    <tr>\n",
       "      <th>3</th>\n",
       "      <td>1</td>\n",
       "      <td>2</td>\n",
       "      <td>9E</td>\n",
       "      <td>20363</td>\n",
       "      <td>9E</td>\n",
       "      <td>N8886A</td>\n",
       "      <td>3283</td>\n",
       "      <td>15249</td>\n",
       "      <td>1524906</td>\n",
       "      <td>TLH</td>\n",
       "      <td>10397</td>\n",
       "      <td>1039707</td>\n",
       "      <td>ATL</td>\n",
       "      <td>1521.0</td>\n",
       "      <td>0.0</td>\n",
       "      <td>1500-1559</td>\n",
       "      <td>1625.0</td>\n",
       "      <td>0.0</td>\n",
       "      <td>0.0</td>\n",
       "      <td>0.0</td>\n",
       "      <td>223.0</td>\n",
       "      <td>NaN</td>\n",
       "    </tr>\n",
       "    <tr>\n",
       "      <th>4</th>\n",
       "      <td>1</td>\n",
       "      <td>2</td>\n",
       "      <td>9E</td>\n",
       "      <td>20363</td>\n",
       "      <td>9E</td>\n",
       "      <td>N8974C</td>\n",
       "      <td>3284</td>\n",
       "      <td>10397</td>\n",
       "      <td>1039707</td>\n",
       "      <td>ATL</td>\n",
       "      <td>11778</td>\n",
       "      <td>1177801</td>\n",
       "      <td>FSM</td>\n",
       "      <td>1847.0</td>\n",
       "      <td>0.0</td>\n",
       "      <td>1900-1959</td>\n",
       "      <td>1940.0</td>\n",
       "      <td>0.0</td>\n",
       "      <td>0.0</td>\n",
       "      <td>0.0</td>\n",
       "      <td>579.0</td>\n",
       "      <td>NaN</td>\n",
       "    </tr>\n",
       "    <tr>\n",
       "      <th>...</th>\n",
       "      <td>...</td>\n",
       "      <td>...</td>\n",
       "      <td>...</td>\n",
       "      <td>...</td>\n",
       "      <td>...</td>\n",
       "      <td>...</td>\n",
       "      <td>...</td>\n",
       "      <td>...</td>\n",
       "      <td>...</td>\n",
       "      <td>...</td>\n",
       "      <td>...</td>\n",
       "      <td>...</td>\n",
       "      <td>...</td>\n",
       "      <td>...</td>\n",
       "      <td>...</td>\n",
       "      <td>...</td>\n",
       "      <td>...</td>\n",
       "      <td>...</td>\n",
       "      <td>...</td>\n",
       "      <td>...</td>\n",
       "      <td>...</td>\n",
       "      <td>...</td>\n",
       "    </tr>\n",
       "    <tr>\n",
       "      <th>1191326</th>\n",
       "      <td>31</td>\n",
       "      <td>5</td>\n",
       "      <td>9E</td>\n",
       "      <td>20363</td>\n",
       "      <td>9E</td>\n",
       "      <td>N331CA</td>\n",
       "      <td>4812</td>\n",
       "      <td>15412</td>\n",
       "      <td>1541205</td>\n",
       "      <td>TYS</td>\n",
       "      <td>11433</td>\n",
       "      <td>1143302</td>\n",
       "      <td>DTW</td>\n",
       "      <td>1002.0</td>\n",
       "      <td>1.0</td>\n",
       "      <td>0700-0759</td>\n",
       "      <td>1128.0</td>\n",
       "      <td>1.0</td>\n",
       "      <td>0.0</td>\n",
       "      <td>0.0</td>\n",
       "      <td>443.0</td>\n",
       "      <td>NaN</td>\n",
       "    </tr>\n",
       "    <tr>\n",
       "      <th>1191327</th>\n",
       "      <td>31</td>\n",
       "      <td>5</td>\n",
       "      <td>9E</td>\n",
       "      <td>20363</td>\n",
       "      <td>9E</td>\n",
       "      <td>N295PQ</td>\n",
       "      <td>4813</td>\n",
       "      <td>11433</td>\n",
       "      <td>1143302</td>\n",
       "      <td>DTW</td>\n",
       "      <td>12478</td>\n",
       "      <td>1247805</td>\n",
       "      <td>JFK</td>\n",
       "      <td>1747.0</td>\n",
       "      <td>0.0</td>\n",
       "      <td>1700-1759</td>\n",
       "      <td>1933.0</td>\n",
       "      <td>0.0</td>\n",
       "      <td>0.0</td>\n",
       "      <td>0.0</td>\n",
       "      <td>509.0</td>\n",
       "      <td>NaN</td>\n",
       "    </tr>\n",
       "    <tr>\n",
       "      <th>1191328</th>\n",
       "      <td>31</td>\n",
       "      <td>5</td>\n",
       "      <td>9E</td>\n",
       "      <td>20363</td>\n",
       "      <td>9E</td>\n",
       "      <td>N294PQ</td>\n",
       "      <td>4814</td>\n",
       "      <td>11996</td>\n",
       "      <td>1199603</td>\n",
       "      <td>GSP</td>\n",
       "      <td>12953</td>\n",
       "      <td>1295304</td>\n",
       "      <td>LGA</td>\n",
       "      <td>554.0</td>\n",
       "      <td>0.0</td>\n",
       "      <td>0600-0659</td>\n",
       "      <td>752.0</td>\n",
       "      <td>0.0</td>\n",
       "      <td>0.0</td>\n",
       "      <td>0.0</td>\n",
       "      <td>610.0</td>\n",
       "      <td>NaN</td>\n",
       "    </tr>\n",
       "    <tr>\n",
       "      <th>1191329</th>\n",
       "      <td>31</td>\n",
       "      <td>5</td>\n",
       "      <td>9E</td>\n",
       "      <td>20363</td>\n",
       "      <td>9E</td>\n",
       "      <td>N228PQ</td>\n",
       "      <td>4815</td>\n",
       "      <td>10397</td>\n",
       "      <td>1039707</td>\n",
       "      <td>ATL</td>\n",
       "      <td>15919</td>\n",
       "      <td>1591904</td>\n",
       "      <td>XNA</td>\n",
       "      <td>1714.0</td>\n",
       "      <td>0.0</td>\n",
       "      <td>1700-1759</td>\n",
       "      <td>1811.0</td>\n",
       "      <td>0.0</td>\n",
       "      <td>0.0</td>\n",
       "      <td>0.0</td>\n",
       "      <td>589.0</td>\n",
       "      <td>NaN</td>\n",
       "    </tr>\n",
       "    <tr>\n",
       "      <th>1191330</th>\n",
       "      <td>31</td>\n",
       "      <td>5</td>\n",
       "      <td>9E</td>\n",
       "      <td>20363</td>\n",
       "      <td>9E</td>\n",
       "      <td>N228PQ</td>\n",
       "      <td>4815</td>\n",
       "      <td>15919</td>\n",
       "      <td>1591904</td>\n",
       "      <td>XNA</td>\n",
       "      <td>10397</td>\n",
       "      <td>1039707</td>\n",
       "      <td>ATL</td>\n",
       "      <td>1841.0</td>\n",
       "      <td>0.0</td>\n",
       "      <td>1800-1859</td>\n",
       "      <td>2128.0</td>\n",
       "      <td>0.0</td>\n",
       "      <td>0.0</td>\n",
       "      <td>0.0</td>\n",
       "      <td>589.0</td>\n",
       "      <td>NaN</td>\n",
       "    </tr>\n",
       "  </tbody>\n",
       "</table>\n",
       "<p>1191331 rows × 22 columns</p>\n",
       "</div>\n",
       "      <button class=\"colab-df-convert\" onclick=\"convertToInteractive('df-aa558bde-e413-469b-b164-88e1ea81cd5b')\"\n",
       "              title=\"Convert this dataframe to an interactive table.\"\n",
       "              style=\"display:none;\">\n",
       "        \n",
       "  <svg xmlns=\"http://www.w3.org/2000/svg\" height=\"24px\"viewBox=\"0 0 24 24\"\n",
       "       width=\"24px\">\n",
       "    <path d=\"M0 0h24v24H0V0z\" fill=\"none\"/>\n",
       "    <path d=\"M18.56 5.44l.94 2.06.94-2.06 2.06-.94-2.06-.94-.94-2.06-.94 2.06-2.06.94zm-11 1L8.5 8.5l.94-2.06 2.06-.94-2.06-.94L8.5 2.5l-.94 2.06-2.06.94zm10 10l.94 2.06.94-2.06 2.06-.94-2.06-.94-.94-2.06-.94 2.06-2.06.94z\"/><path d=\"M17.41 7.96l-1.37-1.37c-.4-.4-.92-.59-1.43-.59-.52 0-1.04.2-1.43.59L10.3 9.45l-7.72 7.72c-.78.78-.78 2.05 0 2.83L4 21.41c.39.39.9.59 1.41.59.51 0 1.02-.2 1.41-.59l7.78-7.78 2.81-2.81c.8-.78.8-2.07 0-2.86zM5.41 20L4 18.59l7.72-7.72 1.47 1.35L5.41 20z\"/>\n",
       "  </svg>\n",
       "      </button>\n",
       "      \n",
       "  <style>\n",
       "    .colab-df-container {\n",
       "      display:flex;\n",
       "      flex-wrap:wrap;\n",
       "      gap: 12px;\n",
       "    }\n",
       "\n",
       "    .colab-df-convert {\n",
       "      background-color: #E8F0FE;\n",
       "      border: none;\n",
       "      border-radius: 50%;\n",
       "      cursor: pointer;\n",
       "      display: none;\n",
       "      fill: #1967D2;\n",
       "      height: 32px;\n",
       "      padding: 0 0 0 0;\n",
       "      width: 32px;\n",
       "    }\n",
       "\n",
       "    .colab-df-convert:hover {\n",
       "      background-color: #E2EBFA;\n",
       "      box-shadow: 0px 1px 2px rgba(60, 64, 67, 0.3), 0px 1px 3px 1px rgba(60, 64, 67, 0.15);\n",
       "      fill: #174EA6;\n",
       "    }\n",
       "\n",
       "    [theme=dark] .colab-df-convert {\n",
       "      background-color: #3B4455;\n",
       "      fill: #D2E3FC;\n",
       "    }\n",
       "\n",
       "    [theme=dark] .colab-df-convert:hover {\n",
       "      background-color: #434B5C;\n",
       "      box-shadow: 0px 1px 3px 1px rgba(0, 0, 0, 0.15);\n",
       "      filter: drop-shadow(0px 1px 2px rgba(0, 0, 0, 0.3));\n",
       "      fill: #FFFFFF;\n",
       "    }\n",
       "  </style>\n",
       "\n",
       "      <script>\n",
       "        const buttonEl =\n",
       "          document.querySelector('#df-aa558bde-e413-469b-b164-88e1ea81cd5b button.colab-df-convert');\n",
       "        buttonEl.style.display =\n",
       "          google.colab.kernel.accessAllowed ? 'block' : 'none';\n",
       "\n",
       "        async function convertToInteractive(key) {\n",
       "          const element = document.querySelector('#df-aa558bde-e413-469b-b164-88e1ea81cd5b');\n",
       "          const dataTable =\n",
       "            await google.colab.kernel.invokeFunction('convertToInteractive',\n",
       "                                                     [key], {});\n",
       "          if (!dataTable) return;\n",
       "\n",
       "          const docLinkHtml = 'Like what you see? Visit the ' +\n",
       "            '<a target=\"_blank\" href=https://colab.research.google.com/notebooks/data_table.ipynb>data table notebook</a>'\n",
       "            + ' to learn more about interactive tables.';\n",
       "          element.innerHTML = '';\n",
       "          dataTable['output_type'] = 'display_data';\n",
       "          await google.colab.output.renderOutput(dataTable, element);\n",
       "          const docLink = document.createElement('div');\n",
       "          docLink.innerHTML = docLinkHtml;\n",
       "          element.appendChild(docLink);\n",
       "        }\n",
       "      </script>\n",
       "    </div>\n",
       "  </div>\n",
       "  "
      ],
      "text/plain": [
       "         DAY_OF_MONTH  DAY_OF_WEEK OP_UNIQUE_CARRIER  OP_CARRIER_AIRLINE_ID  \\\n",
       "0                   1            2                9E                  20363   \n",
       "1                   1            2                9E                  20363   \n",
       "2                   1            2                9E                  20363   \n",
       "3                   1            2                9E                  20363   \n",
       "4                   1            2                9E                  20363   \n",
       "...               ...          ...               ...                    ...   \n",
       "1191326            31            5                9E                  20363   \n",
       "1191327            31            5                9E                  20363   \n",
       "1191328            31            5                9E                  20363   \n",
       "1191329            31            5                9E                  20363   \n",
       "1191330            31            5                9E                  20363   \n",
       "\n",
       "        OP_CARRIER TAIL_NUM  OP_CARRIER_FL_NUM  ORIGIN_AIRPORT_ID  \\\n",
       "0               9E   N8688C               3280              11953   \n",
       "1               9E   N348PQ               3281              13487   \n",
       "2               9E   N8896A               3282              11433   \n",
       "3               9E   N8886A               3283              15249   \n",
       "4               9E   N8974C               3284              10397   \n",
       "...            ...      ...                ...                ...   \n",
       "1191326         9E   N331CA               4812              15412   \n",
       "1191327         9E   N295PQ               4813              11433   \n",
       "1191328         9E   N294PQ               4814              11996   \n",
       "1191329         9E   N228PQ               4815              10397   \n",
       "1191330         9E   N228PQ               4815              15919   \n",
       "\n",
       "         ORIGIN_AIRPORT_SEQ_ID ORIGIN  DEST_AIRPORT_ID  DEST_AIRPORT_SEQ_ID  \\\n",
       "0                      1195302    GNV            10397              1039707   \n",
       "1                      1348702    MSP            11193              1119302   \n",
       "2                      1143302    DTW            11193              1119302   \n",
       "3                      1524906    TLH            10397              1039707   \n",
       "4                      1039707    ATL            11778              1177801   \n",
       "...                        ...    ...              ...                  ...   \n",
       "1191326                1541205    TYS            11433              1143302   \n",
       "1191327                1143302    DTW            12478              1247805   \n",
       "1191328                1199603    GSP            12953              1295304   \n",
       "1191329                1039707    ATL            15919              1591904   \n",
       "1191330                1591904    XNA            10397              1039707   \n",
       "\n",
       "        DEST  DEP_TIME  DEP_DEL15 DEP_TIME_BLK  ARR_TIME  ARR_DEL15  \\\n",
       "0        ATL     601.0        0.0    0600-0659     722.0        0.0   \n",
       "1        CVG    1359.0        0.0    1400-1459    1633.0        0.0   \n",
       "2        CVG    1215.0        0.0    1200-1259    1329.0        0.0   \n",
       "3        ATL    1521.0        0.0    1500-1559    1625.0        0.0   \n",
       "4        FSM    1847.0        0.0    1900-1959    1940.0        0.0   \n",
       "...      ...       ...        ...          ...       ...        ...   \n",
       "1191326  DTW    1002.0        1.0    0700-0759    1128.0        1.0   \n",
       "1191327  JFK    1747.0        0.0    1700-1759    1933.0        0.0   \n",
       "1191328  LGA     554.0        0.0    0600-0659     752.0        0.0   \n",
       "1191329  XNA    1714.0        0.0    1700-1759    1811.0        0.0   \n",
       "1191330  ATL    1841.0        0.0    1800-1859    2128.0        0.0   \n",
       "\n",
       "         CANCELLED  DIVERTED  DISTANCE  Unnamed: 21  \n",
       "0              0.0       0.0     300.0          NaN  \n",
       "1              0.0       0.0     596.0          NaN  \n",
       "2              0.0       0.0     229.0          NaN  \n",
       "3              0.0       0.0     223.0          NaN  \n",
       "4              0.0       0.0     579.0          NaN  \n",
       "...            ...       ...       ...          ...  \n",
       "1191326        0.0       0.0     443.0          NaN  \n",
       "1191327        0.0       0.0     509.0          NaN  \n",
       "1191328        0.0       0.0     610.0          NaN  \n",
       "1191329        0.0       0.0     589.0          NaN  \n",
       "1191330        0.0       0.0     589.0          NaN  \n",
       "\n",
       "[1191331 rows x 22 columns]"
      ]
     },
     "execution_count": 13,
     "metadata": {},
     "output_type": "execute_result"
    }
   ],
   "source": [
    "raw_df = pd.concat(objs = [jan_2019_df, jan_2020_df], ignore_index = True)\n",
    "raw_df"
   ]
  },
  {
   "cell_type": "code",
   "execution_count": 13,
   "metadata": {
    "executionInfo": {
     "elapsed": 43,
     "status": "ok",
     "timestamp": 1674071243637,
     "user": {
      "displayName": "satwik gupta",
      "userId": "11579781950189161815"
     },
     "user_tz": -330
    },
    "id": "DITXW0ROt2-y",
    "scrolled": true
   },
   "outputs": [],
   "source": []
  },
  {
   "cell_type": "markdown",
   "metadata": {
    "id": "VzFp-mrNt2-z"
   },
   "source": [
    "## Problem Statement"
   ]
  },
  {
   "cell_type": "markdown",
   "metadata": {
    "id": "XQg_fcR9t2-0"
   },
   "source": [
    "Let's first check the columns of the dataset to get some quick idea and to decide on problem formulation."
   ]
  },
  {
   "cell_type": "markdown",
   "metadata": {
    "id": "W5EexP2Dt2-0"
   },
   "source": [
    "### Dataset"
   ]
  },
  {
   "cell_type": "markdown",
   "metadata": {
    "id": "FabMpIehsG1a"
   },
   "source": [
    "There are 22 columns for the dataset and corresponding column description are given below.  \n",
    "    \n",
    "1. Day of Month\n",
    "2. Day of Week starting from Monday\n",
    "3. Unique Carrier Code. \n",
    "4. An identification number assigned by US DOT to identify a unique airline (carrier). \n",
    "5. Code assigned by IATA and commonly used to identify a carrier. \n",
    "6. Tail Number\n",
    "7. Flight Number\n",
    "8. Origin Airport, Airport ID. An identification number assigned by US DOT to identify a unique airport.\n",
    "9. Origin Airport, Airport Sequence ID. \n",
    "10. Origin Airport\n",
    "11. Destination Airport, Airport ID. An identification number assigned by US DOT to identify a unique airport.\n",
    "12. Destination Airport, Airport Sequence ID. \n",
    "13. Destination Airport.\n",
    "14. Actual Departure Time (local time: hhmm)\n",
    "15. Departure Delay Indicator, 15 Minutes or More (1=Yes, 0=No)\n",
    "16. Departure Time Block, Hourly Intervals\n",
    "17. Actual Arrival Time (local time: hhmm)\n",
    "18. Arrival Delay Indicator, 15 Minutes or More (1=Yes, 0=No)\n",
    "19. Cancelled Flight Indicator (1=Yes, 0=No)\n",
    "20. Diverted Flight Indicator (1=Yes, 0=No)\n",
    "21. Distance between airports (miles)  \n",
    "22. Unnamed: 21 - no description available  "
   ]
  },
  {
   "cell_type": "markdown",
   "metadata": {
    "id": "WQZZiFOqt2-2"
   },
   "source": [
    "### Problem Statement and Objective"
   ]
  },
  {
   "cell_type": "markdown",
   "metadata": {
    "id": "Sek38Prct2-4"
   },
   "source": [
    "From the description of columns one can find scope for many interesting problems such as flight cancellation prediction, flight departure delay prediction, flight arrival delay prediction, diverted flight prediction etc. Let's choose a problem of predicting flight delay on arrival.\n"
   ]
  },
  {
   "cell_type": "markdown",
   "metadata": {
    "id": "k9gPu2_ct2-4"
   },
   "source": [
    "> Our objective is to predict a flight delay of 15 mins or more at arrival airport. "
   ]
  },
  {
   "cell_type": "code",
   "execution_count": 13,
   "metadata": {
    "executionInfo": {
     "elapsed": 43,
     "status": "ok",
     "timestamp": 1674071243639,
     "user": {
      "displayName": "satwik gupta",
      "userId": "11579781950189161815"
     },
     "user_tz": -330
    },
    "id": "MkeY_5wosG1b"
   },
   "outputs": [],
   "source": []
  },
  {
   "cell_type": "markdown",
   "metadata": {
    "id": "FukqNhgBt2-6"
   },
   "source": [
    "## Exploratory Data Analysis, Data Preprocessing and Feature Engineering"
   ]
  },
  {
   "cell_type": "markdown",
   "metadata": {
    "id": "qxZMEUbXroKR"
   },
   "source": [
    "### Data Cleaning and Preprocessing"
   ]
  },
  {
   "cell_type": "markdown",
   "metadata": {
    "id": "WN3QJZNYt2-6"
   },
   "source": [
    "At first we will look at a sample of the data."
   ]
  },
  {
   "cell_type": "code",
   "execution_count": 14,
   "metadata": {
    "colab": {
     "base_uri": "https://localhost:8080/",
     "height": 601
    },
    "executionInfo": {
     "elapsed": 43,
     "status": "ok",
     "timestamp": 1674071243641,
     "user": {
      "displayName": "satwik gupta",
      "userId": "11579781950189161815"
     },
     "user_tz": -330
    },
    "id": "7W7-XuVxt2-6",
    "outputId": "3f8a96f1-9e93-4015-ee54-70634ec77851"
   },
   "outputs": [
    {
     "data": {
      "text/html": [
       "\n",
       "  <div id=\"df-fa1e4f42-c8aa-47f5-a960-feaaec3b2919\">\n",
       "    <div class=\"colab-df-container\">\n",
       "      <div>\n",
       "<style scoped>\n",
       "    .dataframe tbody tr th:only-of-type {\n",
       "        vertical-align: middle;\n",
       "    }\n",
       "\n",
       "    .dataframe tbody tr th {\n",
       "        vertical-align: top;\n",
       "    }\n",
       "\n",
       "    .dataframe thead th {\n",
       "        text-align: right;\n",
       "    }\n",
       "</style>\n",
       "<table border=\"1\" class=\"dataframe\">\n",
       "  <thead>\n",
       "    <tr style=\"text-align: right;\">\n",
       "      <th></th>\n",
       "      <th>DAY_OF_MONTH</th>\n",
       "      <th>DAY_OF_WEEK</th>\n",
       "      <th>OP_UNIQUE_CARRIER</th>\n",
       "      <th>OP_CARRIER_AIRLINE_ID</th>\n",
       "      <th>OP_CARRIER</th>\n",
       "      <th>TAIL_NUM</th>\n",
       "      <th>OP_CARRIER_FL_NUM</th>\n",
       "      <th>ORIGIN_AIRPORT_ID</th>\n",
       "      <th>ORIGIN_AIRPORT_SEQ_ID</th>\n",
       "      <th>ORIGIN</th>\n",
       "      <th>DEST_AIRPORT_ID</th>\n",
       "      <th>DEST_AIRPORT_SEQ_ID</th>\n",
       "      <th>DEST</th>\n",
       "      <th>DEP_TIME</th>\n",
       "      <th>DEP_DEL15</th>\n",
       "      <th>DEP_TIME_BLK</th>\n",
       "      <th>ARR_TIME</th>\n",
       "      <th>ARR_DEL15</th>\n",
       "      <th>CANCELLED</th>\n",
       "      <th>DIVERTED</th>\n",
       "      <th>DISTANCE</th>\n",
       "      <th>Unnamed: 21</th>\n",
       "    </tr>\n",
       "  </thead>\n",
       "  <tbody>\n",
       "    <tr>\n",
       "      <th>1073554</th>\n",
       "      <td>26</td>\n",
       "      <td>7</td>\n",
       "      <td>WN</td>\n",
       "      <td>19393</td>\n",
       "      <td>WN</td>\n",
       "      <td>N742SW</td>\n",
       "      <td>4100</td>\n",
       "      <td>13232</td>\n",
       "      <td>1323202</td>\n",
       "      <td>MDW</td>\n",
       "      <td>10721</td>\n",
       "      <td>1072102</td>\n",
       "      <td>BOS</td>\n",
       "      <td>2040.0</td>\n",
       "      <td>0.0</td>\n",
       "      <td>2000-2059</td>\n",
       "      <td>2340.0</td>\n",
       "      <td>0.0</td>\n",
       "      <td>0.0</td>\n",
       "      <td>0.0</td>\n",
       "      <td>861.0</td>\n",
       "      <td>NaN</td>\n",
       "    </tr>\n",
       "    <tr>\n",
       "      <th>451287</th>\n",
       "      <td>24</td>\n",
       "      <td>4</td>\n",
       "      <td>OO</td>\n",
       "      <td>20304</td>\n",
       "      <td>OO</td>\n",
       "      <td>N937SW</td>\n",
       "      <td>5112</td>\n",
       "      <td>11823</td>\n",
       "      <td>1182304</td>\n",
       "      <td>FWA</td>\n",
       "      <td>13930</td>\n",
       "      <td>1393007</td>\n",
       "      <td>ORD</td>\n",
       "      <td>857.0</td>\n",
       "      <td>0.0</td>\n",
       "      <td>0900-0959</td>\n",
       "      <td>918.0</td>\n",
       "      <td>0.0</td>\n",
       "      <td>0.0</td>\n",
       "      <td>0.0</td>\n",
       "      <td>157.0</td>\n",
       "      <td>NaN</td>\n",
       "    </tr>\n",
       "    <tr>\n",
       "      <th>550897</th>\n",
       "      <td>30</td>\n",
       "      <td>3</td>\n",
       "      <td>WN</td>\n",
       "      <td>19393</td>\n",
       "      <td>WN</td>\n",
       "      <td>N451WN</td>\n",
       "      <td>659</td>\n",
       "      <td>10693</td>\n",
       "      <td>1069302</td>\n",
       "      <td>BNA</td>\n",
       "      <td>15304</td>\n",
       "      <td>1530402</td>\n",
       "      <td>TPA</td>\n",
       "      <td>1540.0</td>\n",
       "      <td>0.0</td>\n",
       "      <td>1500-1559</td>\n",
       "      <td>1817.0</td>\n",
       "      <td>0.0</td>\n",
       "      <td>0.0</td>\n",
       "      <td>0.0</td>\n",
       "      <td>612.0</td>\n",
       "      <td>NaN</td>\n",
       "    </tr>\n",
       "    <tr>\n",
       "      <th>780811</th>\n",
       "      <td>10</td>\n",
       "      <td>5</td>\n",
       "      <td>OO</td>\n",
       "      <td>20304</td>\n",
       "      <td>OO</td>\n",
       "      <td>N135SY</td>\n",
       "      <td>5557</td>\n",
       "      <td>14689</td>\n",
       "      <td>1468902</td>\n",
       "      <td>SBA</td>\n",
       "      <td>14771</td>\n",
       "      <td>1477104</td>\n",
       "      <td>SFO</td>\n",
       "      <td>1826.0</td>\n",
       "      <td>0.0</td>\n",
       "      <td>1800-1859</td>\n",
       "      <td>1929.0</td>\n",
       "      <td>0.0</td>\n",
       "      <td>0.0</td>\n",
       "      <td>0.0</td>\n",
       "      <td>262.0</td>\n",
       "      <td>NaN</td>\n",
       "    </tr>\n",
       "    <tr>\n",
       "      <th>213459</th>\n",
       "      <td>12</td>\n",
       "      <td>6</td>\n",
       "      <td>F9</td>\n",
       "      <td>20436</td>\n",
       "      <td>F9</td>\n",
       "      <td>N711FR</td>\n",
       "      <td>1171</td>\n",
       "      <td>14100</td>\n",
       "      <td>1410005</td>\n",
       "      <td>PHL</td>\n",
       "      <td>13204</td>\n",
       "      <td>1320402</td>\n",
       "      <td>MCO</td>\n",
       "      <td>828.0</td>\n",
       "      <td>1.0</td>\n",
       "      <td>0800-0859</td>\n",
       "      <td>1053.0</td>\n",
       "      <td>0.0</td>\n",
       "      <td>0.0</td>\n",
       "      <td>0.0</td>\n",
       "      <td>861.0</td>\n",
       "      <td>NaN</td>\n",
       "    </tr>\n",
       "    <tr>\n",
       "      <th>478017</th>\n",
       "      <td>26</td>\n",
       "      <td>6</td>\n",
       "      <td>B6</td>\n",
       "      <td>20409</td>\n",
       "      <td>B6</td>\n",
       "      <td>N231JB</td>\n",
       "      <td>617</td>\n",
       "      <td>10721</td>\n",
       "      <td>1072102</td>\n",
       "      <td>BOS</td>\n",
       "      <td>12478</td>\n",
       "      <td>1247805</td>\n",
       "      <td>JFK</td>\n",
       "      <td>1334.0</td>\n",
       "      <td>0.0</td>\n",
       "      <td>1300-1359</td>\n",
       "      <td>1437.0</td>\n",
       "      <td>0.0</td>\n",
       "      <td>0.0</td>\n",
       "      <td>0.0</td>\n",
       "      <td>187.0</td>\n",
       "      <td>NaN</td>\n",
       "    </tr>\n",
       "    <tr>\n",
       "      <th>844344</th>\n",
       "      <td>14</td>\n",
       "      <td>2</td>\n",
       "      <td>YX</td>\n",
       "      <td>20452</td>\n",
       "      <td>YX</td>\n",
       "      <td>N444YX</td>\n",
       "      <td>4400</td>\n",
       "      <td>11278</td>\n",
       "      <td>1127805</td>\n",
       "      <td>DCA</td>\n",
       "      <td>12339</td>\n",
       "      <td>1233904</td>\n",
       "      <td>IND</td>\n",
       "      <td>1934.0</td>\n",
       "      <td>0.0</td>\n",
       "      <td>1900-1959</td>\n",
       "      <td>2128.0</td>\n",
       "      <td>0.0</td>\n",
       "      <td>0.0</td>\n",
       "      <td>0.0</td>\n",
       "      <td>500.0</td>\n",
       "      <td>NaN</td>\n",
       "    </tr>\n",
       "    <tr>\n",
       "      <th>143240</th>\n",
       "      <td>8</td>\n",
       "      <td>2</td>\n",
       "      <td>OO</td>\n",
       "      <td>20304</td>\n",
       "      <td>OO</td>\n",
       "      <td>N176SY</td>\n",
       "      <td>3322</td>\n",
       "      <td>12892</td>\n",
       "      <td>1289208</td>\n",
       "      <td>LAX</td>\n",
       "      <td>11259</td>\n",
       "      <td>1125904</td>\n",
       "      <td>DAL</td>\n",
       "      <td>1112.0</td>\n",
       "      <td>0.0</td>\n",
       "      <td>1100-1159</td>\n",
       "      <td>1646.0</td>\n",
       "      <td>1.0</td>\n",
       "      <td>0.0</td>\n",
       "      <td>0.0</td>\n",
       "      <td>1246.0</td>\n",
       "      <td>NaN</td>\n",
       "    </tr>\n",
       "    <tr>\n",
       "      <th>985209</th>\n",
       "      <td>21</td>\n",
       "      <td>2</td>\n",
       "      <td>9E</td>\n",
       "      <td>20363</td>\n",
       "      <td>9E</td>\n",
       "      <td>N934XJ</td>\n",
       "      <td>5005</td>\n",
       "      <td>12448</td>\n",
       "      <td>1244807</td>\n",
       "      <td>JAN</td>\n",
       "      <td>10397</td>\n",
       "      <td>1039707</td>\n",
       "      <td>ATL</td>\n",
       "      <td>1103.0</td>\n",
       "      <td>0.0</td>\n",
       "      <td>1100-1159</td>\n",
       "      <td>1317.0</td>\n",
       "      <td>0.0</td>\n",
       "      <td>0.0</td>\n",
       "      <td>0.0</td>\n",
       "      <td>341.0</td>\n",
       "      <td>NaN</td>\n",
       "    </tr>\n",
       "    <tr>\n",
       "      <th>572660</th>\n",
       "      <td>31</td>\n",
       "      <td>4</td>\n",
       "      <td>DL</td>\n",
       "      <td>19790</td>\n",
       "      <td>DL</td>\n",
       "      <td>N925DN</td>\n",
       "      <td>2422</td>\n",
       "      <td>11540</td>\n",
       "      <td>1154005</td>\n",
       "      <td>ELP</td>\n",
       "      <td>10397</td>\n",
       "      <td>1039707</td>\n",
       "      <td>ATL</td>\n",
       "      <td>600.0</td>\n",
       "      <td>0.0</td>\n",
       "      <td>0600-0659</td>\n",
       "      <td>1054.0</td>\n",
       "      <td>0.0</td>\n",
       "      <td>0.0</td>\n",
       "      <td>0.0</td>\n",
       "      <td>1282.0</td>\n",
       "      <td>NaN</td>\n",
       "    </tr>\n",
       "    <tr>\n",
       "      <th>1162607</th>\n",
       "      <td>30</td>\n",
       "      <td>4</td>\n",
       "      <td>DL</td>\n",
       "      <td>19790</td>\n",
       "      <td>DL</td>\n",
       "      <td>N668DN</td>\n",
       "      <td>2922</td>\n",
       "      <td>14747</td>\n",
       "      <td>1474703</td>\n",
       "      <td>SEA</td>\n",
       "      <td>10397</td>\n",
       "      <td>1039707</td>\n",
       "      <td>ATL</td>\n",
       "      <td>1148.0</td>\n",
       "      <td>1.0</td>\n",
       "      <td>1100-1159</td>\n",
       "      <td>1916.0</td>\n",
       "      <td>0.0</td>\n",
       "      <td>0.0</td>\n",
       "      <td>0.0</td>\n",
       "      <td>2182.0</td>\n",
       "      <td>NaN</td>\n",
       "    </tr>\n",
       "    <tr>\n",
       "      <th>349176</th>\n",
       "      <td>19</td>\n",
       "      <td>6</td>\n",
       "      <td>WN</td>\n",
       "      <td>19393</td>\n",
       "      <td>WN</td>\n",
       "      <td>N746SW</td>\n",
       "      <td>3597</td>\n",
       "      <td>11259</td>\n",
       "      <td>1125904</td>\n",
       "      <td>DAL</td>\n",
       "      <td>11540</td>\n",
       "      <td>1154005</td>\n",
       "      <td>ELP</td>\n",
       "      <td>809.0</td>\n",
       "      <td>0.0</td>\n",
       "      <td>0800-0859</td>\n",
       "      <td>839.0</td>\n",
       "      <td>0.0</td>\n",
       "      <td>0.0</td>\n",
       "      <td>0.0</td>\n",
       "      <td>562.0</td>\n",
       "      <td>NaN</td>\n",
       "    </tr>\n",
       "    <tr>\n",
       "      <th>497643</th>\n",
       "      <td>27</td>\n",
       "      <td>7</td>\n",
       "      <td>DL</td>\n",
       "      <td>19790</td>\n",
       "      <td>DL</td>\n",
       "      <td>N3773D</td>\n",
       "      <td>2867</td>\n",
       "      <td>13204</td>\n",
       "      <td>1320402</td>\n",
       "      <td>MCO</td>\n",
       "      <td>11193</td>\n",
       "      <td>1119302</td>\n",
       "      <td>CVG</td>\n",
       "      <td>1401.0</td>\n",
       "      <td>1.0</td>\n",
       "      <td>1300-1359</td>\n",
       "      <td>1600.0</td>\n",
       "      <td>1.0</td>\n",
       "      <td>0.0</td>\n",
       "      <td>0.0</td>\n",
       "      <td>757.0</td>\n",
       "      <td>NaN</td>\n",
       "    </tr>\n",
       "    <tr>\n",
       "      <th>924768</th>\n",
       "      <td>18</td>\n",
       "      <td>6</td>\n",
       "      <td>WN</td>\n",
       "      <td>19393</td>\n",
       "      <td>WN</td>\n",
       "      <td>N922WN</td>\n",
       "      <td>4811</td>\n",
       "      <td>11066</td>\n",
       "      <td>1106606</td>\n",
       "      <td>CMH</td>\n",
       "      <td>13204</td>\n",
       "      <td>1320402</td>\n",
       "      <td>MCO</td>\n",
       "      <td>944.0</td>\n",
       "      <td>1.0</td>\n",
       "      <td>0900-0959</td>\n",
       "      <td>1215.0</td>\n",
       "      <td>1.0</td>\n",
       "      <td>0.0</td>\n",
       "      <td>0.0</td>\n",
       "      <td>802.0</td>\n",
       "      <td>NaN</td>\n",
       "    </tr>\n",
       "    <tr>\n",
       "      <th>286099</th>\n",
       "      <td>16</td>\n",
       "      <td>3</td>\n",
       "      <td>WN</td>\n",
       "      <td>19393</td>\n",
       "      <td>WN</td>\n",
       "      <td>N7723E</td>\n",
       "      <td>171</td>\n",
       "      <td>13851</td>\n",
       "      <td>1385103</td>\n",
       "      <td>OKC</td>\n",
       "      <td>12191</td>\n",
       "      <td>1219102</td>\n",
       "      <td>HOU</td>\n",
       "      <td>1039.0</td>\n",
       "      <td>0.0</td>\n",
       "      <td>1000-1059</td>\n",
       "      <td>1159.0</td>\n",
       "      <td>0.0</td>\n",
       "      <td>0.0</td>\n",
       "      <td>0.0</td>\n",
       "      <td>419.0</td>\n",
       "      <td>NaN</td>\n",
       "    </tr>\n",
       "  </tbody>\n",
       "</table>\n",
       "</div>\n",
       "      <button class=\"colab-df-convert\" onclick=\"convertToInteractive('df-fa1e4f42-c8aa-47f5-a960-feaaec3b2919')\"\n",
       "              title=\"Convert this dataframe to an interactive table.\"\n",
       "              style=\"display:none;\">\n",
       "        \n",
       "  <svg xmlns=\"http://www.w3.org/2000/svg\" height=\"24px\"viewBox=\"0 0 24 24\"\n",
       "       width=\"24px\">\n",
       "    <path d=\"M0 0h24v24H0V0z\" fill=\"none\"/>\n",
       "    <path d=\"M18.56 5.44l.94 2.06.94-2.06 2.06-.94-2.06-.94-.94-2.06-.94 2.06-2.06.94zm-11 1L8.5 8.5l.94-2.06 2.06-.94-2.06-.94L8.5 2.5l-.94 2.06-2.06.94zm10 10l.94 2.06.94-2.06 2.06-.94-2.06-.94-.94-2.06-.94 2.06-2.06.94z\"/><path d=\"M17.41 7.96l-1.37-1.37c-.4-.4-.92-.59-1.43-.59-.52 0-1.04.2-1.43.59L10.3 9.45l-7.72 7.72c-.78.78-.78 2.05 0 2.83L4 21.41c.39.39.9.59 1.41.59.51 0 1.02-.2 1.41-.59l7.78-7.78 2.81-2.81c.8-.78.8-2.07 0-2.86zM5.41 20L4 18.59l7.72-7.72 1.47 1.35L5.41 20z\"/>\n",
       "  </svg>\n",
       "      </button>\n",
       "      \n",
       "  <style>\n",
       "    .colab-df-container {\n",
       "      display:flex;\n",
       "      flex-wrap:wrap;\n",
       "      gap: 12px;\n",
       "    }\n",
       "\n",
       "    .colab-df-convert {\n",
       "      background-color: #E8F0FE;\n",
       "      border: none;\n",
       "      border-radius: 50%;\n",
       "      cursor: pointer;\n",
       "      display: none;\n",
       "      fill: #1967D2;\n",
       "      height: 32px;\n",
       "      padding: 0 0 0 0;\n",
       "      width: 32px;\n",
       "    }\n",
       "\n",
       "    .colab-df-convert:hover {\n",
       "      background-color: #E2EBFA;\n",
       "      box-shadow: 0px 1px 2px rgba(60, 64, 67, 0.3), 0px 1px 3px 1px rgba(60, 64, 67, 0.15);\n",
       "      fill: #174EA6;\n",
       "    }\n",
       "\n",
       "    [theme=dark] .colab-df-convert {\n",
       "      background-color: #3B4455;\n",
       "      fill: #D2E3FC;\n",
       "    }\n",
       "\n",
       "    [theme=dark] .colab-df-convert:hover {\n",
       "      background-color: #434B5C;\n",
       "      box-shadow: 0px 1px 3px 1px rgba(0, 0, 0, 0.15);\n",
       "      filter: drop-shadow(0px 1px 2px rgba(0, 0, 0, 0.3));\n",
       "      fill: #FFFFFF;\n",
       "    }\n",
       "  </style>\n",
       "\n",
       "      <script>\n",
       "        const buttonEl =\n",
       "          document.querySelector('#df-fa1e4f42-c8aa-47f5-a960-feaaec3b2919 button.colab-df-convert');\n",
       "        buttonEl.style.display =\n",
       "          google.colab.kernel.accessAllowed ? 'block' : 'none';\n",
       "\n",
       "        async function convertToInteractive(key) {\n",
       "          const element = document.querySelector('#df-fa1e4f42-c8aa-47f5-a960-feaaec3b2919');\n",
       "          const dataTable =\n",
       "            await google.colab.kernel.invokeFunction('convertToInteractive',\n",
       "                                                     [key], {});\n",
       "          if (!dataTable) return;\n",
       "\n",
       "          const docLinkHtml = 'Like what you see? Visit the ' +\n",
       "            '<a target=\"_blank\" href=https://colab.research.google.com/notebooks/data_table.ipynb>data table notebook</a>'\n",
       "            + ' to learn more about interactive tables.';\n",
       "          element.innerHTML = '';\n",
       "          dataTable['output_type'] = 'display_data';\n",
       "          await google.colab.output.renderOutput(dataTable, element);\n",
       "          const docLink = document.createElement('div');\n",
       "          docLink.innerHTML = docLinkHtml;\n",
       "          element.appendChild(docLink);\n",
       "        }\n",
       "      </script>\n",
       "    </div>\n",
       "  </div>\n",
       "  "
      ],
      "text/plain": [
       "         DAY_OF_MONTH  DAY_OF_WEEK OP_UNIQUE_CARRIER  OP_CARRIER_AIRLINE_ID  \\\n",
       "1073554            26            7                WN                  19393   \n",
       "451287             24            4                OO                  20304   \n",
       "550897             30            3                WN                  19393   \n",
       "780811             10            5                OO                  20304   \n",
       "213459             12            6                F9                  20436   \n",
       "478017             26            6                B6                  20409   \n",
       "844344             14            2                YX                  20452   \n",
       "143240              8            2                OO                  20304   \n",
       "985209             21            2                9E                  20363   \n",
       "572660             31            4                DL                  19790   \n",
       "1162607            30            4                DL                  19790   \n",
       "349176             19            6                WN                  19393   \n",
       "497643             27            7                DL                  19790   \n",
       "924768             18            6                WN                  19393   \n",
       "286099             16            3                WN                  19393   \n",
       "\n",
       "        OP_CARRIER TAIL_NUM  OP_CARRIER_FL_NUM  ORIGIN_AIRPORT_ID  \\\n",
       "1073554         WN   N742SW               4100              13232   \n",
       "451287          OO   N937SW               5112              11823   \n",
       "550897          WN   N451WN                659              10693   \n",
       "780811          OO   N135SY               5557              14689   \n",
       "213459          F9   N711FR               1171              14100   \n",
       "478017          B6   N231JB                617              10721   \n",
       "844344          YX   N444YX               4400              11278   \n",
       "143240          OO   N176SY               3322              12892   \n",
       "985209          9E   N934XJ               5005              12448   \n",
       "572660          DL   N925DN               2422              11540   \n",
       "1162607         DL   N668DN               2922              14747   \n",
       "349176          WN   N746SW               3597              11259   \n",
       "497643          DL   N3773D               2867              13204   \n",
       "924768          WN   N922WN               4811              11066   \n",
       "286099          WN   N7723E                171              13851   \n",
       "\n",
       "         ORIGIN_AIRPORT_SEQ_ID ORIGIN  DEST_AIRPORT_ID  DEST_AIRPORT_SEQ_ID  \\\n",
       "1073554                1323202    MDW            10721              1072102   \n",
       "451287                 1182304    FWA            13930              1393007   \n",
       "550897                 1069302    BNA            15304              1530402   \n",
       "780811                 1468902    SBA            14771              1477104   \n",
       "213459                 1410005    PHL            13204              1320402   \n",
       "478017                 1072102    BOS            12478              1247805   \n",
       "844344                 1127805    DCA            12339              1233904   \n",
       "143240                 1289208    LAX            11259              1125904   \n",
       "985209                 1244807    JAN            10397              1039707   \n",
       "572660                 1154005    ELP            10397              1039707   \n",
       "1162607                1474703    SEA            10397              1039707   \n",
       "349176                 1125904    DAL            11540              1154005   \n",
       "497643                 1320402    MCO            11193              1119302   \n",
       "924768                 1106606    CMH            13204              1320402   \n",
       "286099                 1385103    OKC            12191              1219102   \n",
       "\n",
       "        DEST  DEP_TIME  DEP_DEL15 DEP_TIME_BLK  ARR_TIME  ARR_DEL15  \\\n",
       "1073554  BOS    2040.0        0.0    2000-2059    2340.0        0.0   \n",
       "451287   ORD     857.0        0.0    0900-0959     918.0        0.0   \n",
       "550897   TPA    1540.0        0.0    1500-1559    1817.0        0.0   \n",
       "780811   SFO    1826.0        0.0    1800-1859    1929.0        0.0   \n",
       "213459   MCO     828.0        1.0    0800-0859    1053.0        0.0   \n",
       "478017   JFK    1334.0        0.0    1300-1359    1437.0        0.0   \n",
       "844344   IND    1934.0        0.0    1900-1959    2128.0        0.0   \n",
       "143240   DAL    1112.0        0.0    1100-1159    1646.0        1.0   \n",
       "985209   ATL    1103.0        0.0    1100-1159    1317.0        0.0   \n",
       "572660   ATL     600.0        0.0    0600-0659    1054.0        0.0   \n",
       "1162607  ATL    1148.0        1.0    1100-1159    1916.0        0.0   \n",
       "349176   ELP     809.0        0.0    0800-0859     839.0        0.0   \n",
       "497643   CVG    1401.0        1.0    1300-1359    1600.0        1.0   \n",
       "924768   MCO     944.0        1.0    0900-0959    1215.0        1.0   \n",
       "286099   HOU    1039.0        0.0    1000-1059    1159.0        0.0   \n",
       "\n",
       "         CANCELLED  DIVERTED  DISTANCE  Unnamed: 21  \n",
       "1073554        0.0       0.0     861.0          NaN  \n",
       "451287         0.0       0.0     157.0          NaN  \n",
       "550897         0.0       0.0     612.0          NaN  \n",
       "780811         0.0       0.0     262.0          NaN  \n",
       "213459         0.0       0.0     861.0          NaN  \n",
       "478017         0.0       0.0     187.0          NaN  \n",
       "844344         0.0       0.0     500.0          NaN  \n",
       "143240         0.0       0.0    1246.0          NaN  \n",
       "985209         0.0       0.0     341.0          NaN  \n",
       "572660         0.0       0.0    1282.0          NaN  \n",
       "1162607        0.0       0.0    2182.0          NaN  \n",
       "349176         0.0       0.0     562.0          NaN  \n",
       "497643         0.0       0.0     757.0          NaN  \n",
       "924768         0.0       0.0     802.0          NaN  \n",
       "286099         0.0       0.0     419.0          NaN  "
      ]
     },
     "execution_count": 14,
     "metadata": {},
     "output_type": "execute_result"
    }
   ],
   "source": [
    "raw_df.sample(15)"
   ]
  },
  {
   "cell_type": "markdown",
   "metadata": {
    "id": "9F8weiHMt2-7"
   },
   "source": [
    "From the data sample it can be observed that columns 'OP_UNIQUE_CARRIER', 'OP_CARRIER_AIRLINE_ID' and 'OP_CARRIER' have perfectly correlated values. Similarly for 'ORIGIN_AIRPORT_ID', 'ORIGIN_AIRPORT_SEQ_ID' and 'ORIGIN' values seems to be in correlation. The same is true for 'DEST_AIRPORT_ID', 'DEST_AIRPORT_SEQ_ID' and 'DEST'."
   ]
  },
  {
   "cell_type": "code",
   "execution_count": 15,
   "metadata": {
    "colab": {
     "base_uri": "https://localhost:8080/",
     "height": 545
    },
    "executionInfo": {
     "elapsed": 1887,
     "status": "ok",
     "timestamp": 1674071245490,
     "user": {
      "displayName": "satwik gupta",
      "userId": "11579781950189161815"
     },
     "user_tz": -330
    },
    "id": "oEl_R9i_t2-8",
    "outputId": "b3beadbc-469f-4dd6-8796-9044045f9b0f"
   },
   "outputs": [
    {
     "data": {
      "image/png": "[encoded data removed]",
      "text/plain": [
       "<Figure size 720x432 with 2 Axes>"
      ]
     },
     "metadata": {
      "needs_background": "light"
     },
     "output_type": "display_data"
    }
   ],
   "source": [
    "sns.heatmap(raw_df[['OP_CARRIER_AIRLINE_ID', 'OP_CARRIER_FL_NUM', 'ORIGIN_AIRPORT_ID', \n",
    "                    'ORIGIN_AIRPORT_SEQ_ID', 'DEST_AIRPORT_ID', 'DEST_AIRPORT_SEQ_ID']].corr(), annot = True );"
   ]
  },
  {
   "cell_type": "markdown",
   "metadata": {
    "id": "ljdUQwTOt2-9"
   },
   "source": [
    "The above heat map justifies our claim for 'ORIGIN_AIRPORT_ID' and 'ORIGIN_AIRPORT_SEQ_ID' to be perfectly correlated. The same is true for 'DEST_AIRPORT_ID' and 'DEST_AIRPORT_SEQ_ID'."
   ]
  },
  {
   "cell_type": "code",
   "execution_count": 16,
   "metadata": {
    "colab": {
     "base_uri": "https://localhost:8080/"
    },
    "executionInfo": {
     "elapsed": 64,
     "status": "ok",
     "timestamp": 1674071245493,
     "user": {
      "displayName": "satwik gupta",
      "userId": "11579781950189161815"
     },
     "user_tz": -330
    },
    "id": "8huVuB4Ut2-9",
    "outputId": "7cdeb410-f4f6-4fa5-864b-ef0369429b63"
   },
   "outputs": [
    {
     "name": "stdout",
     "output_type": "stream",
     "text": [
      "10397    63345\n",
      "13930    51877\n",
      "11298    47402\n",
      "11057    39095\n",
      "11292    38905\n",
      "         ...  \n",
      "14222       20\n",
      "13983       18\n",
      "10165       18\n",
      "13829       17\n",
      "10562       13\n",
      "Name: ORIGIN_AIRPORT_ID, Length: 353, dtype: int64\n",
      "ATL    63345\n",
      "ORD    51877\n",
      "DFW    47402\n",
      "CLT    39095\n",
      "DEN    38905\n",
      "       ...  \n",
      "PPG       20\n",
      "OWB       18\n",
      "ADK       18\n",
      "OGD       17\n",
      "BFM       13\n",
      "Name: ORIGIN, Length: 353, dtype: int64\n"
     ]
    }
   ],
   "source": [
    "print(raw_df['ORIGIN_AIRPORT_ID'].value_counts())\n",
    "print(raw_df['ORIGIN'].value_counts())"
   ]
  },
  {
   "cell_type": "markdown",
   "metadata": {
    "id": "Wk3uIzoCt2-_"
   },
   "source": [
    "So out of 'ORIGIN_AIRPORT_ID', 'ORIGIN' and 'ORIGIN_AIRPORT_SEQ_ID' only one column is to be retained."
   ]
  },
  {
   "cell_type": "code",
   "execution_count": 17,
   "metadata": {
    "colab": {
     "base_uri": "https://localhost:8080/"
    },
    "executionInfo": {
     "elapsed": 45,
     "status": "ok",
     "timestamp": 1674071245495,
     "user": {
      "displayName": "satwik gupta",
      "userId": "11579781950189161815"
     },
     "user_tz": -330
    },
    "id": "qNSVi3bCt2_A",
    "outputId": "7c7026fb-52ca-454d-aa91-d828f2422bd0"
   },
   "outputs": [
    {
     "name": "stdout",
     "output_type": "stream",
     "text": [
      "10397    63338\n",
      "13930    51899\n",
      "11298    47432\n",
      "11057    39107\n",
      "11292    38903\n",
      "         ...  \n",
      "14222       20\n",
      "13983       18\n",
      "10165       18\n",
      "13829       17\n",
      "10562       13\n",
      "Name: DEST_AIRPORT_ID, Length: 353, dtype: int64\n",
      "ATL    63338\n",
      "ORD    51899\n",
      "DFW    47432\n",
      "CLT    39107\n",
      "DEN    38903\n",
      "       ...  \n",
      "PPG       20\n",
      "OWB       18\n",
      "ADK       18\n",
      "OGD       17\n",
      "BFM       13\n",
      "Name: DEST, Length: 353, dtype: int64\n"
     ]
    }
   ],
   "source": [
    "print(raw_df['DEST_AIRPORT_ID'].value_counts())\n",
    "print(raw_df['DEST'].value_counts())"
   ]
  },
  {
   "cell_type": "markdown",
   "metadata": {
    "id": "GBkRRj45t2_B"
   },
   "source": [
    "So out of the columns 'DEST_AIRPORT_ID', 'DEST_AIRPORT_SEQ_ID' and 'DEST' only one is to be retained."
   ]
  },
  {
   "cell_type": "code",
   "execution_count": 18,
   "metadata": {
    "colab": {
     "base_uri": "https://localhost:8080/"
    },
    "executionInfo": {
     "elapsed": 45,
     "status": "ok",
     "timestamp": 1674071245504,
     "user": {
      "displayName": "satwik gupta",
      "userId": "11579781950189161815"
     },
     "user_tz": -330
    },
    "id": "gq4wvck3t2_C",
    "outputId": "e7aa5374-bc92-46eb-9315-969f75ef9417"
   },
   "outputs": [
    {
     "name": "stdout",
     "output_type": "stream",
     "text": [
      "WN    221082\n",
      "DL    153903\n",
      "AA    153293\n",
      "OO    136086\n",
      "UA     95316\n",
      "YX     54878\n",
      "MQ     51899\n",
      "B6     49152\n",
      "OH     47478\n",
      "9E     43266\n",
      "AS     41854\n",
      "YV     36182\n",
      "NK     32699\n",
      "EV     23759\n",
      "F9     22114\n",
      "G4     14537\n",
      "HA     13833\n",
      "Name: OP_CARRIER, dtype: int64\n",
      "WN    221082\n",
      "DL    153903\n",
      "AA    153293\n",
      "OO    136086\n",
      "UA     95316\n",
      "YX     54878\n",
      "MQ     51899\n",
      "B6     49152\n",
      "OH     47478\n",
      "9E     43266\n",
      "AS     41854\n",
      "YV     36182\n",
      "NK     32699\n",
      "EV     23759\n",
      "F9     22114\n",
      "G4     14537\n",
      "HA     13833\n",
      "Name: OP_UNIQUE_CARRIER, dtype: int64\n",
      "19393    221082\n",
      "19790    153903\n",
      "19805    153293\n",
      "20304    136086\n",
      "19977     95316\n",
      "20452     54878\n",
      "20398     51899\n",
      "20409     49152\n",
      "20397     47478\n",
      "20363     43266\n",
      "19930     41854\n",
      "20378     36182\n",
      "20416     32699\n",
      "20366     23759\n",
      "20436     22114\n",
      "20368     14537\n",
      "19690     13833\n",
      "Name: OP_CARRIER_AIRLINE_ID, dtype: int64\n"
     ]
    }
   ],
   "source": [
    "print(raw_df['OP_CARRIER'].value_counts())\n",
    "print(raw_df['OP_UNIQUE_CARRIER'].value_counts())\n",
    "print(raw_df['OP_CARRIER_AIRLINE_ID'].value_counts())"
   ]
  },
  {
   "cell_type": "markdown",
   "metadata": {
    "id": "uHGofcSrt2_D"
   },
   "source": [
    "So out of 'OP_UNIQUE_CARRIER', 'OP_CARRIER_AIRLINE_ID' and 'OP_CARRIER' only one column is to be retained"
   ]
  },
  {
   "cell_type": "code",
   "execution_count": 18,
   "metadata": {
    "executionInfo": {
     "elapsed": 38,
     "status": "ok",
     "timestamp": 1674071245507,
     "user": {
      "displayName": "satwik gupta",
      "userId": "11579781950189161815"
     },
     "user_tz": -330
    },
    "id": "TNl4wuF5t2_E"
   },
   "outputs": [],
   "source": []
  },
  {
   "cell_type": "code",
   "execution_count": 19,
   "metadata": {
    "colab": {
     "base_uri": "https://localhost:8080/"
    },
    "executionInfo": {
     "elapsed": 1055,
     "status": "ok",
     "timestamp": 1674071246524,
     "user": {
      "displayName": "satwik gupta",
      "userId": "11579781950189161815"
     },
     "user_tz": -330
    },
    "id": "YcbatRQwt2_F",
    "outputId": "bfb80c09-ce9d-4ae6-fcdb-283ed1d0cb3e"
   },
   "outputs": [
    {
     "name": "stdout",
     "output_type": "stream",
     "text": [
      "<class 'pandas.core.frame.DataFrame'>\n",
      "RangeIndex: 1191331 entries, 0 to 1191330\n",
      "Data columns (total 22 columns):\n",
      " #   Column                 Non-Null Count    Dtype  \n",
      "---  ------                 --------------    -----  \n",
      " 0   DAY_OF_MONTH           1191331 non-null  int64  \n",
      " 1   DAY_OF_WEEK            1191331 non-null  int64  \n",
      " 2   OP_UNIQUE_CARRIER      1191331 non-null  object \n",
      " 3   OP_CARRIER_AIRLINE_ID  1191331 non-null  int64  \n",
      " 4   OP_CARRIER             1191331 non-null  object \n",
      " 5   TAIL_NUM               1188090 non-null  object \n",
      " 6   OP_CARRIER_FL_NUM      1191331 non-null  int64  \n",
      " 7   ORIGIN_AIRPORT_ID      1191331 non-null  int64  \n",
      " 8   ORIGIN_AIRPORT_SEQ_ID  1191331 non-null  int64  \n",
      " 9   ORIGIN                 1191331 non-null  object \n",
      " 10  DEST_AIRPORT_ID        1191331 non-null  int64  \n",
      " 11  DEST_AIRPORT_SEQ_ID    1191331 non-null  int64  \n",
      " 12  DEST                   1191331 non-null  object \n",
      " 13  DEP_TIME               1168315 non-null  float64\n",
      " 14  DEP_DEL15              1168277 non-null  float64\n",
      " 15  DEP_TIME_BLK           1191331 non-null  object \n",
      " 16  ARR_TIME               1167195 non-null  float64\n",
      " 17  ARR_DEL15              1165231 non-null  float64\n",
      " 18  CANCELLED              1191331 non-null  float64\n",
      " 19  DIVERTED               1191331 non-null  float64\n",
      " 20  DISTANCE               1191331 non-null  float64\n",
      " 21  Unnamed: 21            0 non-null        float64\n",
      "dtypes: float64(8), int64(8), object(6)\n",
      "memory usage: 200.0+ MB\n"
     ]
    }
   ],
   "source": [
    "raw_df.info()"
   ]
  },
  {
   "cell_type": "markdown",
   "metadata": {
    "id": "wYfpXgjjsG1d"
   },
   "source": [
    "There are 1191331 rows of data available. The column 'Unnamed: 21' has no entries and it is to be removed from data."
   ]
  },
  {
   "cell_type": "code",
   "execution_count": 20,
   "metadata": {
    "colab": {
     "base_uri": "https://localhost:8080/"
    },
    "executionInfo": {
     "elapsed": 44,
     "status": "ok",
     "timestamp": 1674071246525,
     "user": {
      "displayName": "satwik gupta",
      "userId": "11579781950189161815"
     },
     "user_tz": -330
    },
    "id": "MN7bVfaZsG1l",
    "outputId": "0e761b2f-0b0a-4995-a0ae-35f18d0113e6"
   },
   "outputs": [
    {
     "data": {
      "text/plain": [
       "0.0    1167677\n",
       "1.0      23654\n",
       "Name: CANCELLED, dtype: int64"
      ]
     },
     "execution_count": 20,
     "metadata": {},
     "output_type": "execute_result"
    }
   ],
   "source": [
    "raw_df['CANCELLED'].value_counts()"
   ]
  },
  {
   "cell_type": "code",
   "execution_count": 21,
   "metadata": {
    "colab": {
     "base_uri": "https://localhost:8080/"
    },
    "executionInfo": {
     "elapsed": 35,
     "status": "ok",
     "timestamp": 1674071246526,
     "user": {
      "displayName": "satwik gupta",
      "userId": "11579781950189161815"
     },
     "user_tz": -330
    },
    "id": "BYKQHcHEsG1l",
    "outputId": "541549ff-5882-4dfe-e12a-a3fdb3b5400d"
   },
   "outputs": [
    {
     "data": {
      "text/plain": [
       "0.0    1188885\n",
       "1.0       2446\n",
       "Name: DIVERTED, dtype: int64"
      ]
     },
     "execution_count": 21,
     "metadata": {},
     "output_type": "execute_result"
    }
   ],
   "source": [
    "raw_df['DIVERTED'].value_counts()"
   ]
  },
  {
   "cell_type": "markdown",
   "metadata": {
    "id": "fp-e6BUTsG1m"
   },
   "source": [
    "Since our aim is to identify flight delay on arrival we can delete the cancelled and diverted flight rows. Also they are less in number in comparison with total data."
   ]
  },
  {
   "cell_type": "code",
   "execution_count": 22,
   "metadata": {
    "executionInfo": {
     "elapsed": 27,
     "status": "ok",
     "timestamp": 1674071246527,
     "user": {
      "displayName": "satwik gupta",
      "userId": "11579781950189161815"
     },
     "user_tz": -330
    },
    "id": "cfK526Ctt2_M"
   },
   "outputs": [],
   "source": [
    "raw_df = raw_df[raw_df['CANCELLED' ]!= 1.0]"
   ]
  },
  {
   "cell_type": "code",
   "execution_count": 23,
   "metadata": {
    "executionInfo": {
     "elapsed": 27,
     "status": "ok",
     "timestamp": 1674071246528,
     "user": {
      "displayName": "satwik gupta",
      "userId": "11579781950189161815"
     },
     "user_tz": -330
    },
    "id": "fQ6X4FNat2_N"
   },
   "outputs": [],
   "source": [
    "raw_df = raw_df[raw_df['DIVERTED' ]!= 1.0]"
   ]
  },
  {
   "cell_type": "code",
   "execution_count": 24,
   "metadata": {
    "colab": {
     "base_uri": "https://localhost:8080/"
    },
    "executionInfo": {
     "elapsed": 29,
     "status": "ok",
     "timestamp": 1674071246531,
     "user": {
      "displayName": "satwik gupta",
      "userId": "11579781950189161815"
     },
     "user_tz": -330
    },
    "id": "1q706Ax4t2_N",
    "outputId": "15b6972a-6f97-413d-db80-9c344bd6258e"
   },
   "outputs": [
    {
     "data": {
      "text/plain": [
       "Index(['DAY_OF_MONTH', 'DAY_OF_WEEK', 'OP_UNIQUE_CARRIER',\n",
       "       'OP_CARRIER_AIRLINE_ID', 'OP_CARRIER', 'TAIL_NUM', 'OP_CARRIER_FL_NUM',\n",
       "       'ORIGIN_AIRPORT_ID', 'ORIGIN_AIRPORT_SEQ_ID', 'ORIGIN',\n",
       "       'DEST_AIRPORT_ID', 'DEST_AIRPORT_SEQ_ID', 'DEST', 'DEP_TIME',\n",
       "       'DEP_DEL15', 'DEP_TIME_BLK', 'ARR_TIME', 'ARR_DEL15', 'CANCELLED',\n",
       "       'DIVERTED', 'DISTANCE', 'Unnamed: 21'],\n",
       "      dtype='object')"
      ]
     },
     "execution_count": 24,
     "metadata": {},
     "output_type": "execute_result"
    }
   ],
   "source": [
    "raw_df.columns"
   ]
  },
  {
   "cell_type": "code",
   "execution_count": 25,
   "metadata": {
    "colab": {
     "base_uri": "https://localhost:8080/"
    },
    "executionInfo": {
     "elapsed": 23,
     "status": "ok",
     "timestamp": 1674071246532,
     "user": {
      "displayName": "satwik gupta",
      "userId": "11579781950189161815"
     },
     "user_tz": -330
    },
    "id": "hPkO1Xumt2_O",
    "outputId": "f66ed5ff-9703-4b4b-af02-f7edf02d97cd"
   },
   "outputs": [
    {
     "data": {
      "text/plain": [
       "DAY_OF_MONTH               31\n",
       "DAY_OF_WEEK                 7\n",
       "OP_UNIQUE_CARRIER          17\n",
       "OP_CARRIER_AIRLINE_ID      17\n",
       "OP_CARRIER                 17\n",
       "TAIL_NUM                 5854\n",
       "OP_CARRIER_FL_NUM        6997\n",
       "ORIGIN_AIRPORT_ID         353\n",
       "ORIGIN_AIRPORT_SEQ_ID     373\n",
       "ORIGIN                    353\n",
       "DEST_AIRPORT_ID           353\n",
       "DEST_AIRPORT_SEQ_ID       373\n",
       "DEST                      353\n",
       "DEP_TIME                 1440\n",
       "DEP_DEL15                   2\n",
       "DEP_TIME_BLK               19\n",
       "ARR_TIME                 1440\n",
       "ARR_DEL15                   2\n",
       "CANCELLED                   1\n",
       "DIVERTED                    1\n",
       "DISTANCE                 1511\n",
       "Unnamed: 21                 0\n",
       "dtype: int64"
      ]
     },
     "execution_count": 25,
     "metadata": {},
     "output_type": "execute_result"
    }
   ],
   "source": [
    "raw_df.nunique()"
   ]
  },
  {
   "cell_type": "markdown",
   "metadata": {
    "id": "XZm8B2y4t2_P"
   },
   "source": [
    "For our aim to predict flight delay on arrival, our target column is 'ARR_DEL15'. Avoiding highly correlated columns and columns with large number of categories and which we can assume less important such as 'TAIL_NUM' and 'OP_CARRIER_FL_NUM', we can select input columns. Also we cannot include actual arrival time as we are predicting arrival delay."
   ]
  },
  {
   "cell_type": "code",
   "execution_count": 26,
   "metadata": {
    "executionInfo": {
     "elapsed": 561,
     "status": "ok",
     "timestamp": 1674071247079,
     "user": {
      "displayName": "satwik gupta",
      "userId": "11579781950189161815"
     },
     "user_tz": -330
    },
    "id": "ogdRDyxvt2_Q"
   },
   "outputs": [],
   "source": [
    "flight_df = raw_df[['DAY_OF_MONTH', 'DAY_OF_WEEK', 'OP_CARRIER', 'ORIGIN', 'DEST', \n",
    "                    'DEP_TIME', 'DEP_DEL15','DEP_TIME_BLK', 'DISTANCE', 'ARR_DEL15']].copy()"
   ]
  },
  {
   "cell_type": "code",
   "execution_count": 27,
   "metadata": {
    "colab": {
     "base_uri": "https://localhost:8080/",
     "height": 424
    },
    "executionInfo": {
     "elapsed": 45,
     "status": "ok",
     "timestamp": 1674071247081,
     "user": {
      "displayName": "satwik gupta",
      "userId": "11579781950189161815"
     },
     "user_tz": -330
    },
    "id": "bPmKB9jpt2_Q",
    "outputId": "61ebbe18-1857-4903-badd-ce6b9e01c19b"
   },
   "outputs": [
    {
     "data": {
      "text/html": [
       "\n",
       "  <div id=\"df-12939eb3-6f3b-47dd-8b4e-82562839e8f9\">\n",
       "    <div class=\"colab-df-container\">\n",
       "      <div>\n",
       "<style scoped>\n",
       "    .dataframe tbody tr th:only-of-type {\n",
       "        vertical-align: middle;\n",
       "    }\n",
       "\n",
       "    .dataframe tbody tr th {\n",
       "        vertical-align: top;\n",
       "    }\n",
       "\n",
       "    .dataframe thead th {\n",
       "        text-align: right;\n",
       "    }\n",
       "</style>\n",
       "<table border=\"1\" class=\"dataframe\">\n",
       "  <thead>\n",
       "    <tr style=\"text-align: right;\">\n",
       "      <th></th>\n",
       "      <th>DAY_OF_MONTH</th>\n",
       "      <th>DAY_OF_WEEK</th>\n",
       "      <th>OP_CARRIER</th>\n",
       "      <th>ORIGIN</th>\n",
       "      <th>DEST</th>\n",
       "      <th>DEP_TIME</th>\n",
       "      <th>DEP_DEL15</th>\n",
       "      <th>DEP_TIME_BLK</th>\n",
       "      <th>DISTANCE</th>\n",
       "      <th>ARR_DEL15</th>\n",
       "    </tr>\n",
       "  </thead>\n",
       "  <tbody>\n",
       "    <tr>\n",
       "      <th>0</th>\n",
       "      <td>1</td>\n",
       "      <td>2</td>\n",
       "      <td>9E</td>\n",
       "      <td>GNV</td>\n",
       "      <td>ATL</td>\n",
       "      <td>601.0</td>\n",
       "      <td>0.0</td>\n",
       "      <td>0600-0659</td>\n",
       "      <td>300.0</td>\n",
       "      <td>0.0</td>\n",
       "    </tr>\n",
       "    <tr>\n",
       "      <th>1</th>\n",
       "      <td>1</td>\n",
       "      <td>2</td>\n",
       "      <td>9E</td>\n",
       "      <td>MSP</td>\n",
       "      <td>CVG</td>\n",
       "      <td>1359.0</td>\n",
       "      <td>0.0</td>\n",
       "      <td>1400-1459</td>\n",
       "      <td>596.0</td>\n",
       "      <td>0.0</td>\n",
       "    </tr>\n",
       "    <tr>\n",
       "      <th>2</th>\n",
       "      <td>1</td>\n",
       "      <td>2</td>\n",
       "      <td>9E</td>\n",
       "      <td>DTW</td>\n",
       "      <td>CVG</td>\n",
       "      <td>1215.0</td>\n",
       "      <td>0.0</td>\n",
       "      <td>1200-1259</td>\n",
       "      <td>229.0</td>\n",
       "      <td>0.0</td>\n",
       "    </tr>\n",
       "    <tr>\n",
       "      <th>3</th>\n",
       "      <td>1</td>\n",
       "      <td>2</td>\n",
       "      <td>9E</td>\n",
       "      <td>TLH</td>\n",
       "      <td>ATL</td>\n",
       "      <td>1521.0</td>\n",
       "      <td>0.0</td>\n",
       "      <td>1500-1559</td>\n",
       "      <td>223.0</td>\n",
       "      <td>0.0</td>\n",
       "    </tr>\n",
       "    <tr>\n",
       "      <th>4</th>\n",
       "      <td>1</td>\n",
       "      <td>2</td>\n",
       "      <td>9E</td>\n",
       "      <td>ATL</td>\n",
       "      <td>FSM</td>\n",
       "      <td>1847.0</td>\n",
       "      <td>0.0</td>\n",
       "      <td>1900-1959</td>\n",
       "      <td>579.0</td>\n",
       "      <td>0.0</td>\n",
       "    </tr>\n",
       "    <tr>\n",
       "      <th>...</th>\n",
       "      <td>...</td>\n",
       "      <td>...</td>\n",
       "      <td>...</td>\n",
       "      <td>...</td>\n",
       "      <td>...</td>\n",
       "      <td>...</td>\n",
       "      <td>...</td>\n",
       "      <td>...</td>\n",
       "      <td>...</td>\n",
       "      <td>...</td>\n",
       "    </tr>\n",
       "    <tr>\n",
       "      <th>1191326</th>\n",
       "      <td>31</td>\n",
       "      <td>5</td>\n",
       "      <td>9E</td>\n",
       "      <td>TYS</td>\n",
       "      <td>DTW</td>\n",
       "      <td>1002.0</td>\n",
       "      <td>1.0</td>\n",
       "      <td>0700-0759</td>\n",
       "      <td>443.0</td>\n",
       "      <td>1.0</td>\n",
       "    </tr>\n",
       "    <tr>\n",
       "      <th>1191327</th>\n",
       "      <td>31</td>\n",
       "      <td>5</td>\n",
       "      <td>9E</td>\n",
       "      <td>DTW</td>\n",
       "      <td>JFK</td>\n",
       "      <td>1747.0</td>\n",
       "      <td>0.0</td>\n",
       "      <td>1700-1759</td>\n",
       "      <td>509.0</td>\n",
       "      <td>0.0</td>\n",
       "    </tr>\n",
       "    <tr>\n",
       "      <th>1191328</th>\n",
       "      <td>31</td>\n",
       "      <td>5</td>\n",
       "      <td>9E</td>\n",
       "      <td>GSP</td>\n",
       "      <td>LGA</td>\n",
       "      <td>554.0</td>\n",
       "      <td>0.0</td>\n",
       "      <td>0600-0659</td>\n",
       "      <td>610.0</td>\n",
       "      <td>0.0</td>\n",
       "    </tr>\n",
       "    <tr>\n",
       "      <th>1191329</th>\n",
       "      <td>31</td>\n",
       "      <td>5</td>\n",
       "      <td>9E</td>\n",
       "      <td>ATL</td>\n",
       "      <td>XNA</td>\n",
       "      <td>1714.0</td>\n",
       "      <td>0.0</td>\n",
       "      <td>1700-1759</td>\n",
       "      <td>589.0</td>\n",
       "      <td>0.0</td>\n",
       "    </tr>\n",
       "    <tr>\n",
       "      <th>1191330</th>\n",
       "      <td>31</td>\n",
       "      <td>5</td>\n",
       "      <td>9E</td>\n",
       "      <td>XNA</td>\n",
       "      <td>ATL</td>\n",
       "      <td>1841.0</td>\n",
       "      <td>0.0</td>\n",
       "      <td>1800-1859</td>\n",
       "      <td>589.0</td>\n",
       "      <td>0.0</td>\n",
       "    </tr>\n",
       "  </tbody>\n",
       "</table>\n",
       "<p>1165231 rows × 10 columns</p>\n",
       "</div>\n",
       "      <button class=\"colab-df-convert\" onclick=\"convertToInteractive('df-12939eb3-6f3b-47dd-8b4e-82562839e8f9')\"\n",
       "              title=\"Convert this dataframe to an interactive table.\"\n",
       "              style=\"display:none;\">\n",
       "        \n",
       "  <svg xmlns=\"http://www.w3.org/2000/svg\" height=\"24px\"viewBox=\"0 0 24 24\"\n",
       "       width=\"24px\">\n",
       "    <path d=\"M0 0h24v24H0V0z\" fill=\"none\"/>\n",
       "    <path d=\"M18.56 5.44l.94 2.06.94-2.06 2.06-.94-2.06-.94-.94-2.06-.94 2.06-2.06.94zm-11 1L8.5 8.5l.94-2.06 2.06-.94-2.06-.94L8.5 2.5l-.94 2.06-2.06.94zm10 10l.94 2.06.94-2.06 2.06-.94-2.06-.94-.94-2.06-.94 2.06-2.06.94z\"/><path d=\"M17.41 7.96l-1.37-1.37c-.4-.4-.92-.59-1.43-.59-.52 0-1.04.2-1.43.59L10.3 9.45l-7.72 7.72c-.78.78-.78 2.05 0 2.83L4 21.41c.39.39.9.59 1.41.59.51 0 1.02-.2 1.41-.59l7.78-7.78 2.81-2.81c.8-.78.8-2.07 0-2.86zM5.41 20L4 18.59l7.72-7.72 1.47 1.35L5.41 20z\"/>\n",
       "  </svg>\n",
       "      </button>\n",
       "      \n",
       "  <style>\n",
       "    .colab-df-container {\n",
       "      display:flex;\n",
       "      flex-wrap:wrap;\n",
       "      gap: 12px;\n",
       "    }\n",
       "\n",
       "    .colab-df-convert {\n",
       "      background-color: #E8F0FE;\n",
       "      border: none;\n",
       "      border-radius: 50%;\n",
       "      cursor: pointer;\n",
       "      display: none;\n",
       "      fill: #1967D2;\n",
       "      height: 32px;\n",
       "      padding: 0 0 0 0;\n",
       "      width: 32px;\n",
       "    }\n",
       "\n",
       "    .colab-df-convert:hover {\n",
       "      background-color: #E2EBFA;\n",
       "      box-shadow: 0px 1px 2px rgba(60, 64, 67, 0.3), 0px 1px 3px 1px rgba(60, 64, 67, 0.15);\n",
       "      fill: #174EA6;\n",
       "    }\n",
       "\n",
       "    [theme=dark] .colab-df-convert {\n",
       "      background-color: #3B4455;\n",
       "      fill: #D2E3FC;\n",
       "    }\n",
       "\n",
       "    [theme=dark] .colab-df-convert:hover {\n",
       "      background-color: #434B5C;\n",
       "      box-shadow: 0px 1px 3px 1px rgba(0, 0, 0, 0.15);\n",
       "      filter: drop-shadow(0px 1px 2px rgba(0, 0, 0, 0.3));\n",
       "      fill: #FFFFFF;\n",
       "    }\n",
       "  </style>\n",
       "\n",
       "      <script>\n",
       "        const buttonEl =\n",
       "          document.querySelector('#df-12939eb3-6f3b-47dd-8b4e-82562839e8f9 button.colab-df-convert');\n",
       "        buttonEl.style.display =\n",
       "          google.colab.kernel.accessAllowed ? 'block' : 'none';\n",
       "\n",
       "        async function convertToInteractive(key) {\n",
       "          const element = document.querySelector('#df-12939eb3-6f3b-47dd-8b4e-82562839e8f9');\n",
       "          const dataTable =\n",
       "            await google.colab.kernel.invokeFunction('convertToInteractive',\n",
       "                                                     [key], {});\n",
       "          if (!dataTable) return;\n",
       "\n",
       "          const docLinkHtml = 'Like what you see? Visit the ' +\n",
       "            '<a target=\"_blank\" href=https://colab.research.google.com/notebooks/data_table.ipynb>data table notebook</a>'\n",
       "            + ' to learn more about interactive tables.';\n",
       "          element.innerHTML = '';\n",
       "          dataTable['output_type'] = 'display_data';\n",
       "          await google.colab.output.renderOutput(dataTable, element);\n",
       "          const docLink = document.createElement('div');\n",
       "          docLink.innerHTML = docLinkHtml;\n",
       "          element.appendChild(docLink);\n",
       "        }\n",
       "      </script>\n",
       "    </div>\n",
       "  </div>\n",
       "  "
      ],
      "text/plain": [
       "         DAY_OF_MONTH  DAY_OF_WEEK OP_CARRIER ORIGIN DEST  DEP_TIME  \\\n",
       "0                   1            2         9E    GNV  ATL     601.0   \n",
       "1                   1            2         9E    MSP  CVG    1359.0   \n",
       "2                   1            2         9E    DTW  CVG    1215.0   \n",
       "3                   1            2         9E    TLH  ATL    1521.0   \n",
       "4                   1            2         9E    ATL  FSM    1847.0   \n",
       "...               ...          ...        ...    ...  ...       ...   \n",
       "1191326            31            5         9E    TYS  DTW    1002.0   \n",
       "1191327            31            5         9E    DTW  JFK    1747.0   \n",
       "1191328            31            5         9E    GSP  LGA     554.0   \n",
       "1191329            31            5         9E    ATL  XNA    1714.0   \n",
       "1191330            31            5         9E    XNA  ATL    1841.0   \n",
       "\n",
       "         DEP_DEL15 DEP_TIME_BLK  DISTANCE  ARR_DEL15  \n",
       "0              0.0    0600-0659     300.0        0.0  \n",
       "1              0.0    1400-1459     596.0        0.0  \n",
       "2              0.0    1200-1259     229.0        0.0  \n",
       "3              0.0    1500-1559     223.0        0.0  \n",
       "4              0.0    1900-1959     579.0        0.0  \n",
       "...            ...          ...       ...        ...  \n",
       "1191326        1.0    0700-0759     443.0        1.0  \n",
       "1191327        0.0    1700-1759     509.0        0.0  \n",
       "1191328        0.0    0600-0659     610.0        0.0  \n",
       "1191329        0.0    1700-1759     589.0        0.0  \n",
       "1191330        0.0    1800-1859     589.0        0.0  \n",
       "\n",
       "[1165231 rows x 10 columns]"
      ]
     },
     "execution_count": 27,
     "metadata": {},
     "output_type": "execute_result"
    }
   ],
   "source": [
    "flight_df"
   ]
  },
  {
   "cell_type": "code",
   "execution_count": 28,
   "metadata": {
    "colab": {
     "base_uri": "https://localhost:8080/"
    },
    "executionInfo": {
     "elapsed": 43,
     "status": "ok",
     "timestamp": 1674071247082,
     "user": {
      "displayName": "satwik gupta",
      "userId": "11579781950189161815"
     },
     "user_tz": -330
    },
    "id": "64ncrZf5t2_R",
    "outputId": "ff3766f6-5e57-41ef-dbaf-531d76dc9f28"
   },
   "outputs": [
    {
     "name": "stdout",
     "output_type": "stream",
     "text": [
      "<class 'pandas.core.frame.DataFrame'>\n",
      "Int64Index: 1165231 entries, 0 to 1191330\n",
      "Data columns (total 10 columns):\n",
      " #   Column        Non-Null Count    Dtype  \n",
      "---  ------        --------------    -----  \n",
      " 0   DAY_OF_MONTH  1165231 non-null  int64  \n",
      " 1   DAY_OF_WEEK   1165231 non-null  int64  \n",
      " 2   OP_CARRIER    1165231 non-null  object \n",
      " 3   ORIGIN        1165231 non-null  object \n",
      " 4   DEST          1165231 non-null  object \n",
      " 5   DEP_TIME      1165231 non-null  float64\n",
      " 6   DEP_DEL15     1165231 non-null  float64\n",
      " 7   DEP_TIME_BLK  1165231 non-null  object \n",
      " 8   DISTANCE      1165231 non-null  float64\n",
      " 9   ARR_DEL15     1165231 non-null  float64\n",
      "dtypes: float64(4), int64(2), object(4)\n",
      "memory usage: 97.8+ MB\n"
     ]
    }
   ],
   "source": [
    "flight_df.info()"
   ]
  },
  {
   "cell_type": "code",
   "execution_count": 29,
   "metadata": {
    "colab": {
     "base_uri": "https://localhost:8080/"
    },
    "executionInfo": {
     "elapsed": 26,
     "status": "ok",
     "timestamp": 1674071247085,
     "user": {
      "displayName": "satwik gupta",
      "userId": "11579781950189161815"
     },
     "user_tz": -330
    },
    "id": "8t2qKrZHt2_S",
    "outputId": "2b0b24f2-c82f-4023-d6bd-d62b35456190"
   },
   "outputs": [
    {
     "data": {
      "text/plain": [
       "DAY_OF_MONTH    0\n",
       "DAY_OF_WEEK     0\n",
       "OP_CARRIER      0\n",
       "ORIGIN          0\n",
       "DEST            0\n",
       "DEP_TIME        0\n",
       "DEP_DEL15       0\n",
       "DEP_TIME_BLK    0\n",
       "DISTANCE        0\n",
       "ARR_DEL15       0\n",
       "dtype: int64"
      ]
     },
     "execution_count": 29,
     "metadata": {},
     "output_type": "execute_result"
    }
   ],
   "source": [
    "flight_df.isna().sum()"
   ]
  },
  {
   "cell_type": "markdown",
   "metadata": {
    "id": "MKbdIBp_t2_S"
   },
   "source": [
    "Now our dataframe has no null values."
   ]
  },
  {
   "cell_type": "code",
   "execution_count": 29,
   "metadata": {
    "executionInfo": {
     "elapsed": 20,
     "status": "ok",
     "timestamp": 1674071247087,
     "user": {
      "displayName": "satwik gupta",
      "userId": "11579781950189161815"
     },
     "user_tz": -330
    },
    "id": "Pn1FXYrisG1n"
   },
   "outputs": [],
   "source": []
  },
  {
   "cell_type": "markdown",
   "metadata": {
    "id": "2Jzzr4DRr2ye"
   },
   "source": [
    "### Exploratory Data Analysis"
   ]
  },
  {
   "cell_type": "markdown",
   "metadata": {
    "id": "2NzZx0cxt2_U"
   },
   "source": [
    "Now let's check the numeric columns of our dataframe."
   ]
  },
  {
   "cell_type": "code",
   "execution_count": 30,
   "metadata": {
    "colab": {
     "base_uri": "https://localhost:8080/",
     "height": 300
    },
    "executionInfo": {
     "elapsed": 489,
     "status": "ok",
     "timestamp": 1674071247557,
     "user": {
      "displayName": "satwik gupta",
      "userId": "11579781950189161815"
     },
     "user_tz": -330
    },
    "id": "p_bRQSACsG1v",
    "outputId": "63f543f4-d89b-42e7-ae13-590e369e9482"
   },
   "outputs": [
    {
     "data": {
      "text/html": [
       "\n",
       "  <div id=\"df-0fa8940e-70cc-4830-95b4-57cb9a6cef40\">\n",
       "    <div class=\"colab-df-container\">\n",
       "      <div>\n",
       "<style scoped>\n",
       "    .dataframe tbody tr th:only-of-type {\n",
       "        vertical-align: middle;\n",
       "    }\n",
       "\n",
       "    .dataframe tbody tr th {\n",
       "        vertical-align: top;\n",
       "    }\n",
       "\n",
       "    .dataframe thead th {\n",
       "        text-align: right;\n",
       "    }\n",
       "</style>\n",
       "<table border=\"1\" class=\"dataframe\">\n",
       "  <thead>\n",
       "    <tr style=\"text-align: right;\">\n",
       "      <th></th>\n",
       "      <th>DAY_OF_MONTH</th>\n",
       "      <th>DAY_OF_WEEK</th>\n",
       "      <th>DEP_TIME</th>\n",
       "      <th>DEP_DEL15</th>\n",
       "      <th>DISTANCE</th>\n",
       "      <th>ARR_DEL15</th>\n",
       "    </tr>\n",
       "  </thead>\n",
       "  <tbody>\n",
       "    <tr>\n",
       "      <th>count</th>\n",
       "      <td>1.165231e+06</td>\n",
       "      <td>1.165231e+06</td>\n",
       "      <td>1.165231e+06</td>\n",
       "      <td>1.165231e+06</td>\n",
       "      <td>1.165231e+06</td>\n",
       "      <td>1.165231e+06</td>\n",
       "    </tr>\n",
       "    <tr>\n",
       "      <th>mean</th>\n",
       "      <td>1.590670e+01</td>\n",
       "      <td>3.894310e+00</td>\n",
       "      <td>1.331725e+03</td>\n",
       "      <td>1.542630e-01</td>\n",
       "      <td>8.010043e+02</td>\n",
       "      <td>1.609183e-01</td>\n",
       "    </tr>\n",
       "    <tr>\n",
       "      <th>std</th>\n",
       "      <td>8.989842e+00</td>\n",
       "      <td>1.916468e+00</td>\n",
       "      <td>4.962459e+02</td>\n",
       "      <td>3.612008e-01</td>\n",
       "      <td>5.902830e+02</td>\n",
       "      <td>3.674557e-01</td>\n",
       "    </tr>\n",
       "    <tr>\n",
       "      <th>min</th>\n",
       "      <td>1.000000e+00</td>\n",
       "      <td>1.000000e+00</td>\n",
       "      <td>1.000000e+00</td>\n",
       "      <td>0.000000e+00</td>\n",
       "      <td>3.100000e+01</td>\n",
       "      <td>0.000000e+00</td>\n",
       "    </tr>\n",
       "    <tr>\n",
       "      <th>25%</th>\n",
       "      <td>8.000000e+00</td>\n",
       "      <td>2.000000e+00</td>\n",
       "      <td>9.200000e+02</td>\n",
       "      <td>0.000000e+00</td>\n",
       "      <td>3.680000e+02</td>\n",
       "      <td>0.000000e+00</td>\n",
       "    </tr>\n",
       "    <tr>\n",
       "      <th>50%</th>\n",
       "      <td>1.600000e+01</td>\n",
       "      <td>4.000000e+00</td>\n",
       "      <td>1.327000e+03</td>\n",
       "      <td>0.000000e+00</td>\n",
       "      <td>6.410000e+02</td>\n",
       "      <td>0.000000e+00</td>\n",
       "    </tr>\n",
       "    <tr>\n",
       "      <th>75%</th>\n",
       "      <td>2.400000e+01</td>\n",
       "      <td>5.000000e+00</td>\n",
       "      <td>1.739000e+03</td>\n",
       "      <td>0.000000e+00</td>\n",
       "      <td>1.042000e+03</td>\n",
       "      <td>0.000000e+00</td>\n",
       "    </tr>\n",
       "    <tr>\n",
       "      <th>max</th>\n",
       "      <td>3.100000e+01</td>\n",
       "      <td>7.000000e+00</td>\n",
       "      <td>2.400000e+03</td>\n",
       "      <td>1.000000e+00</td>\n",
       "      <td>5.095000e+03</td>\n",
       "      <td>1.000000e+00</td>\n",
       "    </tr>\n",
       "  </tbody>\n",
       "</table>\n",
       "</div>\n",
       "      <button class=\"colab-df-convert\" onclick=\"convertToInteractive('df-0fa8940e-70cc-4830-95b4-57cb9a6cef40')\"\n",
       "              title=\"Convert this dataframe to an interactive table.\"\n",
       "              style=\"display:none;\">\n",
       "        \n",
       "  <svg xmlns=\"http://www.w3.org/2000/svg\" height=\"24px\"viewBox=\"0 0 24 24\"\n",
       "       width=\"24px\">\n",
       "    <path d=\"M0 0h24v24H0V0z\" fill=\"none\"/>\n",
       "    <path d=\"M18.56 5.44l.94 2.06.94-2.06 2.06-.94-2.06-.94-.94-2.06-.94 2.06-2.06.94zm-11 1L8.5 8.5l.94-2.06 2.06-.94-2.06-.94L8.5 2.5l-.94 2.06-2.06.94zm10 10l.94 2.06.94-2.06 2.06-.94-2.06-.94-.94-2.06-.94 2.06-2.06.94z\"/><path d=\"M17.41 7.96l-1.37-1.37c-.4-.4-.92-.59-1.43-.59-.52 0-1.04.2-1.43.59L10.3 9.45l-7.72 7.72c-.78.78-.78 2.05 0 2.83L4 21.41c.39.39.9.59 1.41.59.51 0 1.02-.2 1.41-.59l7.78-7.78 2.81-2.81c.8-.78.8-2.07 0-2.86zM5.41 20L4 18.59l7.72-7.72 1.47 1.35L5.41 20z\"/>\n",
       "  </svg>\n",
       "      </button>\n",
       "      \n",
       "  <style>\n",
       "    .colab-df-container {\n",
       "      display:flex;\n",
       "      flex-wrap:wrap;\n",
       "      gap: 12px;\n",
       "    }\n",
       "\n",
       "    .colab-df-convert {\n",
       "      background-color: #E8F0FE;\n",
       "      border: none;\n",
       "      border-radius: 50%;\n",
       "      cursor: pointer;\n",
       "      display: none;\n",
       "      fill: #1967D2;\n",
       "      height: 32px;\n",
       "      padding: 0 0 0 0;\n",
       "      width: 32px;\n",
       "    }\n",
       "\n",
       "    .colab-df-convert:hover {\n",
       "      background-color: #E2EBFA;\n",
       "      box-shadow: 0px 1px 2px rgba(60, 64, 67, 0.3), 0px 1px 3px 1px rgba(60, 64, 67, 0.15);\n",
       "      fill: #174EA6;\n",
       "    }\n",
       "\n",
       "    [theme=dark] .colab-df-convert {\n",
       "      background-color: #3B4455;\n",
       "      fill: #D2E3FC;\n",
       "    }\n",
       "\n",
       "    [theme=dark] .colab-df-convert:hover {\n",
       "      background-color: #434B5C;\n",
       "      box-shadow: 0px 1px 3px 1px rgba(0, 0, 0, 0.15);\n",
       "      filter: drop-shadow(0px 1px 2px rgba(0, 0, 0, 0.3));\n",
       "      fill: #FFFFFF;\n",
       "    }\n",
       "  </style>\n",
       "\n",
       "      <script>\n",
       "        const buttonEl =\n",
       "          document.querySelector('#df-0fa8940e-70cc-4830-95b4-57cb9a6cef40 button.colab-df-convert');\n",
       "        buttonEl.style.display =\n",
       "          google.colab.kernel.accessAllowed ? 'block' : 'none';\n",
       "\n",
       "        async function convertToInteractive(key) {\n",
       "          const element = document.querySelector('#df-0fa8940e-70cc-4830-95b4-57cb9a6cef40');\n",
       "          const dataTable =\n",
       "            await google.colab.kernel.invokeFunction('convertToInteractive',\n",
       "                                                     [key], {});\n",
       "          if (!dataTable) return;\n",
       "\n",
       "          const docLinkHtml = 'Like what you see? Visit the ' +\n",
       "            '<a target=\"_blank\" href=https://colab.research.google.com/notebooks/data_table.ipynb>data table notebook</a>'\n",
       "            + ' to learn more about interactive tables.';\n",
       "          element.innerHTML = '';\n",
       "          dataTable['output_type'] = 'display_data';\n",
       "          await google.colab.output.renderOutput(dataTable, element);\n",
       "          const docLink = document.createElement('div');\n",
       "          docLink.innerHTML = docLinkHtml;\n",
       "          element.appendChild(docLink);\n",
       "        }\n",
       "      </script>\n",
       "    </div>\n",
       "  </div>\n",
       "  "
      ],
      "text/plain": [
       "       DAY_OF_MONTH   DAY_OF_WEEK      DEP_TIME     DEP_DEL15      DISTANCE  \\\n",
       "count  1.165231e+06  1.165231e+06  1.165231e+06  1.165231e+06  1.165231e+06   \n",
       "mean   1.590670e+01  3.894310e+00  1.331725e+03  1.542630e-01  8.010043e+02   \n",
       "std    8.989842e+00  1.916468e+00  4.962459e+02  3.612008e-01  5.902830e+02   \n",
       "min    1.000000e+00  1.000000e+00  1.000000e+00  0.000000e+00  3.100000e+01   \n",
       "25%    8.000000e+00  2.000000e+00  9.200000e+02  0.000000e+00  3.680000e+02   \n",
       "50%    1.600000e+01  4.000000e+00  1.327000e+03  0.000000e+00  6.410000e+02   \n",
       "75%    2.400000e+01  5.000000e+00  1.739000e+03  0.000000e+00  1.042000e+03   \n",
       "max    3.100000e+01  7.000000e+00  2.400000e+03  1.000000e+00  5.095000e+03   \n",
       "\n",
       "          ARR_DEL15  \n",
       "count  1.165231e+06  \n",
       "mean   1.609183e-01  \n",
       "std    3.674557e-01  \n",
       "min    0.000000e+00  \n",
       "25%    0.000000e+00  \n",
       "50%    0.000000e+00  \n",
       "75%    0.000000e+00  \n",
       "max    1.000000e+00  "
      ]
     },
     "execution_count": 30,
     "metadata": {},
     "output_type": "execute_result"
    }
   ],
   "source": [
    "flight_df.describe()"
   ]
  },
  {
   "cell_type": "markdown",
   "metadata": {
    "id": "nGf_Yzcot2_V"
   },
   "source": [
    "There seems no unreal values or outliers. Now we can explore the data for some insights."
   ]
  },
  {
   "cell_type": "code",
   "execution_count": 31,
   "metadata": {
    "colab": {
     "base_uri": "https://localhost:8080/",
     "height": 396
    },
    "executionInfo": {
     "elapsed": 1235,
     "status": "ok",
     "timestamp": 1674071248787,
     "user": {
      "displayName": "satwik gupta",
      "userId": "11579781950189161815"
     },
     "user_tz": -330
    },
    "id": "C8hEs92vsG1w",
    "outputId": "ef1c8c36-91ca-4eaf-8254-b1fbf25e7d54"
   },
   "outputs": [
    {
     "data": {
      "image/png": "[encoded data removed]",
      "text/plain": [
       "<Figure size 720x432 with 1 Axes>"
      ]
     },
     "metadata": {
      "needs_background": "light"
     },
     "output_type": "display_data"
    }
   ],
   "source": [
    "sns.histplot(x = 'DEP_TIME', data = flight_df, hue = 'ARR_DEL15');"
   ]
  },
  {
   "cell_type": "code",
   "execution_count": 32,
   "metadata": {
    "colab": {
     "base_uri": "https://localhost:8080/",
     "height": 459
    },
    "executionInfo": {
     "elapsed": 2239,
     "status": "ok",
     "timestamp": 1674071251006,
     "user": {
      "displayName": "satwik gupta",
      "userId": "11579781950189161815"
     },
     "user_tz": -330
    },
    "id": "O1WOr34it2_X",
    "outputId": "56575312-146e-4e81-c3f6-b4ae7be1036a"
   },
   "outputs": [
    {
     "data": {
      "image/png": "[encoded data removed]",
      "text/plain": [
       "<Figure size 720x432 with 1 Axes>"
      ]
     },
     "metadata": {
      "needs_background": "light"
     },
     "output_type": "display_data"
    }
   ],
   "source": [
    "ax = sns.countplot(x = 'DEP_TIME_BLK', data = flight_df, hue = 'ARR_DEL15')\n",
    "ax.set_xticklabels(ax.get_xticklabels(), rotation = 80);"
   ]
  },
  {
   "cell_type": "markdown",
   "metadata": {
    "id": "xW5y2qD9t2_Y"
   },
   "source": [
    "The arrival delay seems to be very little inclined towards midnight hours."
   ]
  },
  {
   "cell_type": "code",
   "execution_count": 33,
   "metadata": {
    "colab": {
     "base_uri": "https://localhost:8080/",
     "height": 396
    },
    "executionInfo": {
     "elapsed": 34,
     "status": "ok",
     "timestamp": 1674071251007,
     "user": {
      "displayName": "satwik gupta",
      "userId": "11579781950189161815"
     },
     "user_tz": -330
    },
    "id": "9WckOLSssG1x",
    "outputId": "56c2aa03-19f2-41e2-efe8-5e0781e5519d"
   },
   "outputs": [
    {
     "data": {
      "image/png": "[encoded data removed]",
      "text/plain": [
       "<Figure size 720x432 with 1 Axes>"
      ]
     },
     "metadata": {
      "needs_background": "light"
     },
     "output_type": "display_data"
    }
   ],
   "source": [
    "ax = sns.countplot(x = 'DAY_OF_WEEK', data = flight_df, hue = 'ARR_DEL15');"
   ]
  },
  {
   "cell_type": "markdown",
   "metadata": {
    "id": "LO2hSyQSt2_Z"
   },
   "source": [
    "Weekend days (6 and 7) have less trips in total and relatively more delays."
   ]
  },
  {
   "cell_type": "code",
   "execution_count": 34,
   "metadata": {
    "colab": {
     "base_uri": "https://localhost:8080/",
     "height": 396
    },
    "executionInfo": {
     "elapsed": 1332,
     "status": "ok",
     "timestamp": 1674071252309,
     "user": {
      "displayName": "satwik gupta",
      "userId": "11579781950189161815"
     },
     "user_tz": -330
    },
    "id": "0n4rPcSJsG1x",
    "outputId": "c4e03313-e74a-4c25-fcd5-b43d3cd27ac8"
   },
   "outputs": [
    {
     "data": {
      "image/png": "[encoded data removed]",
      "text/plain": [
       "<Figure size 720x432 with 1 Axes>"
      ]
     },
     "metadata": {
      "needs_background": "light"
     },
     "output_type": "display_data"
    }
   ],
   "source": [
    "sns.countplot(x = 'DAY_OF_MONTH', data = flight_df, hue = 'ARR_DEL15');"
   ]
  },
  {
   "cell_type": "markdown",
   "metadata": {
    "id": "InKEvBjGt2_b"
   },
   "source": [
    "We can see that the number of delayed flights does not vary in similar fashion to the total number of flights on a given day of the month."
   ]
  },
  {
   "cell_type": "code",
   "execution_count": 35,
   "metadata": {
    "colab": {
     "base_uri": "https://localhost:8080/",
     "height": 396
    },
    "executionInfo": {
     "elapsed": 1255,
     "status": "ok",
     "timestamp": 1674071253540,
     "user": {
      "displayName": "satwik gupta",
      "userId": "11579781950189161815"
     },
     "user_tz": -330
    },
    "id": "aNU9qffCsG1y",
    "outputId": "867fb19c-61aa-45ad-bb43-3c7a0db621f0"
   },
   "outputs": [
    {
     "data": {
      "image/png": "[encoded data removed]",
      "text/plain": [
       "<Figure size 720x432 with 1 Axes>"
      ]
     },
     "metadata": {
      "needs_background": "light"
     },
     "output_type": "display_data"
    }
   ],
   "source": [
    "sns.countplot(x = 'OP_CARRIER', data = flight_df, hue = 'ARR_DEL15');"
   ]
  },
  {
   "cell_type": "markdown",
   "metadata": {
    "id": "NX627D3jt2_c"
   },
   "source": [
    "There is some variation among carriers in terms of total trips and delayed ones."
   ]
  },
  {
   "cell_type": "code",
   "execution_count": 36,
   "metadata": {
    "colab": {
     "base_uri": "https://localhost:8080/",
     "height": 396
    },
    "executionInfo": {
     "elapsed": 2280,
     "status": "ok",
     "timestamp": 1674071255804,
     "user": {
      "displayName": "satwik gupta",
      "userId": "11579781950189161815"
     },
     "user_tz": -330
    },
    "id": "OuWhF0vQsG1z",
    "outputId": "d75cf3b8-8cf5-42be-aeed-a08eca30b119"
   },
   "outputs": [
    {
     "data": {
      "image/png": "[encoded data removed]",
      "text/plain": [
       "<Figure size 720x432 with 1 Axes>"
      ]
     },
     "metadata": {
      "needs_background": "light"
     },
     "output_type": "display_data"
    }
   ],
   "source": [
    "sns.histplot(x = 'DISTANCE', hue = 'ARR_DEL15', data = flight_df);"
   ]
  },
  {
   "cell_type": "markdown",
   "metadata": {
    "id": "Gk7Or6D2t2_d"
   },
   "source": [
    "The above plot shows distance may also become an important feature for our problem."
   ]
  },
  {
   "cell_type": "code",
   "execution_count": 37,
   "metadata": {
    "colab": {
     "base_uri": "https://localhost:8080/",
     "height": 396
    },
    "executionInfo": {
     "elapsed": 1062,
     "status": "ok",
     "timestamp": 1674071256833,
     "user": {
      "displayName": "satwik gupta",
      "userId": "11579781950189161815"
     },
     "user_tz": -330
    },
    "id": "ps-6mpw_t2_e",
    "outputId": "311a296e-9640-4cd9-8a5c-77b3b019ae07"
   },
   "outputs": [
    {
     "data": {
      "image/png": "[encoded data removed]",
      "text/plain": [
       "<Figure size 720x432 with 1 Axes>"
      ]
     },
     "metadata": {
      "needs_background": "light"
     },
     "output_type": "display_data"
    }
   ],
   "source": [
    "sns.countplot(x = 'DEP_DEL15', hue = 'ARR_DEL15', data = flight_df);"
   ]
  },
  {
   "cell_type": "markdown",
   "metadata": {
    "id": "Lh7mhtvIt2_f"
   },
   "source": [
    "So the departure delay very much influence delay on arrival and the 'DEP_DEL15' will be a very important feature for our prediction problem."
   ]
  },
  {
   "cell_type": "code",
   "execution_count": 38,
   "metadata": {
    "colab": {
     "base_uri": "https://localhost:8080/",
     "height": 540
    },
    "executionInfo": {
     "elapsed": 65,
     "status": "ok",
     "timestamp": 1674071256835,
     "user": {
      "displayName": "satwik gupta",
      "userId": "11579781950189161815"
     },
     "user_tz": -330
    },
    "id": "X_Dsv5WbsG1z",
    "outputId": "a6b36a3c-b4ea-4b6a-cde4-b9278a56a866"
   },
   "outputs": [
    {
     "data": {
      "image/png": "[encoded data removed]",
      "text/plain": [
       "<Figure size 648x648 with 1 Axes>"
      ]
     },
     "metadata": {},
     "output_type": "display_data"
    }
   ],
   "source": [
    "plt.figure(figsize = (9,9))\n",
    "plt.title('Percentage of Flights Delayed on Arrival')\n",
    "flight_count = flight_df['ARR_DEL15'].value_counts()\n",
    "plt.pie(flight_count, labels = flight_count.index, autopct = '%1.2f%%');"
   ]
  },
  {
   "cell_type": "markdown",
   "metadata": {
    "id": "ZaT0kKkVxgx-"
   },
   "source": [
    "So approximately 16% of data represent one class(delay on arrival) and 84% the other (no delay)."
   ]
  },
  {
   "cell_type": "code",
   "execution_count": 38,
   "metadata": {
    "executionInfo": {
     "elapsed": 62,
     "status": "ok",
     "timestamp": 1674071256836,
     "user": {
      "displayName": "satwik gupta",
      "userId": "11579781950189161815"
     },
     "user_tz": -330
    },
    "id": "JEfBVBZ-sG10"
   },
   "outputs": [],
   "source": []
  },
  {
   "cell_type": "markdown",
   "metadata": {
    "id": "uswHTCw7r8JX"
   },
   "source": [
    "### Feature Engineering"
   ]
  },
  {
   "cell_type": "code",
   "execution_count": 39,
   "metadata": {
    "colab": {
     "base_uri": "https://localhost:8080/"
    },
    "executionInfo": {
     "elapsed": 63,
     "status": "ok",
     "timestamp": 1674071256838,
     "user": {
      "displayName": "satwik gupta",
      "userId": "11579781950189161815"
     },
     "user_tz": -330
    },
    "id": "UM7gGMi1t2_i",
    "outputId": "8c06d74b-883f-4d93-fe03-0e4d807bc9c5"
   },
   "outputs": [
    {
     "data": {
      "text/plain": [
       "353"
      ]
     },
     "execution_count": 39,
     "metadata": {},
     "output_type": "execute_result"
    }
   ],
   "source": [
    "flight_df['ORIGIN'].nunique()"
   ]
  },
  {
   "cell_type": "code",
   "execution_count": 40,
   "metadata": {
    "colab": {
     "base_uri": "https://localhost:8080/"
    },
    "executionInfo": {
     "elapsed": 40,
     "status": "ok",
     "timestamp": 1674071256839,
     "user": {
      "displayName": "satwik gupta",
      "userId": "11579781950189161815"
     },
     "user_tz": -330
    },
    "id": "VhYdTqnft2_i",
    "outputId": "c43b87e7-79a5-4858-df47-9157061c9b58"
   },
   "outputs": [
    {
     "data": {
      "text/plain": [
       "353"
      ]
     },
     "execution_count": 40,
     "metadata": {},
     "output_type": "execute_result"
    }
   ],
   "source": [
    "flight_df['DEST'].nunique()"
   ]
  },
  {
   "cell_type": "markdown",
   "metadata": {
    "id": "I_rLQzOqt2_i"
   },
   "source": [
    "We have 353 airports in total. Instead of feeding categorical variables of 353 each, we can think of some feature engineering. Let's group origin and destination airports based on delay at departure and arrival and use those as categorical variables."
   ]
  },
  {
   "cell_type": "code",
   "execution_count": 41,
   "metadata": {
    "executionInfo": {
     "elapsed": 29,
     "status": "ok",
     "timestamp": 1674071256840,
     "user": {
      "displayName": "satwik gupta",
      "userId": "11579781950189161815"
     },
     "user_tz": -330
    },
    "id": "7gjiSqect2_j"
   },
   "outputs": [],
   "source": [
    "percent_delay_origin = flight_df[flight_df['DEP_DEL15']== 1.0]['ORIGIN'].value_counts()/flight_df['ORIGIN'].value_counts()"
   ]
  },
  {
   "cell_type": "code",
   "execution_count": 42,
   "metadata": {
    "colab": {
     "base_uri": "https://localhost:8080/"
    },
    "executionInfo": {
     "elapsed": 686,
     "status": "ok",
     "timestamp": 1674071257499,
     "user": {
      "displayName": "satwik gupta",
      "userId": "11579781950189161815"
     },
     "user_tz": -330
    },
    "id": "rWMpVTTHt2_k",
    "outputId": "0ace4267-f3b7-48d5-c966-3f078c23f882"
   },
   "outputs": [
    {
     "data": {
      "text/plain": [
       "ABE    0.166176\n",
       "ABI    0.166163\n",
       "ABQ    0.106371\n",
       "ABR    0.183333\n",
       "ABY    0.089820\n",
       "         ...   \n",
       "WRG    0.168142\n",
       "XNA    0.145199\n",
       "XWA    0.238806\n",
       "YAK    0.183673\n",
       "YUM    0.109635\n",
       "Name: ORIGIN, Length: 353, dtype: float64"
      ]
     },
     "execution_count": 42,
     "metadata": {},
     "output_type": "execute_result"
    }
   ],
   "source": [
    "percent_delay_origin"
   ]
  },
  {
   "cell_type": "code",
   "execution_count": 43,
   "metadata": {
    "colab": {
     "base_uri": "https://localhost:8080/"
    },
    "executionInfo": {
     "elapsed": 29,
     "status": "ok",
     "timestamp": 1674071257500,
     "user": {
      "displayName": "satwik gupta",
      "userId": "11579781950189161815"
     },
     "user_tz": -330
    },
    "id": "A29MBYmft2_l",
    "outputId": "5ea116c2-7905-465c-a0dc-e56ba41dab9e"
   },
   "outputs": [
    {
     "data": {
      "text/plain": [
       "count    353.000000\n",
       "mean       0.159340\n",
       "std        0.055873\n",
       "min        0.034682\n",
       "25%        0.123067\n",
       "50%        0.152306\n",
       "75%        0.187320\n",
       "max        0.411765\n",
       "Name: ORIGIN, dtype: float64"
      ]
     },
     "execution_count": 43,
     "metadata": {},
     "output_type": "execute_result"
    }
   ],
   "source": [
    "percent_delay_origin.describe()"
   ]
  },
  {
   "cell_type": "code",
   "execution_count": 44,
   "metadata": {
    "executionInfo": {
     "elapsed": 19,
     "status": "ok",
     "timestamp": 1674071257502,
     "user": {
      "displayName": "satwik gupta",
      "userId": "11579781950189161815"
     },
     "user_tz": -330
    },
    "id": "dHN84i3-t2_m"
   },
   "outputs": [],
   "source": [
    "flight_df.loc[:,'ORIGIN_CAT'] = 1"
   ]
  },
  {
   "cell_type": "code",
   "execution_count": 45,
   "metadata": {
    "executionInfo": {
     "elapsed": 18,
     "status": "ok",
     "timestamp": 1674071257503,
     "user": {
      "displayName": "satwik gupta",
      "userId": "11579781950189161815"
     },
     "user_tz": -330
    },
    "id": "lQ69bYK0Oh57"
   },
   "outputs": [],
   "source": [
    "origin_cat_dict = {}  #Will be useful while making new input prediction"
   ]
  },
  {
   "cell_type": "code",
   "execution_count": 46,
   "metadata": {
    "code_folding": [],
    "executionInfo": {
     "elapsed": 33685,
     "status": "ok",
     "timestamp": 1674071291171,
     "user": {
      "displayName": "satwik gupta",
      "userId": "11579781950189161815"
     },
     "user_tz": -330
    },
    "id": "BykEknaIt2_n"
   },
   "outputs": [],
   "source": [
    "# insert categories for 'ORIGIN' in 'ORIGIN_CAT' column\n",
    "for index, value in zip(percent_delay_origin.index, percent_delay_origin.values):\n",
    "    if value < 0.05:\n",
    "        origin_cat_dict[index] = 0\n",
    "        flight_df.loc[flight_df['ORIGIN'] == index, 'ORIGIN_CAT'] = 0\n",
    "    elif 0.05 <= value < 0.1:\n",
    "        origin_cat_dict[index] = 1\n",
    "        flight_df.loc[flight_df['ORIGIN'] == index, 'ORIGIN_CAT'] = 1\n",
    "    elif 0.1 <= value < 0.15:\n",
    "        origin_cat_dict[index] = 2\n",
    "        flight_df.loc[flight_df['ORIGIN'] == index, 'ORIGIN_CAT'] = 2\n",
    "    elif 0.15 <= value < 0.2:\n",
    "        origin_cat_dict[index] = 3\n",
    "        flight_df.loc[flight_df['ORIGIN'] == index, 'ORIGIN_CAT'] = 3\n",
    "    elif 0.2 <= value < 0.25:\n",
    "        origin_cat_dict[index] = 4\n",
    "        flight_df.loc[flight_df['ORIGIN'] == index, 'ORIGIN_CAT'] = 4\n",
    "    elif 0.25 <= value < 0.3:\n",
    "        origin_cat_dict[index] = 5\n",
    "        flight_df.loc[flight_df['ORIGIN'] == index, 'ORIGIN_CAT'] = 5\n",
    "    elif 0.3 <= value < 0.35:\n",
    "        origin_cat_dict[index] = 6\n",
    "        flight_df.loc[flight_df['ORIGIN'] == index, 'ORIGIN_CAT'] = 6\n",
    "    elif 0.35 <= value < 0.42:\n",
    "        origin_cat_dict[index] = 7\n",
    "        flight_df.loc[flight_df['ORIGIN'] == index, 'ORIGIN_CAT'] = 7\n"
   ]
  },
  {
   "cell_type": "code",
   "execution_count": 47,
   "metadata": {
    "colab": {
     "base_uri": "https://localhost:8080/"
    },
    "executionInfo": {
     "elapsed": 78,
     "status": "ok",
     "timestamp": 1674071291173,
     "user": {
      "displayName": "satwik gupta",
      "userId": "11579781950189161815"
     },
     "user_tz": -330
    },
    "id": "m8BgX2GOt2_p",
    "outputId": "db947345-3eae-41fb-9728-81d4a793b2d8"
   },
   "outputs": [
    {
     "data": {
      "text/plain": [
       "ABE    0.174298\n",
       "ABI    0.181818\n",
       "ABQ    0.126912\n",
       "ABR    0.200000\n",
       "ABY    0.107784\n",
       "         ...   \n",
       "WRG    0.243243\n",
       "XNA    0.162856\n",
       "XWA    0.161290\n",
       "YAK    0.247525\n",
       "YUM    0.150000\n",
       "Name: DEST, Length: 353, dtype: float64"
      ]
     },
     "execution_count": 47,
     "metadata": {},
     "output_type": "execute_result"
    }
   ],
   "source": [
    "percent_delay_dest = flight_df[flight_df['ARR_DEL15']== 1.0]['DEST'].value_counts()/flight_df['DEST'].value_counts()\n",
    "percent_delay_dest"
   ]
  },
  {
   "cell_type": "code",
   "execution_count": 48,
   "metadata": {
    "colab": {
     "base_uri": "https://localhost:8080/"
    },
    "executionInfo": {
     "elapsed": 46,
     "status": "ok",
     "timestamp": 1674071291174,
     "user": {
      "displayName": "satwik gupta",
      "userId": "11579781950189161815"
     },
     "user_tz": -330
    },
    "id": "PpUzCEe1t2_q",
    "outputId": "dfa0f396-9f52-4aea-c479-1ae00acccba2"
   },
   "outputs": [
    {
     "data": {
      "text/plain": [
       "count    353.000000\n",
       "mean       0.175805\n",
       "std        0.054750\n",
       "min        0.047244\n",
       "25%        0.141176\n",
       "50%        0.167407\n",
       "75%        0.200535\n",
       "max        0.353535\n",
       "Name: DEST, dtype: float64"
      ]
     },
     "execution_count": 48,
     "metadata": {},
     "output_type": "execute_result"
    }
   ],
   "source": [
    "percent_delay_dest.describe()"
   ]
  },
  {
   "cell_type": "code",
   "execution_count": 49,
   "metadata": {
    "executionInfo": {
     "elapsed": 29,
     "status": "ok",
     "timestamp": 1674071291176,
     "user": {
      "displayName": "satwik gupta",
      "userId": "11579781950189161815"
     },
     "user_tz": -330
    },
    "id": "WG-DVY2it2_q"
   },
   "outputs": [],
   "source": [
    "flight_df.loc[:, 'DEST_CAT'] = 1"
   ]
  },
  {
   "cell_type": "code",
   "execution_count": 50,
   "metadata": {
    "executionInfo": {
     "elapsed": 28,
     "status": "ok",
     "timestamp": 1674071291178,
     "user": {
      "displayName": "satwik gupta",
      "userId": "11579781950189161815"
     },
     "user_tz": -330
    },
    "id": "ucQu3FpeNMHj"
   },
   "outputs": [],
   "source": [
    "dest_cat_dict = {} #Will be useful while making new input prediction"
   ]
  },
  {
   "cell_type": "code",
   "execution_count": 51,
   "metadata": {
    "executionInfo": {
     "elapsed": 36668,
     "status": "ok",
     "timestamp": 1674071327820,
     "user": {
      "displayName": "satwik gupta",
      "userId": "11579781950189161815"
     },
     "user_tz": -330
    },
    "id": "pNuddM50t2_r"
   },
   "outputs": [],
   "source": [
    "# insert categories for 'DEST' in 'DEST_CAT' column\n",
    "for index, value in zip(percent_delay_dest.index, percent_delay_dest.values):\n",
    "    if value < 0.05:\n",
    "        dest_cat_dict[index] = 0\n",
    "        flight_df.loc[flight_df['DEST'] == index, 'DEST_CAT'] = 0\n",
    "    elif 0.05 <= value < 0.1:\n",
    "        dest_cat_dict[index] = 1\n",
    "        flight_df.loc[flight_df['DEST'] == index, 'DEST_CAT'] = 1\n",
    "    elif 0.1 <= value < 0.15:\n",
    "        dest_cat_dict[index] = 2\n",
    "        flight_df.loc[flight_df['DEST'] == index, 'DEST_CAT'] = 2\n",
    "    elif 0.15 <= value < 0.2:\n",
    "        dest_cat_dict[index] = 3 \n",
    "        flight_df.loc[flight_df['DEST'] == index, 'DEST_CAT'] = 3\n",
    "    elif 0.2 <= value < 0.25:\n",
    "        dest_cat_dict[index] = 4\n",
    "        flight_df.loc[flight_df['DEST'] == index, 'DEST_CAT'] = 4\n",
    "    elif 0.25 <= value < 0.3:\n",
    "        dest_cat_dict[index] = 5\n",
    "        flight_df.loc[flight_df['DEST'] == index, 'DEST_CAT'] = 5\n",
    "    elif 0.3 <= value < 0.35:\n",
    "        dest_cat_dict[index] = 6\n",
    "        flight_df.loc[flight_df['DEST'] == index, 'DEST_CAT'] = 6\n",
    "    elif 0.35 <= value < 0.40:\n",
    "        dest_cat_dict[index] = 7\n",
    "        flight_df.loc[flight_df['DEST'] == index, 'DEST_CAT'] = 7"
   ]
  },
  {
   "cell_type": "code",
   "execution_count": 52,
   "metadata": {
    "colab": {
     "base_uri": "https://localhost:8080/",
     "height": 424
    },
    "executionInfo": {
     "elapsed": 212,
     "status": "ok",
     "timestamp": 1674071327822,
     "user": {
      "displayName": "satwik gupta",
      "userId": "11579781950189161815"
     },
     "user_tz": -330
    },
    "id": "D5ZDRRJct2_s",
    "outputId": "f0c57f0f-3bad-415a-c1e2-5e8958a5def0"
   },
   "outputs": [
    {
     "data": {
      "text/html": [
       "\n",
       "  <div id=\"df-d77f4a05-a9f7-452c-ad95-4f8dc7d2aead\">\n",
       "    <div class=\"colab-df-container\">\n",
       "      <div>\n",
       "<style scoped>\n",
       "    .dataframe tbody tr th:only-of-type {\n",
       "        vertical-align: middle;\n",
       "    }\n",
       "\n",
       "    .dataframe tbody tr th {\n",
       "        vertical-align: top;\n",
       "    }\n",
       "\n",
       "    .dataframe thead th {\n",
       "        text-align: right;\n",
       "    }\n",
       "</style>\n",
       "<table border=\"1\" class=\"dataframe\">\n",
       "  <thead>\n",
       "    <tr style=\"text-align: right;\">\n",
       "      <th></th>\n",
       "      <th>DAY_OF_MONTH</th>\n",
       "      <th>DAY_OF_WEEK</th>\n",
       "      <th>OP_CARRIER</th>\n",
       "      <th>ORIGIN</th>\n",
       "      <th>DEST</th>\n",
       "      <th>DEP_TIME</th>\n",
       "      <th>DEP_DEL15</th>\n",
       "      <th>DEP_TIME_BLK</th>\n",
       "      <th>DISTANCE</th>\n",
       "      <th>ARR_DEL15</th>\n",
       "      <th>ORIGIN_CAT</th>\n",
       "      <th>DEST_CAT</th>\n",
       "    </tr>\n",
       "  </thead>\n",
       "  <tbody>\n",
       "    <tr>\n",
       "      <th>0</th>\n",
       "      <td>1</td>\n",
       "      <td>2</td>\n",
       "      <td>9E</td>\n",
       "      <td>GNV</td>\n",
       "      <td>ATL</td>\n",
       "      <td>601.0</td>\n",
       "      <td>0.0</td>\n",
       "      <td>0600-0659</td>\n",
       "      <td>300.0</td>\n",
       "      <td>0.0</td>\n",
       "      <td>2</td>\n",
       "      <td>2</td>\n",
       "    </tr>\n",
       "    <tr>\n",
       "      <th>1</th>\n",
       "      <td>1</td>\n",
       "      <td>2</td>\n",
       "      <td>9E</td>\n",
       "      <td>MSP</td>\n",
       "      <td>CVG</td>\n",
       "      <td>1359.0</td>\n",
       "      <td>0.0</td>\n",
       "      <td>1400-1459</td>\n",
       "      <td>596.0</td>\n",
       "      <td>0.0</td>\n",
       "      <td>2</td>\n",
       "      <td>3</td>\n",
       "    </tr>\n",
       "    <tr>\n",
       "      <th>2</th>\n",
       "      <td>1</td>\n",
       "      <td>2</td>\n",
       "      <td>9E</td>\n",
       "      <td>DTW</td>\n",
       "      <td>CVG</td>\n",
       "      <td>1215.0</td>\n",
       "      <td>0.0</td>\n",
       "      <td>1200-1259</td>\n",
       "      <td>229.0</td>\n",
       "      <td>0.0</td>\n",
       "      <td>2</td>\n",
       "      <td>3</td>\n",
       "    </tr>\n",
       "    <tr>\n",
       "      <th>3</th>\n",
       "      <td>1</td>\n",
       "      <td>2</td>\n",
       "      <td>9E</td>\n",
       "      <td>TLH</td>\n",
       "      <td>ATL</td>\n",
       "      <td>1521.0</td>\n",
       "      <td>0.0</td>\n",
       "      <td>1500-1559</td>\n",
       "      <td>223.0</td>\n",
       "      <td>0.0</td>\n",
       "      <td>2</td>\n",
       "      <td>2</td>\n",
       "    </tr>\n",
       "    <tr>\n",
       "      <th>4</th>\n",
       "      <td>1</td>\n",
       "      <td>2</td>\n",
       "      <td>9E</td>\n",
       "      <td>ATL</td>\n",
       "      <td>FSM</td>\n",
       "      <td>1847.0</td>\n",
       "      <td>0.0</td>\n",
       "      <td>1900-1959</td>\n",
       "      <td>579.0</td>\n",
       "      <td>0.0</td>\n",
       "      <td>2</td>\n",
       "      <td>2</td>\n",
       "    </tr>\n",
       "    <tr>\n",
       "      <th>...</th>\n",
       "      <td>...</td>\n",
       "      <td>...</td>\n",
       "      <td>...</td>\n",
       "      <td>...</td>\n",
       "      <td>...</td>\n",
       "      <td>...</td>\n",
       "      <td>...</td>\n",
       "      <td>...</td>\n",
       "      <td>...</td>\n",
       "      <td>...</td>\n",
       "      <td>...</td>\n",
       "      <td>...</td>\n",
       "    </tr>\n",
       "    <tr>\n",
       "      <th>1191326</th>\n",
       "      <td>31</td>\n",
       "      <td>5</td>\n",
       "      <td>9E</td>\n",
       "      <td>TYS</td>\n",
       "      <td>DTW</td>\n",
       "      <td>1002.0</td>\n",
       "      <td>1.0</td>\n",
       "      <td>0700-0759</td>\n",
       "      <td>443.0</td>\n",
       "      <td>1.0</td>\n",
       "      <td>2</td>\n",
       "      <td>2</td>\n",
       "    </tr>\n",
       "    <tr>\n",
       "      <th>1191327</th>\n",
       "      <td>31</td>\n",
       "      <td>5</td>\n",
       "      <td>9E</td>\n",
       "      <td>DTW</td>\n",
       "      <td>JFK</td>\n",
       "      <td>1747.0</td>\n",
       "      <td>0.0</td>\n",
       "      <td>1700-1759</td>\n",
       "      <td>509.0</td>\n",
       "      <td>0.0</td>\n",
       "      <td>2</td>\n",
       "      <td>3</td>\n",
       "    </tr>\n",
       "    <tr>\n",
       "      <th>1191328</th>\n",
       "      <td>31</td>\n",
       "      <td>5</td>\n",
       "      <td>9E</td>\n",
       "      <td>GSP</td>\n",
       "      <td>LGA</td>\n",
       "      <td>554.0</td>\n",
       "      <td>0.0</td>\n",
       "      <td>0600-0659</td>\n",
       "      <td>610.0</td>\n",
       "      <td>0.0</td>\n",
       "      <td>2</td>\n",
       "      <td>5</td>\n",
       "    </tr>\n",
       "    <tr>\n",
       "      <th>1191329</th>\n",
       "      <td>31</td>\n",
       "      <td>5</td>\n",
       "      <td>9E</td>\n",
       "      <td>ATL</td>\n",
       "      <td>XNA</td>\n",
       "      <td>1714.0</td>\n",
       "      <td>0.0</td>\n",
       "      <td>1700-1759</td>\n",
       "      <td>589.0</td>\n",
       "      <td>0.0</td>\n",
       "      <td>2</td>\n",
       "      <td>3</td>\n",
       "    </tr>\n",
       "    <tr>\n",
       "      <th>1191330</th>\n",
       "      <td>31</td>\n",
       "      <td>5</td>\n",
       "      <td>9E</td>\n",
       "      <td>XNA</td>\n",
       "      <td>ATL</td>\n",
       "      <td>1841.0</td>\n",
       "      <td>0.0</td>\n",
       "      <td>1800-1859</td>\n",
       "      <td>589.0</td>\n",
       "      <td>0.0</td>\n",
       "      <td>2</td>\n",
       "      <td>2</td>\n",
       "    </tr>\n",
       "  </tbody>\n",
       "</table>\n",
       "<p>1165231 rows × 12 columns</p>\n",
       "</div>\n",
       "      <button class=\"colab-df-convert\" onclick=\"convertToInteractive('df-d77f4a05-a9f7-452c-ad95-4f8dc7d2aead')\"\n",
       "              title=\"Convert this dataframe to an interactive table.\"\n",
       "              style=\"display:none;\">\n",
       "        \n",
       "  <svg xmlns=\"http://www.w3.org/2000/svg\" height=\"24px\"viewBox=\"0 0 24 24\"\n",
       "       width=\"24px\">\n",
       "    <path d=\"M0 0h24v24H0V0z\" fill=\"none\"/>\n",
       "    <path d=\"M18.56 5.44l.94 2.06.94-2.06 2.06-.94-2.06-.94-.94-2.06-.94 2.06-2.06.94zm-11 1L8.5 8.5l.94-2.06 2.06-.94-2.06-.94L8.5 2.5l-.94 2.06-2.06.94zm10 10l.94 2.06.94-2.06 2.06-.94-2.06-.94-.94-2.06-.94 2.06-2.06.94z\"/><path d=\"M17.41 7.96l-1.37-1.37c-.4-.4-.92-.59-1.43-.59-.52 0-1.04.2-1.43.59L10.3 9.45l-7.72 7.72c-.78.78-.78 2.05 0 2.83L4 21.41c.39.39.9.59 1.41.59.51 0 1.02-.2 1.41-.59l7.78-7.78 2.81-2.81c.8-.78.8-2.07 0-2.86zM5.41 20L4 18.59l7.72-7.72 1.47 1.35L5.41 20z\"/>\n",
       "  </svg>\n",
       "      </button>\n",
       "      \n",
       "  <style>\n",
       "    .colab-df-container {\n",
       "      display:flex;\n",
       "      flex-wrap:wrap;\n",
       "      gap: 12px;\n",
       "    }\n",
       "\n",
       "    .colab-df-convert {\n",
       "      background-color: #E8F0FE;\n",
       "      border: none;\n",
       "      border-radius: 50%;\n",
       "      cursor: pointer;\n",
       "      display: none;\n",
       "      fill: #1967D2;\n",
       "      height: 32px;\n",
       "      padding: 0 0 0 0;\n",
       "      width: 32px;\n",
       "    }\n",
       "\n",
       "    .colab-df-convert:hover {\n",
       "      background-color: #E2EBFA;\n",
       "      box-shadow: 0px 1px 2px rgba(60, 64, 67, 0.3), 0px 1px 3px 1px rgba(60, 64, 67, 0.15);\n",
       "      fill: #174EA6;\n",
       "    }\n",
       "\n",
       "    [theme=dark] .colab-df-convert {\n",
       "      background-color: #3B4455;\n",
       "      fill: #D2E3FC;\n",
       "    }\n",
       "\n",
       "    [theme=dark] .colab-df-convert:hover {\n",
       "      background-color: #434B5C;\n",
       "      box-shadow: 0px 1px 3px 1px rgba(0, 0, 0, 0.15);\n",
       "      filter: drop-shadow(0px 1px 2px rgba(0, 0, 0, 0.3));\n",
       "      fill: #FFFFFF;\n",
       "    }\n",
       "  </style>\n",
       "\n",
       "      <script>\n",
       "        const buttonEl =\n",
       "          document.querySelector('#df-d77f4a05-a9f7-452c-ad95-4f8dc7d2aead button.colab-df-convert');\n",
       "        buttonEl.style.display =\n",
       "          google.colab.kernel.accessAllowed ? 'block' : 'none';\n",
       "\n",
       "        async function convertToInteractive(key) {\n",
       "          const element = document.querySelector('#df-d77f4a05-a9f7-452c-ad95-4f8dc7d2aead');\n",
       "          const dataTable =\n",
       "            await google.colab.kernel.invokeFunction('convertToInteractive',\n",
       "                                                     [key], {});\n",
       "          if (!dataTable) return;\n",
       "\n",
       "          const docLinkHtml = 'Like what you see? Visit the ' +\n",
       "            '<a target=\"_blank\" href=https://colab.research.google.com/notebooks/data_table.ipynb>data table notebook</a>'\n",
       "            + ' to learn more about interactive tables.';\n",
       "          element.innerHTML = '';\n",
       "          dataTable['output_type'] = 'display_data';\n",
       "          await google.colab.output.renderOutput(dataTable, element);\n",
       "          const docLink = document.createElement('div');\n",
       "          docLink.innerHTML = docLinkHtml;\n",
       "          element.appendChild(docLink);\n",
       "        }\n",
       "      </script>\n",
       "    </div>\n",
       "  </div>\n",
       "  "
      ],
      "text/plain": [
       "         DAY_OF_MONTH  DAY_OF_WEEK OP_CARRIER ORIGIN DEST  DEP_TIME  \\\n",
       "0                   1            2         9E    GNV  ATL     601.0   \n",
       "1                   1            2         9E    MSP  CVG    1359.0   \n",
       "2                   1            2         9E    DTW  CVG    1215.0   \n",
       "3                   1            2         9E    TLH  ATL    1521.0   \n",
       "4                   1            2         9E    ATL  FSM    1847.0   \n",
       "...               ...          ...        ...    ...  ...       ...   \n",
       "1191326            31            5         9E    TYS  DTW    1002.0   \n",
       "1191327            31            5         9E    DTW  JFK    1747.0   \n",
       "1191328            31            5         9E    GSP  LGA     554.0   \n",
       "1191329            31            5         9E    ATL  XNA    1714.0   \n",
       "1191330            31            5         9E    XNA  ATL    1841.0   \n",
       "\n",
       "         DEP_DEL15 DEP_TIME_BLK  DISTANCE  ARR_DEL15  ORIGIN_CAT  DEST_CAT  \n",
       "0              0.0    0600-0659     300.0        0.0           2         2  \n",
       "1              0.0    1400-1459     596.0        0.0           2         3  \n",
       "2              0.0    1200-1259     229.0        0.0           2         3  \n",
       "3              0.0    1500-1559     223.0        0.0           2         2  \n",
       "4              0.0    1900-1959     579.0        0.0           2         2  \n",
       "...            ...          ...       ...        ...         ...       ...  \n",
       "1191326        1.0    0700-0759     443.0        1.0           2         2  \n",
       "1191327        0.0    1700-1759     509.0        0.0           2         3  \n",
       "1191328        0.0    0600-0659     610.0        0.0           2         5  \n",
       "1191329        0.0    1700-1759     589.0        0.0           2         3  \n",
       "1191330        0.0    1800-1859     589.0        0.0           2         2  \n",
       "\n",
       "[1165231 rows x 12 columns]"
      ]
     },
     "execution_count": 52,
     "metadata": {},
     "output_type": "execute_result"
    }
   ],
   "source": [
    "flight_df"
   ]
  },
  {
   "cell_type": "code",
   "execution_count": 52,
   "metadata": {
    "executionInfo": {
     "elapsed": 207,
     "status": "ok",
     "timestamp": 1674071327827,
     "user": {
      "displayName": "satwik gupta",
      "userId": "11579781950189161815"
     },
     "user_tz": -330
    },
    "id": "owH1oGjqt2_s"
   },
   "outputs": [],
   "source": []
  },
  {
   "cell_type": "markdown",
   "metadata": {
    "id": "6Ybzx7dOsG11"
   },
   "source": [
    "### Split Data"
   ]
  },
  {
   "cell_type": "code",
   "execution_count": 53,
   "metadata": {
    "executionInfo": {
     "elapsed": 208,
     "status": "ok",
     "timestamp": 1674071327830,
     "user": {
      "displayName": "satwik gupta",
      "userId": "11579781950189161815"
     },
     "user_tz": -330
    },
    "id": "moDQbRr9sG11"
   },
   "outputs": [],
   "source": [
    "from sklearn.model_selection import train_test_split"
   ]
  },
  {
   "cell_type": "code",
   "execution_count": 54,
   "metadata": {
    "executionInfo": {
     "elapsed": 212,
     "status": "ok",
     "timestamp": 1674071327837,
     "user": {
      "displayName": "satwik gupta",
      "userId": "11579781950189161815"
     },
     "user_tz": -330
    },
    "id": "b8eQNPaxsG11"
   },
   "outputs": [],
   "source": [
    "train_val_df, test_df = train_test_split(flight_df, test_size = 0.2, shuffle = False)\n",
    "train_df, val_df = train_test_split(train_val_df, test_size = 0.25, shuffle = False)"
   ]
  },
  {
   "cell_type": "markdown",
   "metadata": {
    "id": "FT2C_VXUt2_w"
   },
   "source": [
    "The data is split into 60% training, 20% validation and remaining 20% for testing. Shuffle set to False so that latest data comes for testing."
   ]
  },
  {
   "cell_type": "code",
   "execution_count": 55,
   "metadata": {
    "colab": {
     "base_uri": "https://localhost:8080/"
    },
    "executionInfo": {
     "elapsed": 214,
     "status": "ok",
     "timestamp": 1674071327840,
     "user": {
      "displayName": "satwik gupta",
      "userId": "11579781950189161815"
     },
     "user_tz": -330
    },
    "id": "7XpMSjMesG12",
    "outputId": "d9029460-c540-42c8-a850-014103e66ef5"
   },
   "outputs": [
    {
     "name": "stdout",
     "output_type": "stream",
     "text": [
      "train_df size:  (699138, 12)\n",
      "val_df size:  (233046, 12)\n",
      "test_df size:  (233047, 12)\n"
     ]
    }
   ],
   "source": [
    "print('train_df size: ', train_df.shape)\n",
    "print('val_df size: ', val_df.shape)\n",
    "print('test_df size: ', test_df.shape)"
   ]
  },
  {
   "cell_type": "markdown",
   "metadata": {
    "id": "33SeiefpsG13"
   },
   "source": [
    "Let's now select input columns, target columns and then choose numerical and categorical columns for further processing of data."
   ]
  },
  {
   "cell_type": "code",
   "execution_count": 56,
   "metadata": {
    "colab": {
     "base_uri": "https://localhost:8080/"
    },
    "executionInfo": {
     "elapsed": 171,
     "status": "ok",
     "timestamp": 1674071327841,
     "user": {
      "displayName": "satwik gupta",
      "userId": "11579781950189161815"
     },
     "user_tz": -330
    },
    "id": "ATbuZ1x0sG13",
    "outputId": "798e00f9-6d4b-48b4-d048-c2d03eb42c42"
   },
   "outputs": [
    {
     "data": {
      "text/plain": [
       "Index(['DAY_OF_MONTH', 'DAY_OF_WEEK', 'OP_CARRIER', 'ORIGIN', 'DEST',\n",
       "       'DEP_TIME', 'DEP_DEL15', 'DEP_TIME_BLK', 'DISTANCE', 'ARR_DEL15',\n",
       "       'ORIGIN_CAT', 'DEST_CAT'],\n",
       "      dtype='object')"
      ]
     },
     "execution_count": 56,
     "metadata": {},
     "output_type": "execute_result"
    }
   ],
   "source": [
    "flight_df.columns"
   ]
  },
  {
   "cell_type": "code",
   "execution_count": 57,
   "metadata": {
    "executionInfo": {
     "elapsed": 154,
     "status": "ok",
     "timestamp": 1674071327843,
     "user": {
      "displayName": "satwik gupta",
      "userId": "11579781950189161815"
     },
     "user_tz": -330
    },
    "id": "qW9qeom2sG14"
   },
   "outputs": [],
   "source": [
    "input_cols =  ['DAY_OF_MONTH', 'DAY_OF_WEEK', 'OP_CARRIER', 'DEP_TIME', 'DEP_DEL15', \n",
    "               'DEP_TIME_BLK', 'DISTANCE', 'ORIGIN_CAT', 'DEST_CAT']\n",
    "target_col = 'ARR_DEL15'"
   ]
  },
  {
   "cell_type": "code",
   "execution_count": 58,
   "metadata": {
    "executionInfo": {
     "elapsed": 370,
     "status": "ok",
     "timestamp": 1674071329095,
     "user": {
      "displayName": "satwik gupta",
      "userId": "11579781950189161815"
     },
     "user_tz": -330
    },
    "id": "cGIPFqHtsG14"
   },
   "outputs": [],
   "source": [
    "numeric_cols =  ['DAY_OF_MONTH','DEP_TIME', 'DISTANCE']\n",
    "categorical_cols =  ['DAY_OF_WEEK', 'OP_CARRIER', 'DEP_DEL15', 'DEP_TIME_BLK', 'ORIGIN_CAT', 'DEST_CAT']"
   ]
  },
  {
   "cell_type": "code",
   "execution_count": 59,
   "metadata": {
    "colab": {
     "base_uri": "https://localhost:8080/",
     "height": 300
    },
    "executionInfo": {
     "elapsed": 412,
     "status": "ok",
     "timestamp": 1674071329140,
     "user": {
      "displayName": "satwik gupta",
      "userId": "11579781950189161815"
     },
     "user_tz": -330
    },
    "id": "WJAi8Vw6sG15",
    "outputId": "4c47b3c6-d1c2-4914-efef-b016096437cb"
   },
   "outputs": [
    {
     "data": {
      "text/html": [
       "\n",
       "  <div id=\"df-378117a3-726d-49a9-a574-a9429726de6e\">\n",
       "    <div class=\"colab-df-container\">\n",
       "      <div>\n",
       "<style scoped>\n",
       "    .dataframe tbody tr th:only-of-type {\n",
       "        vertical-align: middle;\n",
       "    }\n",
       "\n",
       "    .dataframe tbody tr th {\n",
       "        vertical-align: top;\n",
       "    }\n",
       "\n",
       "    .dataframe thead th {\n",
       "        text-align: right;\n",
       "    }\n",
       "</style>\n",
       "<table border=\"1\" class=\"dataframe\">\n",
       "  <thead>\n",
       "    <tr style=\"text-align: right;\">\n",
       "      <th></th>\n",
       "      <th>DAY_OF_MONTH</th>\n",
       "      <th>DEP_TIME</th>\n",
       "      <th>DISTANCE</th>\n",
       "    </tr>\n",
       "  </thead>\n",
       "  <tbody>\n",
       "    <tr>\n",
       "      <th>count</th>\n",
       "      <td>699138.000000</td>\n",
       "      <td>699138.000000</td>\n",
       "      <td>699138.000000</td>\n",
       "    </tr>\n",
       "    <tr>\n",
       "      <th>mean</th>\n",
       "      <td>13.525677</td>\n",
       "      <td>1333.096670</td>\n",
       "      <td>807.287787</td>\n",
       "    </tr>\n",
       "    <tr>\n",
       "      <th>std</th>\n",
       "      <td>9.346128</td>\n",
       "      <td>497.526748</td>\n",
       "      <td>594.301082</td>\n",
       "    </tr>\n",
       "    <tr>\n",
       "      <th>min</th>\n",
       "      <td>1.000000</td>\n",
       "      <td>1.000000</td>\n",
       "      <td>31.000000</td>\n",
       "    </tr>\n",
       "    <tr>\n",
       "      <th>25%</th>\n",
       "      <td>5.000000</td>\n",
       "      <td>921.000000</td>\n",
       "      <td>369.000000</td>\n",
       "    </tr>\n",
       "    <tr>\n",
       "      <th>50%</th>\n",
       "      <td>12.000000</td>\n",
       "      <td>1328.000000</td>\n",
       "      <td>646.000000</td>\n",
       "    </tr>\n",
       "    <tr>\n",
       "      <th>75%</th>\n",
       "      <td>22.000000</td>\n",
       "      <td>1740.000000</td>\n",
       "      <td>1049.000000</td>\n",
       "    </tr>\n",
       "    <tr>\n",
       "      <th>max</th>\n",
       "      <td>31.000000</td>\n",
       "      <td>2400.000000</td>\n",
       "      <td>5095.000000</td>\n",
       "    </tr>\n",
       "  </tbody>\n",
       "</table>\n",
       "</div>\n",
       "      <button class=\"colab-df-convert\" onclick=\"convertToInteractive('df-378117a3-726d-49a9-a574-a9429726de6e')\"\n",
       "              title=\"Convert this dataframe to an interactive table.\"\n",
       "              style=\"display:none;\">\n",
       "        \n",
       "  <svg xmlns=\"http://www.w3.org/2000/svg\" height=\"24px\"viewBox=\"0 0 24 24\"\n",
       "       width=\"24px\">\n",
       "    <path d=\"M0 0h24v24H0V0z\" fill=\"none\"/>\n",
       "    <path d=\"M18.56 5.44l.94 2.06.94-2.06 2.06-.94-2.06-.94-.94-2.06-.94 2.06-2.06.94zm-11 1L8.5 8.5l.94-2.06 2.06-.94-2.06-.94L8.5 2.5l-.94 2.06-2.06.94zm10 10l.94 2.06.94-2.06 2.06-.94-2.06-.94-.94-2.06-.94 2.06-2.06.94z\"/><path d=\"M17.41 7.96l-1.37-1.37c-.4-.4-.92-.59-1.43-.59-.52 0-1.04.2-1.43.59L10.3 9.45l-7.72 7.72c-.78.78-.78 2.05 0 2.83L4 21.41c.39.39.9.59 1.41.59.51 0 1.02-.2 1.41-.59l7.78-7.78 2.81-2.81c.8-.78.8-2.07 0-2.86zM5.41 20L4 18.59l7.72-7.72 1.47 1.35L5.41 20z\"/>\n",
       "  </svg>\n",
       "      </button>\n",
       "      \n",
       "  <style>\n",
       "    .colab-df-container {\n",
       "      display:flex;\n",
       "      flex-wrap:wrap;\n",
       "      gap: 12px;\n",
       "    }\n",
       "\n",
       "    .colab-df-convert {\n",
       "      background-color: #E8F0FE;\n",
       "      border: none;\n",
       "      border-radius: 50%;\n",
       "      cursor: pointer;\n",
       "      display: none;\n",
       "      fill: #1967D2;\n",
       "      height: 32px;\n",
       "      padding: 0 0 0 0;\n",
       "      width: 32px;\n",
       "    }\n",
       "\n",
       "    .colab-df-convert:hover {\n",
       "      background-color: #E2EBFA;\n",
       "      box-shadow: 0px 1px 2px rgba(60, 64, 67, 0.3), 0px 1px 3px 1px rgba(60, 64, 67, 0.15);\n",
       "      fill: #174EA6;\n",
       "    }\n",
       "\n",
       "    [theme=dark] .colab-df-convert {\n",
       "      background-color: #3B4455;\n",
       "      fill: #D2E3FC;\n",
       "    }\n",
       "\n",
       "    [theme=dark] .colab-df-convert:hover {\n",
       "      background-color: #434B5C;\n",
       "      box-shadow: 0px 1px 3px 1px rgba(0, 0, 0, 0.15);\n",
       "      filter: drop-shadow(0px 1px 2px rgba(0, 0, 0, 0.3));\n",
       "      fill: #FFFFFF;\n",
       "    }\n",
       "  </style>\n",
       "\n",
       "      <script>\n",
       "        const buttonEl =\n",
       "          document.querySelector('#df-378117a3-726d-49a9-a574-a9429726de6e button.colab-df-convert');\n",
       "        buttonEl.style.display =\n",
       "          google.colab.kernel.accessAllowed ? 'block' : 'none';\n",
       "\n",
       "        async function convertToInteractive(key) {\n",
       "          const element = document.querySelector('#df-378117a3-726d-49a9-a574-a9429726de6e');\n",
       "          const dataTable =\n",
       "            await google.colab.kernel.invokeFunction('convertToInteractive',\n",
       "                                                     [key], {});\n",
       "          if (!dataTable) return;\n",
       "\n",
       "          const docLinkHtml = 'Like what you see? Visit the ' +\n",
       "            '<a target=\"_blank\" href=https://colab.research.google.com/notebooks/data_table.ipynb>data table notebook</a>'\n",
       "            + ' to learn more about interactive tables.';\n",
       "          element.innerHTML = '';\n",
       "          dataTable['output_type'] = 'display_data';\n",
       "          await google.colab.output.renderOutput(dataTable, element);\n",
       "          const docLink = document.createElement('div');\n",
       "          docLink.innerHTML = docLinkHtml;\n",
       "          element.appendChild(docLink);\n",
       "        }\n",
       "      </script>\n",
       "    </div>\n",
       "  </div>\n",
       "  "
      ],
      "text/plain": [
       "        DAY_OF_MONTH       DEP_TIME       DISTANCE\n",
       "count  699138.000000  699138.000000  699138.000000\n",
       "mean       13.525677    1333.096670     807.287787\n",
       "std         9.346128     497.526748     594.301082\n",
       "min         1.000000       1.000000      31.000000\n",
       "25%         5.000000     921.000000     369.000000\n",
       "50%        12.000000    1328.000000     646.000000\n",
       "75%        22.000000    1740.000000    1049.000000\n",
       "max        31.000000    2400.000000    5095.000000"
      ]
     },
     "execution_count": 59,
     "metadata": {},
     "output_type": "execute_result"
    }
   ],
   "source": [
    "train_df[numeric_cols].describe()"
   ]
  },
  {
   "cell_type": "markdown",
   "metadata": {
    "id": "B7yyFJkct2_3"
   },
   "source": [
    "Choose inputs and targets for training, validation and testing."
   ]
  },
  {
   "cell_type": "code",
   "execution_count": 60,
   "metadata": {
    "executionInfo": {
     "elapsed": 398,
     "status": "ok",
     "timestamp": 1674071329142,
     "user": {
      "displayName": "satwik gupta",
      "userId": "11579781950189161815"
     },
     "user_tz": -330
    },
    "id": "P8LJFfkBsG16"
   },
   "outputs": [],
   "source": [
    "train_inputs = train_df[input_cols].copy()\n",
    "val_inputs = val_df[input_cols].copy()\n",
    "test_inputs = test_df[input_cols].copy()"
   ]
  },
  {
   "cell_type": "code",
   "execution_count": 61,
   "metadata": {
    "executionInfo": {
     "elapsed": 395,
     "status": "ok",
     "timestamp": 1674071329144,
     "user": {
      "displayName": "satwik gupta",
      "userId": "11579781950189161815"
     },
     "user_tz": -330
    },
    "id": "zX4kPjZasG16"
   },
   "outputs": [],
   "source": [
    "train_targets = train_df[target_col].copy()\n",
    "val_targets = val_df[target_col].copy()\n",
    "test_targets = test_df[target_col].copy()"
   ]
  },
  {
   "cell_type": "code",
   "execution_count": 62,
   "metadata": {
    "colab": {
     "base_uri": "https://localhost:8080/",
     "height": 424
    },
    "executionInfo": {
     "elapsed": 395,
     "status": "ok",
     "timestamp": 1674071329146,
     "user": {
      "displayName": "satwik gupta",
      "userId": "11579781950189161815"
     },
     "user_tz": -330
    },
    "id": "MkBeB5XnsG17",
    "outputId": "a68b4d61-157c-476c-b474-5a5753372e94"
   },
   "outputs": [
    {
     "data": {
      "text/html": [
       "\n",
       "  <div id=\"df-19dcbbe6-23f9-4411-b28c-c6ebb9c4e757\">\n",
       "    <div class=\"colab-df-container\">\n",
       "      <div>\n",
       "<style scoped>\n",
       "    .dataframe tbody tr th:only-of-type {\n",
       "        vertical-align: middle;\n",
       "    }\n",
       "\n",
       "    .dataframe tbody tr th {\n",
       "        vertical-align: top;\n",
       "    }\n",
       "\n",
       "    .dataframe thead th {\n",
       "        text-align: right;\n",
       "    }\n",
       "</style>\n",
       "<table border=\"1\" class=\"dataframe\">\n",
       "  <thead>\n",
       "    <tr style=\"text-align: right;\">\n",
       "      <th></th>\n",
       "      <th>DAY_OF_MONTH</th>\n",
       "      <th>DAY_OF_WEEK</th>\n",
       "      <th>OP_CARRIER</th>\n",
       "      <th>DEP_TIME</th>\n",
       "      <th>DEP_DEL15</th>\n",
       "      <th>DEP_TIME_BLK</th>\n",
       "      <th>DISTANCE</th>\n",
       "      <th>ORIGIN_CAT</th>\n",
       "      <th>DEST_CAT</th>\n",
       "    </tr>\n",
       "  </thead>\n",
       "  <tbody>\n",
       "    <tr>\n",
       "      <th>0</th>\n",
       "      <td>1</td>\n",
       "      <td>2</td>\n",
       "      <td>9E</td>\n",
       "      <td>601.0</td>\n",
       "      <td>0.0</td>\n",
       "      <td>0600-0659</td>\n",
       "      <td>300.0</td>\n",
       "      <td>2</td>\n",
       "      <td>2</td>\n",
       "    </tr>\n",
       "    <tr>\n",
       "      <th>1</th>\n",
       "      <td>1</td>\n",
       "      <td>2</td>\n",
       "      <td>9E</td>\n",
       "      <td>1359.0</td>\n",
       "      <td>0.0</td>\n",
       "      <td>1400-1459</td>\n",
       "      <td>596.0</td>\n",
       "      <td>2</td>\n",
       "      <td>3</td>\n",
       "    </tr>\n",
       "    <tr>\n",
       "      <th>2</th>\n",
       "      <td>1</td>\n",
       "      <td>2</td>\n",
       "      <td>9E</td>\n",
       "      <td>1215.0</td>\n",
       "      <td>0.0</td>\n",
       "      <td>1200-1259</td>\n",
       "      <td>229.0</td>\n",
       "      <td>2</td>\n",
       "      <td>3</td>\n",
       "    </tr>\n",
       "    <tr>\n",
       "      <th>3</th>\n",
       "      <td>1</td>\n",
       "      <td>2</td>\n",
       "      <td>9E</td>\n",
       "      <td>1521.0</td>\n",
       "      <td>0.0</td>\n",
       "      <td>1500-1559</td>\n",
       "      <td>223.0</td>\n",
       "      <td>2</td>\n",
       "      <td>2</td>\n",
       "    </tr>\n",
       "    <tr>\n",
       "      <th>4</th>\n",
       "      <td>1</td>\n",
       "      <td>2</td>\n",
       "      <td>9E</td>\n",
       "      <td>1847.0</td>\n",
       "      <td>0.0</td>\n",
       "      <td>1900-1959</td>\n",
       "      <td>579.0</td>\n",
       "      <td>2</td>\n",
       "      <td>2</td>\n",
       "    </tr>\n",
       "    <tr>\n",
       "      <th>...</th>\n",
       "      <td>...</td>\n",
       "      <td>...</td>\n",
       "      <td>...</td>\n",
       "      <td>...</td>\n",
       "      <td>...</td>\n",
       "      <td>...</td>\n",
       "      <td>...</td>\n",
       "      <td>...</td>\n",
       "      <td>...</td>\n",
       "    </tr>\n",
       "    <tr>\n",
       "      <th>717944</th>\n",
       "      <td>7</td>\n",
       "      <td>2</td>\n",
       "      <td>9E</td>\n",
       "      <td>1928.0</td>\n",
       "      <td>1.0</td>\n",
       "      <td>1700-1759</td>\n",
       "      <td>296.0</td>\n",
       "      <td>4</td>\n",
       "      <td>3</td>\n",
       "    </tr>\n",
       "    <tr>\n",
       "      <th>717945</th>\n",
       "      <td>7</td>\n",
       "      <td>2</td>\n",
       "      <td>9E</td>\n",
       "      <td>2101.0</td>\n",
       "      <td>1.0</td>\n",
       "      <td>1900-1959</td>\n",
       "      <td>296.0</td>\n",
       "      <td>3</td>\n",
       "      <td>5</td>\n",
       "    </tr>\n",
       "    <tr>\n",
       "      <th>717946</th>\n",
       "      <td>7</td>\n",
       "      <td>2</td>\n",
       "      <td>9E</td>\n",
       "      <td>1725.0</td>\n",
       "      <td>0.0</td>\n",
       "      <td>1700-1759</td>\n",
       "      <td>752.0</td>\n",
       "      <td>3</td>\n",
       "      <td>3</td>\n",
       "    </tr>\n",
       "    <tr>\n",
       "      <th>717947</th>\n",
       "      <td>7</td>\n",
       "      <td>2</td>\n",
       "      <td>9E</td>\n",
       "      <td>1225.0</td>\n",
       "      <td>1.0</td>\n",
       "      <td>1100-1159</td>\n",
       "      <td>305.0</td>\n",
       "      <td>3</td>\n",
       "      <td>5</td>\n",
       "    </tr>\n",
       "    <tr>\n",
       "      <th>717948</th>\n",
       "      <td>7</td>\n",
       "      <td>2</td>\n",
       "      <td>9E</td>\n",
       "      <td>2108.0</td>\n",
       "      <td>0.0</td>\n",
       "      <td>2100-2159</td>\n",
       "      <td>508.0</td>\n",
       "      <td>2</td>\n",
       "      <td>3</td>\n",
       "    </tr>\n",
       "  </tbody>\n",
       "</table>\n",
       "<p>699138 rows × 9 columns</p>\n",
       "</div>\n",
       "      <button class=\"colab-df-convert\" onclick=\"convertToInteractive('df-19dcbbe6-23f9-4411-b28c-c6ebb9c4e757')\"\n",
       "              title=\"Convert this dataframe to an interactive table.\"\n",
       "              style=\"display:none;\">\n",
       "        \n",
       "  <svg xmlns=\"http://www.w3.org/2000/svg\" height=\"24px\"viewBox=\"0 0 24 24\"\n",
       "       width=\"24px\">\n",
       "    <path d=\"M0 0h24v24H0V0z\" fill=\"none\"/>\n",
       "    <path d=\"M18.56 5.44l.94 2.06.94-2.06 2.06-.94-2.06-.94-.94-2.06-.94 2.06-2.06.94zm-11 1L8.5 8.5l.94-2.06 2.06-.94-2.06-.94L8.5 2.5l-.94 2.06-2.06.94zm10 10l.94 2.06.94-2.06 2.06-.94-2.06-.94-.94-2.06-.94 2.06-2.06.94z\"/><path d=\"M17.41 7.96l-1.37-1.37c-.4-.4-.92-.59-1.43-.59-.52 0-1.04.2-1.43.59L10.3 9.45l-7.72 7.72c-.78.78-.78 2.05 0 2.83L4 21.41c.39.39.9.59 1.41.59.51 0 1.02-.2 1.41-.59l7.78-7.78 2.81-2.81c.8-.78.8-2.07 0-2.86zM5.41 20L4 18.59l7.72-7.72 1.47 1.35L5.41 20z\"/>\n",
       "  </svg>\n",
       "      </button>\n",
       "      \n",
       "  <style>\n",
       "    .colab-df-container {\n",
       "      display:flex;\n",
       "      flex-wrap:wrap;\n",
       "      gap: 12px;\n",
       "    }\n",
       "\n",
       "    .colab-df-convert {\n",
       "      background-color: #E8F0FE;\n",
       "      border: none;\n",
       "      border-radius: 50%;\n",
       "      cursor: pointer;\n",
       "      display: none;\n",
       "      fill: #1967D2;\n",
       "      height: 32px;\n",
       "      padding: 0 0 0 0;\n",
       "      width: 32px;\n",
       "    }\n",
       "\n",
       "    .colab-df-convert:hover {\n",
       "      background-color: #E2EBFA;\n",
       "      box-shadow: 0px 1px 2px rgba(60, 64, 67, 0.3), 0px 1px 3px 1px rgba(60, 64, 67, 0.15);\n",
       "      fill: #174EA6;\n",
       "    }\n",
       "\n",
       "    [theme=dark] .colab-df-convert {\n",
       "      background-color: #3B4455;\n",
       "      fill: #D2E3FC;\n",
       "    }\n",
       "\n",
       "    [theme=dark] .colab-df-convert:hover {\n",
       "      background-color: #434B5C;\n",
       "      box-shadow: 0px 1px 3px 1px rgba(0, 0, 0, 0.15);\n",
       "      filter: drop-shadow(0px 1px 2px rgba(0, 0, 0, 0.3));\n",
       "      fill: #FFFFFF;\n",
       "    }\n",
       "  </style>\n",
       "\n",
       "      <script>\n",
       "        const buttonEl =\n",
       "          document.querySelector('#df-19dcbbe6-23f9-4411-b28c-c6ebb9c4e757 button.colab-df-convert');\n",
       "        buttonEl.style.display =\n",
       "          google.colab.kernel.accessAllowed ? 'block' : 'none';\n",
       "\n",
       "        async function convertToInteractive(key) {\n",
       "          const element = document.querySelector('#df-19dcbbe6-23f9-4411-b28c-c6ebb9c4e757');\n",
       "          const dataTable =\n",
       "            await google.colab.kernel.invokeFunction('convertToInteractive',\n",
       "                                                     [key], {});\n",
       "          if (!dataTable) return;\n",
       "\n",
       "          const docLinkHtml = 'Like what you see? Visit the ' +\n",
       "            '<a target=\"_blank\" href=https://colab.research.google.com/notebooks/data_table.ipynb>data table notebook</a>'\n",
       "            + ' to learn more about interactive tables.';\n",
       "          element.innerHTML = '';\n",
       "          dataTable['output_type'] = 'display_data';\n",
       "          await google.colab.output.renderOutput(dataTable, element);\n",
       "          const docLink = document.createElement('div');\n",
       "          docLink.innerHTML = docLinkHtml;\n",
       "          element.appendChild(docLink);\n",
       "        }\n",
       "      </script>\n",
       "    </div>\n",
       "  </div>\n",
       "  "
      ],
      "text/plain": [
       "        DAY_OF_MONTH  DAY_OF_WEEK OP_CARRIER  DEP_TIME  DEP_DEL15  \\\n",
       "0                  1            2         9E     601.0        0.0   \n",
       "1                  1            2         9E    1359.0        0.0   \n",
       "2                  1            2         9E    1215.0        0.0   \n",
       "3                  1            2         9E    1521.0        0.0   \n",
       "4                  1            2         9E    1847.0        0.0   \n",
       "...              ...          ...        ...       ...        ...   \n",
       "717944             7            2         9E    1928.0        1.0   \n",
       "717945             7            2         9E    2101.0        1.0   \n",
       "717946             7            2         9E    1725.0        0.0   \n",
       "717947             7            2         9E    1225.0        1.0   \n",
       "717948             7            2         9E    2108.0        0.0   \n",
       "\n",
       "       DEP_TIME_BLK  DISTANCE  ORIGIN_CAT  DEST_CAT  \n",
       "0         0600-0659     300.0           2         2  \n",
       "1         1400-1459     596.0           2         3  \n",
       "2         1200-1259     229.0           2         3  \n",
       "3         1500-1559     223.0           2         2  \n",
       "4         1900-1959     579.0           2         2  \n",
       "...             ...       ...         ...       ...  \n",
       "717944    1700-1759     296.0           4         3  \n",
       "717945    1900-1959     296.0           3         5  \n",
       "717946    1700-1759     752.0           3         3  \n",
       "717947    1100-1159     305.0           3         5  \n",
       "717948    2100-2159     508.0           2         3  \n",
       "\n",
       "[699138 rows x 9 columns]"
      ]
     },
     "execution_count": 62,
     "metadata": {},
     "output_type": "execute_result"
    }
   ],
   "source": [
    "train_inputs"
   ]
  },
  {
   "cell_type": "markdown",
   "metadata": {
    "id": "Wc9UXU3Tt2_6"
   },
   "source": [
    "### Imputation"
   ]
  },
  {
   "cell_type": "code",
   "execution_count": 63,
   "metadata": {
    "colab": {
     "base_uri": "https://localhost:8080/"
    },
    "executionInfo": {
     "elapsed": 391,
     "status": "ok",
     "timestamp": 1674071329147,
     "user": {
      "displayName": "satwik gupta",
      "userId": "11579781950189161815"
     },
     "user_tz": -330
    },
    "id": "_DLEy9MTt2_7",
    "outputId": "4d83d315-778e-44ed-82be-d55e0ad0eefe"
   },
   "outputs": [
    {
     "data": {
      "text/plain": [
       "DAY_OF_MONTH    0\n",
       "DAY_OF_WEEK     0\n",
       "OP_CARRIER      0\n",
       "ORIGIN          0\n",
       "DEST            0\n",
       "DEP_TIME        0\n",
       "DEP_DEL15       0\n",
       "DEP_TIME_BLK    0\n",
       "DISTANCE        0\n",
       "ARR_DEL15       0\n",
       "ORIGIN_CAT      0\n",
       "DEST_CAT        0\n",
       "dtype: int64"
      ]
     },
     "execution_count": 63,
     "metadata": {},
     "output_type": "execute_result"
    }
   ],
   "source": [
    "flight_df.isna().sum()"
   ]
  },
  {
   "cell_type": "markdown",
   "metadata": {
    "id": "TYl-zuIvt2_8"
   },
   "source": [
    "Since there are no missing values, imputation is not required."
   ]
  },
  {
   "cell_type": "markdown",
   "metadata": {
    "id": "nFErcxrKt2_9"
   },
   "source": [
    "### Scaling Numeric Values"
   ]
  },
  {
   "cell_type": "markdown",
   "metadata": {
    "id": "W-vk28cvt2_-"
   },
   "source": [
    "Now let's scale numeric values to the 0 to 1 range."
   ]
  },
  {
   "cell_type": "code",
   "execution_count": 64,
   "metadata": {
    "executionInfo": {
     "elapsed": 333,
     "status": "ok",
     "timestamp": 1674071329149,
     "user": {
      "displayName": "satwik gupta",
      "userId": "11579781950189161815"
     },
     "user_tz": -330
    },
    "id": "TZgs_7XXsG18"
   },
   "outputs": [],
   "source": [
    "from sklearn.preprocessing import MinMaxScaler"
   ]
  },
  {
   "cell_type": "code",
   "execution_count": 65,
   "metadata": {
    "executionInfo": {
     "elapsed": 332,
     "status": "ok",
     "timestamp": 1674071329151,
     "user": {
      "displayName": "satwik gupta",
      "userId": "11579781950189161815"
     },
     "user_tz": -330
    },
    "id": "ojxTxxohsG18"
   },
   "outputs": [],
   "source": [
    "scaler = MinMaxScaler()"
   ]
  },
  {
   "cell_type": "code",
   "execution_count": 66,
   "metadata": {
    "colab": {
     "base_uri": "https://localhost:8080/",
     "height": 75
    },
    "executionInfo": {
     "elapsed": 331,
     "status": "ok",
     "timestamp": 1674071329152,
     "user": {
      "displayName": "satwik gupta",
      "userId": "11579781950189161815"
     },
     "user_tz": -330
    },
    "id": "Rl9EiV0JsG19",
    "outputId": "99715e77-ce89-4209-ea33-d4f080655294"
   },
   "outputs": [
    {
     "data": {
      "text/html": [
       "<style>#sk-container-id-1 {color: black;background-color: white;}#sk-container-id-1 pre{padding: 0;}#sk-container-id-1 div.sk-toggleable {background-color: white;}#sk-container-id-1 label.sk-toggleable__label {cursor: pointer;display: block;width: 100%;margin-bottom: 0;padding: 0.3em;box-sizing: border-box;text-align: center;}#sk-container-id-1 label.sk-toggleable__label-arrow:before {content: \"▸\";float: left;margin-right: 0.25em;color: #696969;}#sk-container-id-1 label.sk-toggleable__label-arrow:hover:before {color: black;}#sk-container-id-1 div.sk-estimator:hover label.sk-toggleable__label-arrow:before {color: black;}#sk-container-id-1 div.sk-toggleable__content {max-height: 0;max-width: 0;overflow: hidden;text-align: left;background-color: #f0f8ff;}#sk-container-id-1 div.sk-toggleable__content pre {margin: 0.2em;color: black;border-radius: 0.25em;background-color: #f0f8ff;}#sk-container-id-1 input.sk-toggleable__control:checked~div.sk-toggleable__content {max-height: 200px;max-width: 100%;overflow: auto;}#sk-container-id-1 input.sk-toggleable__control:checked~label.sk-toggleable__label-arrow:before {content: \"▾\";}#sk-container-id-1 div.sk-estimator input.sk-toggleable__control:checked~label.sk-toggleable__label {background-color: #d4ebff;}#sk-container-id-1 div.sk-label input.sk-toggleable__control:checked~label.sk-toggleable__label {background-color: #d4ebff;}#sk-container-id-1 input.sk-hidden--visually {border: 0;clip: rect(1px 1px 1px 1px);clip: rect(1px, 1px, 1px, 1px);height: 1px;margin: -1px;overflow: hidden;padding: 0;position: absolute;width: 1px;}#sk-container-id-1 div.sk-estimator {font-family: monospace;background-color: #f0f8ff;border: 1px dotted black;border-radius: 0.25em;box-sizing: border-box;margin-bottom: 0.5em;}#sk-container-id-1 div.sk-estimator:hover {background-color: #d4ebff;}#sk-container-id-1 div.sk-parallel-item::after {content: \"\";width: 100%;border-bottom: 1px solid gray;flex-grow: 1;}#sk-container-id-1 div.sk-label:hover label.sk-toggleable__label {background-color: #d4ebff;}#sk-container-id-1 div.sk-serial::before {content: \"\";position: absolute;border-left: 1px solid gray;box-sizing: border-box;top: 0;bottom: 0;left: 50%;z-index: 0;}#sk-container-id-1 div.sk-serial {display: flex;flex-direction: column;align-items: center;background-color: white;padding-right: 0.2em;padding-left: 0.2em;position: relative;}#sk-container-id-1 div.sk-item {position: relative;z-index: 1;}#sk-container-id-1 div.sk-parallel {display: flex;align-items: stretch;justify-content: center;background-color: white;position: relative;}#sk-container-id-1 div.sk-item::before, #sk-container-id-1 div.sk-parallel-item::before {content: \"\";position: absolute;border-left: 1px solid gray;box-sizing: border-box;top: 0;bottom: 0;left: 50%;z-index: -1;}#sk-container-id-1 div.sk-parallel-item {display: flex;flex-direction: column;z-index: 1;position: relative;background-color: white;}#sk-container-id-1 div.sk-parallel-item:first-child::after {align-self: flex-end;width: 50%;}#sk-container-id-1 div.sk-parallel-item:last-child::after {align-self: flex-start;width: 50%;}#sk-container-id-1 div.sk-parallel-item:only-child::after {width: 0;}#sk-container-id-1 div.sk-dashed-wrapped {border: 1px dashed gray;margin: 0 0.4em 0.5em 0.4em;box-sizing: border-box;padding-bottom: 0.4em;background-color: white;}#sk-container-id-1 div.sk-label label {font-family: monospace;font-weight: bold;display: inline-block;line-height: 1.2em;}#sk-container-id-1 div.sk-label-container {text-align: center;}#sk-container-id-1 div.sk-container {/* jupyter's `normalize.less` sets `[hidden] { display: none; }` but bootstrap.min.css set `[hidden] { display: none !important; }` so we also need the `!important` here to be able to override the default hidden behavior on the sphinx rendered scikit-learn.org. See: https://github.com/scikit-learn/scikit-learn/issues/21755 */display: inline-block !important;position: relative;}#sk-container-id-1 div.sk-text-repr-fallback {display: none;}</style><div id=\"sk-container-id-1\" class=\"sk-top-container\"><div class=\"sk-text-repr-fallback\"><pre>MinMaxScaler()</pre><b>In a Jupyter environment, please rerun this cell to show the HTML representation or trust the notebook. <br />On GitHub, the HTML representation is unable to render, please try loading this page with nbviewer.org.</b></div><div class=\"sk-container\" hidden><div class=\"sk-item\"><div class=\"sk-estimator sk-toggleable\"><input class=\"sk-toggleable__control sk-hidden--visually\" id=\"sk-estimator-id-1\" type=\"checkbox\" checked><label for=\"sk-estimator-id-1\" class=\"sk-toggleable__label sk-toggleable__label-arrow\">MinMaxScaler</label><div class=\"sk-toggleable__content\"><pre>MinMaxScaler()</pre></div></div></div></div></div>"
      ],
      "text/plain": [
       "MinMaxScaler()"
      ]
     },
     "execution_count": 66,
     "metadata": {},
     "output_type": "execute_result"
    }
   ],
   "source": [
    "scaler.fit(flight_df[numeric_cols])"
   ]
  },
  {
   "cell_type": "code",
   "execution_count": 67,
   "metadata": {
    "executionInfo": {
     "elapsed": 328,
     "status": "ok",
     "timestamp": 1674071329154,
     "user": {
      "displayName": "satwik gupta",
      "userId": "11579781950189161815"
     },
     "user_tz": -330
    },
    "id": "SxZ3FICtsG19"
   },
   "outputs": [],
   "source": [
    "train_inputs[numeric_cols] = scaler.transform(train_inputs[numeric_cols])\n",
    "val_inputs[numeric_cols] = scaler.transform(val_inputs[numeric_cols])\n",
    "test_inputs[numeric_cols] = scaler.transform(test_inputs[numeric_cols])"
   ]
  },
  {
   "cell_type": "code",
   "execution_count": 68,
   "metadata": {
    "colab": {
     "base_uri": "https://localhost:8080/",
     "height": 300
    },
    "executionInfo": {
     "elapsed": 1018,
     "status": "ok",
     "timestamp": 1674071329846,
     "user": {
      "displayName": "satwik gupta",
      "userId": "11579781950189161815"
     },
     "user_tz": -330
    },
    "id": "3L3oBsUMsG1-",
    "outputId": "80c785cc-b99d-47d2-9045-020cc41ab709"
   },
   "outputs": [
    {
     "data": {
      "text/html": [
       "\n",
       "  <div id=\"df-6b5ef330-a31b-4872-9583-32a342717a17\">\n",
       "    <div class=\"colab-df-container\">\n",
       "      <div>\n",
       "<style scoped>\n",
       "    .dataframe tbody tr th:only-of-type {\n",
       "        vertical-align: middle;\n",
       "    }\n",
       "\n",
       "    .dataframe tbody tr th {\n",
       "        vertical-align: top;\n",
       "    }\n",
       "\n",
       "    .dataframe thead th {\n",
       "        text-align: right;\n",
       "    }\n",
       "</style>\n",
       "<table border=\"1\" class=\"dataframe\">\n",
       "  <thead>\n",
       "    <tr style=\"text-align: right;\">\n",
       "      <th></th>\n",
       "      <th>DAY_OF_MONTH</th>\n",
       "      <th>DEP_TIME</th>\n",
       "      <th>DISTANCE</th>\n",
       "    </tr>\n",
       "  </thead>\n",
       "  <tbody>\n",
       "    <tr>\n",
       "      <th>count</th>\n",
       "      <td>699138.000000</td>\n",
       "      <td>699138.000000</td>\n",
       "      <td>699138.000000</td>\n",
       "    </tr>\n",
       "    <tr>\n",
       "      <th>mean</th>\n",
       "      <td>0.417523</td>\n",
       "      <td>0.555272</td>\n",
       "      <td>0.153295</td>\n",
       "    </tr>\n",
       "    <tr>\n",
       "      <th>std</th>\n",
       "      <td>0.311538</td>\n",
       "      <td>0.207389</td>\n",
       "      <td>0.117358</td>\n",
       "    </tr>\n",
       "    <tr>\n",
       "      <th>min</th>\n",
       "      <td>0.000000</td>\n",
       "      <td>0.000000</td>\n",
       "      <td>0.000000</td>\n",
       "    </tr>\n",
       "    <tr>\n",
       "      <th>25%</th>\n",
       "      <td>0.133333</td>\n",
       "      <td>0.383493</td>\n",
       "      <td>0.066746</td>\n",
       "    </tr>\n",
       "    <tr>\n",
       "      <th>50%</th>\n",
       "      <td>0.366667</td>\n",
       "      <td>0.553147</td>\n",
       "      <td>0.121445</td>\n",
       "    </tr>\n",
       "    <tr>\n",
       "      <th>75%</th>\n",
       "      <td>0.700000</td>\n",
       "      <td>0.724885</td>\n",
       "      <td>0.201027</td>\n",
       "    </tr>\n",
       "    <tr>\n",
       "      <th>max</th>\n",
       "      <td>1.000000</td>\n",
       "      <td>1.000000</td>\n",
       "      <td>1.000000</td>\n",
       "    </tr>\n",
       "  </tbody>\n",
       "</table>\n",
       "</div>\n",
       "      <button class=\"colab-df-convert\" onclick=\"convertToInteractive('df-6b5ef330-a31b-4872-9583-32a342717a17')\"\n",
       "              title=\"Convert this dataframe to an interactive table.\"\n",
       "              style=\"display:none;\">\n",
       "        \n",
       "  <svg xmlns=\"http://www.w3.org/2000/svg\" height=\"24px\"viewBox=\"0 0 24 24\"\n",
       "       width=\"24px\">\n",
       "    <path d=\"M0 0h24v24H0V0z\" fill=\"none\"/>\n",
       "    <path d=\"M18.56 5.44l.94 2.06.94-2.06 2.06-.94-2.06-.94-.94-2.06-.94 2.06-2.06.94zm-11 1L8.5 8.5l.94-2.06 2.06-.94-2.06-.94L8.5 2.5l-.94 2.06-2.06.94zm10 10l.94 2.06.94-2.06 2.06-.94-2.06-.94-.94-2.06-.94 2.06-2.06.94z\"/><path d=\"M17.41 7.96l-1.37-1.37c-.4-.4-.92-.59-1.43-.59-.52 0-1.04.2-1.43.59L10.3 9.45l-7.72 7.72c-.78.78-.78 2.05 0 2.83L4 21.41c.39.39.9.59 1.41.59.51 0 1.02-.2 1.41-.59l7.78-7.78 2.81-2.81c.8-.78.8-2.07 0-2.86zM5.41 20L4 18.59l7.72-7.72 1.47 1.35L5.41 20z\"/>\n",
       "  </svg>\n",
       "      </button>\n",
       "      \n",
       "  <style>\n",
       "    .colab-df-container {\n",
       "      display:flex;\n",
       "      flex-wrap:wrap;\n",
       "      gap: 12px;\n",
       "    }\n",
       "\n",
       "    .colab-df-convert {\n",
       "      background-color: #E8F0FE;\n",
       "      border: none;\n",
       "      border-radius: 50%;\n",
       "      cursor: pointer;\n",
       "      display: none;\n",
       "      fill: #1967D2;\n",
       "      height: 32px;\n",
       "      padding: 0 0 0 0;\n",
       "      width: 32px;\n",
       "    }\n",
       "\n",
       "    .colab-df-convert:hover {\n",
       "      background-color: #E2EBFA;\n",
       "      box-shadow: 0px 1px 2px rgba(60, 64, 67, 0.3), 0px 1px 3px 1px rgba(60, 64, 67, 0.15);\n",
       "      fill: #174EA6;\n",
       "    }\n",
       "\n",
       "    [theme=dark] .colab-df-convert {\n",
       "      background-color: #3B4455;\n",
       "      fill: #D2E3FC;\n",
       "    }\n",
       "\n",
       "    [theme=dark] .colab-df-convert:hover {\n",
       "      background-color: #434B5C;\n",
       "      box-shadow: 0px 1px 3px 1px rgba(0, 0, 0, 0.15);\n",
       "      filter: drop-shadow(0px 1px 2px rgba(0, 0, 0, 0.3));\n",
       "      fill: #FFFFFF;\n",
       "    }\n",
       "  </style>\n",
       "\n",
       "      <script>\n",
       "        const buttonEl =\n",
       "          document.querySelector('#df-6b5ef330-a31b-4872-9583-32a342717a17 button.colab-df-convert');\n",
       "        buttonEl.style.display =\n",
       "          google.colab.kernel.accessAllowed ? 'block' : 'none';\n",
       "\n",
       "        async function convertToInteractive(key) {\n",
       "          const element = document.querySelector('#df-6b5ef330-a31b-4872-9583-32a342717a17');\n",
       "          const dataTable =\n",
       "            await google.colab.kernel.invokeFunction('convertToInteractive',\n",
       "                                                     [key], {});\n",
       "          if (!dataTable) return;\n",
       "\n",
       "          const docLinkHtml = 'Like what you see? Visit the ' +\n",
       "            '<a target=\"_blank\" href=https://colab.research.google.com/notebooks/data_table.ipynb>data table notebook</a>'\n",
       "            + ' to learn more about interactive tables.';\n",
       "          element.innerHTML = '';\n",
       "          dataTable['output_type'] = 'display_data';\n",
       "          await google.colab.output.renderOutput(dataTable, element);\n",
       "          const docLink = document.createElement('div');\n",
       "          docLink.innerHTML = docLinkHtml;\n",
       "          element.appendChild(docLink);\n",
       "        }\n",
       "      </script>\n",
       "    </div>\n",
       "  </div>\n",
       "  "
      ],
      "text/plain": [
       "        DAY_OF_MONTH       DEP_TIME       DISTANCE\n",
       "count  699138.000000  699138.000000  699138.000000\n",
       "mean        0.417523       0.555272       0.153295\n",
       "std         0.311538       0.207389       0.117358\n",
       "min         0.000000       0.000000       0.000000\n",
       "25%         0.133333       0.383493       0.066746\n",
       "50%         0.366667       0.553147       0.121445\n",
       "75%         0.700000       0.724885       0.201027\n",
       "max         1.000000       1.000000       1.000000"
      ]
     },
     "execution_count": 68,
     "metadata": {},
     "output_type": "execute_result"
    }
   ],
   "source": [
    "train_inputs[numeric_cols].describe()"
   ]
  },
  {
   "cell_type": "markdown",
   "metadata": {
    "id": "lMZBw7Det3AC"
   },
   "source": [
    "### Encoding Categorical Columns"
   ]
  },
  {
   "cell_type": "code",
   "execution_count": 2,
   "metadata": {
    "executionInfo": {
     "elapsed": 203,
     "status": "ok",
     "timestamp": 1674071329848,
     "user": {
      "displayName": "satwik gupta",
      "userId": "11579781950189161815"
     },
     "user_tz": -330
    },
    "id": "YicnmE5nsG1-"
   },
   "outputs": [],
   "source": [
    "from sklearn.preprocessing import OneHotEncoder"
   ]
  },
  {
   "cell_type": "code",
   "execution_count": 3,
   "metadata": {
    "colab": {
     "base_uri": "https://localhost:8080/"
    },
    "executionInfo": {
     "elapsed": 197,
     "status": "ok",
     "timestamp": 1674071329850,
     "user": {
      "displayName": "satwik gupta",
      "userId": "11579781950189161815"
     },
     "user_tz": -330
    },
    "id": "mp5hgIofaNWU",
    "outputId": "41abd897-f5b0-4e50-8559-a82c661e3fa2"
   },
   "outputs": [
    {
     "data": {
      "application/javascript": [
       "window.require && require([\"base/js/namespace\"],function(Jupyter){Jupyter.notebook.save_checkpoint()})"
      ],
      "text/plain": [
       "<IPython.core.display.Javascript object>"
      ]
     },
     "metadata": {},
     "output_type": "display_data"
    },
    {
     "name": "stdout",
     "output_type": "stream",
     "text": [
      "[jovian] Updating notebook \"kumarsatwik25/flight-delay-prediction\" on https://jovian.com\u001b[0m\n",
      "[jovian] Committed successfully! https://jovian.com/kumarsatwik25/flight-delay-prediction\u001b[0m\n"
     ]
    },
    {
     "data": {
      "text/plain": [
       "'https://jovian.com/kumarsatwik25/flight-delay-prediction'"
      ]
     },
     "execution_count": 3,
     "metadata": {},
     "output_type": "execute_result"
    }
   ],
   "source": [
    "import jovian\n",
    "jovian.commit()"
   ]
  },
  {
   "cell_type": "code",
   "execution_count": 4,
   "metadata": {
    "colab": {
     "base_uri": "https://localhost:8080/",
     "height": 237
    },
    "executionInfo": {
     "elapsed": 162,
     "status": "error",
     "timestamp": 1674071329851,
     "user": {
      "displayName": "satwik gupta",
      "userId": "11579781950189161815"
     },
     "user_tz": -330
    },
    "id": "SCvAYjh1sG1_",
    "outputId": "9cb982bc-01fa-437e-b06a-14367ed59a9b"
   },
   "outputs": [
    {
     "ename": "NameError",
     "evalue": "name 'flight_df' is not defined",
     "output_type": "error",
     "traceback": [
      "\u001b[0;31m---------------------------------------------------------------------------\u001b[0m",
      "\u001b[0;31mNameError\u001b[0m                                 Traceback (most recent call last)",
      "\u001b[0;32m/tmp/ipykernel_38/1176177487.py\u001b[0m in \u001b[0;36m<module>\u001b[0;34m\u001b[0m\n\u001b[0;32m----> 1\u001b[0;31m \u001b[0mencoder\u001b[0m \u001b[0;34m=\u001b[0m \u001b[0mOneHotEncoder\u001b[0m\u001b[0;34m(\u001b[0m\u001b[0msparse\u001b[0m \u001b[0;34m=\u001b[0m \u001b[0;32mTrue\u001b[0m\u001b[0;34m,\u001b[0m \u001b[0mhandle_unknown\u001b[0m \u001b[0;34m=\u001b[0m \u001b[0;34m'ignore'\u001b[0m\u001b[0;34m)\u001b[0m\u001b[0;34m.\u001b[0m\u001b[0mfit\u001b[0m\u001b[0;34m(\u001b[0m\u001b[0mflight_df\u001b[0m\u001b[0;34m[\u001b[0m\u001b[0mcategorical_cols\u001b[0m\u001b[0;34m]\u001b[0m\u001b[0;34m)\u001b[0m\u001b[0;34m\u001b[0m\u001b[0;34m\u001b[0m\u001b[0m\n\u001b[0m\u001b[1;32m      2\u001b[0m \u001b[0mencoded_cols\u001b[0m \u001b[0;34m=\u001b[0m \u001b[0mlist\u001b[0m\u001b[0;34m(\u001b[0m\u001b[0mencoder\u001b[0m\u001b[0;34m.\u001b[0m\u001b[0mget_feature_names\u001b[0m\u001b[0;34m(\u001b[0m\u001b[0mcategorical_cols\u001b[0m\u001b[0;34m)\u001b[0m\u001b[0;34m)\u001b[0m\u001b[0;34m\u001b[0m\u001b[0;34m\u001b[0m\u001b[0m\n",
      "\u001b[0;31mNameError\u001b[0m: name 'flight_df' is not defined"
     ]
    }
   ],
   "source": [
    "encoder = OneHotEncoder(sparse = True, handle_unknown = 'ignore').fit(flight_df[categorical_cols])\n",
    "encoded_cols = list(encoder.get_feature_names(categorical_cols))"
   ]
  },
  {
   "cell_type": "code",
   "execution_count": null,
   "metadata": {
    "executionInfo": {
     "elapsed": 143,
     "status": "aborted",
     "timestamp": 1674071329854,
     "user": {
      "displayName": "satwik gupta",
      "userId": "11579781950189161815"
     },
     "user_tz": -330
    },
    "id": "ZfmdSht2sG1_"
   },
   "outputs": [],
   "source": [
    "len(encoded_cols)"
   ]
  },
  {
   "cell_type": "code",
   "execution_count": null,
   "metadata": {
    "executionInfo": {
     "elapsed": 143,
     "status": "aborted",
     "timestamp": 1674071329856,
     "user": {
      "displayName": "satwik gupta",
      "userId": "11579781950189161815"
     },
     "user_tz": -330
    },
    "id": "09elnSDgsG2A"
   },
   "outputs": [],
   "source": [
    "train_inputs[encoded_cols] = encoder.transform(train_inputs[categorical_cols])\n"
   ]
  },
  {
   "cell_type": "code",
   "execution_count": null,
   "metadata": {
    "executionInfo": {
     "elapsed": 145,
     "status": "aborted",
     "timestamp": 1674071329858,
     "user": {
      "displayName": "satwik gupta",
      "userId": "11579781950189161815"
     },
     "user_tz": -330
    },
    "id": "cYFqU9qksG2B"
   },
   "outputs": [],
   "source": [
    "val_inputs[encoded_cols] = encoder.transform(val_inputs[categorical_cols])"
   ]
  },
  {
   "cell_type": "code",
   "execution_count": null,
   "metadata": {
    "executionInfo": {
     "elapsed": 146,
     "status": "aborted",
     "timestamp": 1674071329860,
     "user": {
      "displayName": "satwik gupta",
      "userId": "11579781950189161815"
     },
     "user_tz": -330
    },
    "id": "3mzO-Nl8sG2C"
   },
   "outputs": [],
   "source": [
    "test_inputs[encoded_cols] = encoder.transform(test_inputs[categorical_cols])"
   ]
  },
  {
   "cell_type": "code",
   "execution_count": null,
   "metadata": {
    "executionInfo": {
     "elapsed": 148,
     "status": "aborted",
     "timestamp": 1674071329865,
     "user": {
      "displayName": "satwik gupta",
      "userId": "11579781950189161815"
     },
     "user_tz": -330
    },
    "id": "-IGhkPe3sG2C"
   },
   "outputs": [],
   "source": [
    "train_inputs"
   ]
  },
  {
   "cell_type": "code",
   "execution_count": null,
   "metadata": {
    "executionInfo": {
     "elapsed": 151,
     "status": "aborted",
     "timestamp": 1674071329868,
     "user": {
      "displayName": "satwik gupta",
      "userId": "11579781950189161815"
     },
     "user_tz": -330
    },
    "id": "Ll4b6ynOsG2C"
   },
   "outputs": [],
   "source": []
  },
  {
   "cell_type": "code",
   "execution_count": null,
   "metadata": {
    "executionInfo": {
     "elapsed": 153,
     "status": "aborted",
     "timestamp": 1674071329871,
     "user": {
      "displayName": "satwik gupta",
      "userId": "11579781950189161815"
     },
     "user_tz": -330
    },
    "id": "ua-QqGQ4umpo"
   },
   "outputs": [],
   "source": [
    "X_train = train_inputs[numeric_cols + encoded_cols]\n",
    "X_val = val_inputs[numeric_cols + encoded_cols]\n",
    "X_test = test_inputs[numeric_cols + encoded_cols]"
   ]
  },
  {
   "cell_type": "code",
   "execution_count": null,
   "metadata": {
    "executionInfo": {
     "elapsed": 156,
     "status": "aborted",
     "timestamp": 1674071329874,
     "user": {
      "displayName": "satwik gupta",
      "userId": "11579781950189161815"
     },
     "user_tz": -330
    },
    "id": "-PGlcmlBun1A"
   },
   "outputs": [],
   "source": [
    "X_train"
   ]
  },
  {
   "cell_type": "markdown",
   "metadata": {
    "id": "KeTvmmWjwU3r"
   },
   "source": [
    "## Models for Prediction"
   ]
  },
  {
   "cell_type": "code",
   "execution_count": null,
   "metadata": {
    "executionInfo": {
     "elapsed": 157,
     "status": "aborted",
     "timestamp": 1674071329876,
     "user": {
      "displayName": "satwik gupta",
      "userId": "11579781950189161815"
     },
     "user_tz": -330
    },
    "id": "921aTgzlww7g"
   },
   "outputs": [],
   "source": [
    "from sklearn.metrics import accuracy_score, classification_report, confusion_matrix, roc_auc_score"
   ]
  },
  {
   "cell_type": "markdown",
   "metadata": {
    "id": "O7KZjfickBxW"
   },
   "source": [
    "Here we will asses performance of models by accuracy_score (how accurate is the model in predicting classes correctly against its labels) and roc_auc_score (which is the are under Receiver Operating Characteristic Curve (ROC AUC) from prediction scores). This roc_auc_score measures separability of classes, that is how well the model is distinguishing classes. A maximum value for this score of 1 indicates model is perfectly distinguishing classes and a min 0 indicates model is worst. For datasets like the current one with different proportion of positive and negative classes, this metric is a very good estimate of models. our aim will be to maximize both accuracy_score and roc_auc_score."
   ]
  },
  {
   "cell_type": "code",
   "execution_count": null,
   "metadata": {
    "executionInfo": {
     "elapsed": 159,
     "status": "aborted",
     "timestamp": 1674071329879,
     "user": {
      "displayName": "satwik gupta",
      "userId": "11579781950189161815"
     },
     "user_tz": -330
    },
    "id": "sJ9JZSeOw37f"
   },
   "outputs": [],
   "source": [
    "# function to check performance of a model\n",
    "def model_performance(model, X_train, y_train, X_val, y_val):\n",
    "  model.fit(X_train, y_train)\n",
    "  train_preds = model.predict(X_train)\n",
    "  val_preds = model.predict(X_val)\n",
    "  train_accuracy = accuracy_score(y_train, train_preds)\n",
    "  val_accuracy = accuracy_score(y_val, val_preds)\n",
    "  print('Train set accuracy: {:.2f}%'.format(train_accuracy*100))\n",
    "  print('Validation set Accuracy: {:.2f}%'.format(val_accuracy* 100))\n",
    "  print('Validation Classification report: \\n', classification_report(y_val, val_preds))\n",
    "  print('roc auc score: {:.2f}'.format(roc_auc_score(y_val, val_preds)))  \n",
    "  conf_matrix =  confusion_matrix(y_val, val_preds, normalize = 'true')\n",
    "  plt.figure()\n",
    "  plt.title('Validation Confusion Matrix')\n",
    "  sns.heatmap(conf_matrix, annot = True)"
   ]
  },
  {
   "cell_type": "markdown",
   "metadata": {
    "id": "i0TbzpHjwfS1"
   },
   "source": [
    "### Logistic Regression"
   ]
  },
  {
   "cell_type": "code",
   "execution_count": null,
   "metadata": {
    "executionInfo": {
     "elapsed": 161,
     "status": "aborted",
     "timestamp": 1674071329881,
     "user": {
      "displayName": "satwik gupta",
      "userId": "11579781950189161815"
     },
     "user_tz": -330
    },
    "id": "TdGPkalgsG2C"
   },
   "outputs": [],
   "source": [
    "from sklearn.linear_model import LogisticRegression"
   ]
  },
  {
   "cell_type": "code",
   "execution_count": null,
   "metadata": {
    "executionInfo": {
     "elapsed": 162,
     "status": "aborted",
     "timestamp": 1674071329883,
     "user": {
      "displayName": "satwik gupta",
      "userId": "11579781950189161815"
     },
     "user_tz": -330
    },
    "id": "KjDcVq8zuP7y"
   },
   "outputs": [],
   "source": [
    "model_lr = LogisticRegression(solver = 'liblinear', random_state = 42)"
   ]
  },
  {
   "cell_type": "code",
   "execution_count": null,
   "metadata": {
    "executionInfo": {
     "elapsed": 160,
     "status": "aborted",
     "timestamp": 1674071329885,
     "user": {
      "displayName": "satwik gupta",
      "userId": "11579781950189161815"
     },
     "user_tz": -330
    },
    "id": "Irw1BIRnxaLD"
   },
   "outputs": [],
   "source": [
    "model_performance(model_lr, X_train, train_targets, X_val, val_targets)"
   ]
  },
  {
   "cell_type": "markdown",
   "metadata": {
    "id": "Cf41F-AryD8P"
   },
   "source": [
    "The basic logistic regression model is able to give an accuracy of 92.78% on validation set. Let's compare this performance with a dump model."
   ]
  },
  {
   "cell_type": "code",
   "execution_count": null,
   "metadata": {
    "executionInfo": {
     "elapsed": 159,
     "status": "aborted",
     "timestamp": 1674071329886,
     "user": {
      "displayName": "satwik gupta",
      "userId": "11579781950189161815"
     },
     "user_tz": -330
    },
    "id": "6axPACecyZ4j"
   },
   "outputs": [],
   "source": [
    "# dump model\n",
    "def all_ok_model(inputs):\n",
    "  return np.full(len(inputs), 0)"
   ]
  },
  {
   "cell_type": "code",
   "execution_count": null,
   "metadata": {
    "executionInfo": {
     "elapsed": 160,
     "status": "aborted",
     "timestamp": 1674071329888,
     "user": {
      "displayName": "satwik gupta",
      "userId": "11579781950189161815"
     },
     "user_tz": -330
    },
    "id": "TCgz2BMJyoIW"
   },
   "outputs": [],
   "source": [
    "print('Dump model Validation Accuracy: {:.2f}%'.format(accuracy_score(all_ok_model(val_targets), val_targets)*100))"
   ]
  },
  {
   "cell_type": "markdown",
   "metadata": {
    "id": "e0PSZa46zMRE"
   },
   "source": [
    "Logistic Regression's validation accuracy is much better thatn dump model's validation accuracy of 84.32%."
   ]
  },
  {
   "cell_type": "markdown",
   "metadata": {
    "id": "CSC19zQx0V2w"
   },
   "source": [
    "#### Hyperparameter tuning for Logistic Regression"
   ]
  },
  {
   "cell_type": "code",
   "execution_count": null,
   "metadata": {
    "executionInfo": {
     "elapsed": 158,
     "status": "aborted",
     "timestamp": 1674071329889,
     "user": {
      "displayName": "satwik gupta",
      "userId": "11579781950189161815"
     },
     "user_tz": -330
    },
    "id": "tGL-tNM10Wrd"
   },
   "outputs": [],
   "source": [
    "# function to quickly evaluate effect of different hyperparameters\n",
    "def test_params_lr(**params):\n",
    "    model = LogisticRegression(random_state=42, **params).fit(X_train, train_targets)\n",
    "    train_accuracy = model.score(X_train, train_targets)\n",
    "    val_accuracy = model.score(X_val, val_targets)\n",
    "    roc_auc_score_lr = roc_auc_score(val_targets, model.predict(X_val))\n",
    "    print('Train set accuracy: {:.2f}%'.format(train_accuracy*100))\n",
    "    print('Validation set Accuracy: {:.2f}%'.format(val_accuracy* 100))\n",
    "    print('roc auc score: {:.2f}'.format(roc_auc_score_lr)) "
   ]
  },
  {
   "cell_type": "markdown",
   "metadata": {
    "id": "oQKYHU_I3-hN"
   },
   "source": [
    "Let's try different solvers."
   ]
  },
  {
   "cell_type": "code",
   "execution_count": null,
   "metadata": {
    "executionInfo": {
     "elapsed": 160,
     "status": "aborted",
     "timestamp": 1674071329892,
     "user": {
      "displayName": "satwik gupta",
      "userId": "11579781950189161815"
     },
     "user_tz": -330
    },
    "id": "j6bkx_XI4TmT"
   },
   "outputs": [],
   "source": [
    "test_params_lr(solver = 'sag')"
   ]
  },
  {
   "cell_type": "code",
   "execution_count": null,
   "metadata": {
    "executionInfo": {
     "elapsed": 162,
     "status": "aborted",
     "timestamp": 1674071329896,
     "user": {
      "displayName": "satwik gupta",
      "userId": "11579781950189161815"
     },
     "user_tz": -330
    },
    "id": "nMkGWe-w0XAK"
   },
   "outputs": [],
   "source": [
    "test_params_lr(max_iter = 500, solver = 'lbfgs') #not coverged in 100 iterations"
   ]
  },
  {
   "cell_type": "markdown",
   "metadata": {
    "id": "ydST70mO42Kk"
   },
   "source": [
    "Now we trying changing number of iterations from default of 100, we use 'liblinear' solver."
   ]
  },
  {
   "cell_type": "code",
   "execution_count": null,
   "metadata": {
    "executionInfo": {
     "elapsed": 163,
     "status": "aborted",
     "timestamp": 1674071329898,
     "user": {
      "displayName": "satwik gupta",
      "userId": "11579781950189161815"
     },
     "user_tz": -330
    },
    "id": "mreZOMEY0XhS"
   },
   "outputs": [],
   "source": [
    "test_params_lr(max_iter = 250, solver = 'liblinear')"
   ]
  },
  {
   "cell_type": "code",
   "execution_count": null,
   "metadata": {
    "executionInfo": {
     "elapsed": 164,
     "status": "aborted",
     "timestamp": 1674071329900,
     "user": {
      "displayName": "satwik gupta",
      "userId": "11579781950189161815"
     },
     "user_tz": -330
    },
    "id": "1VNTJc1l0YAN"
   },
   "outputs": [],
   "source": [
    "test_params_lr(max_iter = 500, solver = 'liblinear')"
   ]
  },
  {
   "cell_type": "code",
   "execution_count": null,
   "metadata": {
    "executionInfo": {
     "elapsed": 160,
     "status": "aborted",
     "timestamp": 1674071329901,
     "user": {
      "displayName": "satwik gupta",
      "userId": "11579781950189161815"
     },
     "user_tz": -330
    },
    "id": "7HLFdZ7G5Ogg"
   },
   "outputs": [],
   "source": [
    "test_params_lr(max_iter = 1000, solver = 'liblinear')"
   ]
  },
  {
   "cell_type": "markdown",
   "metadata": {
    "id": "M6wnB5As5W8C"
   },
   "source": [
    "No improvement is seen with changing these hyperparameters, let's keep the default model as best and explore other algorithms."
   ]
  },
  {
   "cell_type": "code",
   "execution_count": null,
   "metadata": {
    "executionInfo": {
     "elapsed": 161,
     "status": "aborted",
     "timestamp": 1674071329903,
     "user": {
      "displayName": "satwik gupta",
      "userId": "11579781950189161815"
     },
     "user_tz": -330
    },
    "id": "Zp22dzvK22bU"
   },
   "outputs": [],
   "source": []
  },
  {
   "cell_type": "markdown",
   "metadata": {
    "id": "m2LjfSUB5y97"
   },
   "source": [
    "### Decision Tree Classifier"
   ]
  },
  {
   "cell_type": "code",
   "execution_count": null,
   "metadata": {
    "executionInfo": {
     "elapsed": 161,
     "status": "aborted",
     "timestamp": 1674071329905,
     "user": {
      "displayName": "satwik gupta",
      "userId": "11579781950189161815"
     },
     "user_tz": -330
    },
    "id": "uUyTfq-D5h0M"
   },
   "outputs": [],
   "source": [
    "from sklearn.tree import DecisionTreeClassifier"
   ]
  },
  {
   "cell_type": "code",
   "execution_count": null,
   "metadata": {
    "executionInfo": {
     "elapsed": 162,
     "status": "aborted",
     "timestamp": 1674071329907,
     "user": {
      "displayName": "satwik gupta",
      "userId": "11579781950189161815"
     },
     "user_tz": -330
    },
    "id": "a6zWIsLTXASp"
   },
   "outputs": [],
   "source": [
    "model_dtc = DecisionTreeClassifier(random_state = 42)"
   ]
  },
  {
   "cell_type": "code",
   "execution_count": null,
   "metadata": {
    "executionInfo": {
     "elapsed": 163,
     "status": "aborted",
     "timestamp": 1674071329909,
     "user": {
      "displayName": "satwik gupta",
      "userId": "11579781950189161815"
     },
     "user_tz": -330
    },
    "id": "OrolDxT36HOP"
   },
   "outputs": [],
   "source": [
    "model_performance(model_dtc, X_train, train_targets, X_val, val_targets)"
   ]
  },
  {
   "cell_type": "markdown",
   "metadata": {
    "id": "nXkcit2q8jvR"
   },
   "source": [
    "The basic Decision Tree Classifier is clearly overfitting the training data(train accuracy is 100%) and validation accuracy is less than that of Logistic Regression model we have seen earlier."
   ]
  },
  {
   "cell_type": "code",
   "execution_count": null,
   "metadata": {
    "executionInfo": {
     "elapsed": 164,
     "status": "aborted",
     "timestamp": 1674071329911,
     "user": {
      "displayName": "satwik gupta",
      "userId": "11579781950189161815"
     },
     "user_tz": -330
    },
    "id": "A96RWxeE8eV5"
   },
   "outputs": [],
   "source": []
  },
  {
   "cell_type": "markdown",
   "metadata": {
    "id": "RUaXAnqa7I1G"
   },
   "source": [
    "#### Hyperparameter tuning for Decision Tree Classifier"
   ]
  },
  {
   "cell_type": "code",
   "execution_count": null,
   "metadata": {
    "executionInfo": {
     "elapsed": 164,
     "status": "aborted",
     "timestamp": 1674071329913,
     "user": {
      "displayName": "satwik gupta",
      "userId": "11579781950189161815"
     },
     "user_tz": -330
    },
    "id": "2qVMN0QZ6SI4"
   },
   "outputs": [],
   "source": [
    "# function to quickly evaluate effect of different hyperparameters\n",
    "def test_params_dtc(**params):\n",
    "    model = DecisionTreeClassifier(random_state=42, **params).fit(X_train, train_targets)\n",
    "    train_accuracy = model.score(X_train, train_targets)\n",
    "    val_accuracy = model.score(X_val, val_targets)\n",
    "    roc_auc_score_lr = roc_auc_score(val_targets, model.predict(X_val))\n",
    "    print('Train set accuracy: {:.2f}%'.format(train_accuracy*100))\n",
    "    print('Validation set Accuracy: {:.2f}%'.format(val_accuracy* 100))\n",
    "    print('roc auc score: {:.2f}'.format(roc_auc_score_lr))"
   ]
  },
  {
   "cell_type": "markdown",
   "metadata": {
    "id": "VCa8EyqW8Vi5"
   },
   "source": [
    "We can first look at different max_depth values."
   ]
  },
  {
   "cell_type": "code",
   "execution_count": null,
   "metadata": {
    "executionInfo": {
     "elapsed": 165,
     "status": "aborted",
     "timestamp": 1674071329915,
     "user": {
      "displayName": "satwik gupta",
      "userId": "11579781950189161815"
     },
     "user_tz": -330
    },
    "id": "1Rd5QCnE6SMP"
   },
   "outputs": [],
   "source": [
    "test_params_dtc(max_depth = 5)"
   ]
  },
  {
   "cell_type": "code",
   "execution_count": null,
   "metadata": {
    "executionInfo": {
     "elapsed": 166,
     "status": "aborted",
     "timestamp": 1674071329917,
     "user": {
      "displayName": "satwik gupta",
      "userId": "11579781950189161815"
     },
     "user_tz": -330
    },
    "id": "r3VOU3wE6SPW"
   },
   "outputs": [],
   "source": [
    "test_params_dtc(max_depth = 7)"
   ]
  },
  {
   "cell_type": "code",
   "execution_count": null,
   "metadata": {
    "executionInfo": {
     "elapsed": 166,
     "status": "aborted",
     "timestamp": 1674071329918,
     "user": {
      "displayName": "satwik gupta",
      "userId": "11579781950189161815"
     },
     "user_tz": -330
    },
    "id": "Z-7y808c6SR7"
   },
   "outputs": [],
   "source": [
    "test_params_dtc(max_depth = 8)"
   ]
  },
  {
   "cell_type": "code",
   "execution_count": null,
   "metadata": {
    "executionInfo": {
     "elapsed": 167,
     "status": "aborted",
     "timestamp": 1674071329920,
     "user": {
      "displayName": "satwik gupta",
      "userId": "11579781950189161815"
     },
     "user_tz": -330
    },
    "id": "ONRkbork-IiK"
   },
   "outputs": [],
   "source": [
    "test_params_dtc(max_depth = 12)"
   ]
  },
  {
   "cell_type": "markdown",
   "metadata": {
    "id": "TTRS7oNo-fLG"
   },
   "source": [
    "The max_depth = 7 seems to be the best value and model is not overfitting."
   ]
  },
  {
   "cell_type": "markdown",
   "metadata": {
    "id": "JSLiqcPe-oBW"
   },
   "source": [
    "Now we can look at max_leaf_nodes."
   ]
  },
  {
   "cell_type": "code",
   "execution_count": null,
   "metadata": {
    "executionInfo": {
     "elapsed": 167,
     "status": "aborted",
     "timestamp": 1674071329921,
     "user": {
      "displayName": "satwik gupta",
      "userId": "11579781950189161815"
     },
     "user_tz": -330
    },
    "id": "ARMTRdhi-x6d"
   },
   "outputs": [],
   "source": [
    "test_params_dtc(max_leaf_nodes = 32)"
   ]
  },
  {
   "cell_type": "code",
   "execution_count": null,
   "metadata": {
    "executionInfo": {
     "elapsed": 169,
     "status": "aborted",
     "timestamp": 1674071329923,
     "user": {
      "displayName": "satwik gupta",
      "userId": "11579781950189161815"
     },
     "user_tz": -330
    },
    "id": "IIAv2Ohk-x9S"
   },
   "outputs": [],
   "source": [
    "test_params_dtc(max_leaf_nodes = 64)"
   ]
  },
  {
   "cell_type": "code",
   "execution_count": null,
   "metadata": {
    "executionInfo": {
     "elapsed": 169,
     "status": "aborted",
     "timestamp": 1674071329925,
     "user": {
      "displayName": "satwik gupta",
      "userId": "11579781950189161815"
     },
     "user_tz": -330
    },
    "id": "BbxTlWIe-yAE"
   },
   "outputs": [],
   "source": [
    "test_params_dtc(max_leaf_nodes = 128)"
   ]
  },
  {
   "cell_type": "code",
   "execution_count": null,
   "metadata": {
    "executionInfo": {
     "elapsed": 170,
     "status": "aborted",
     "timestamp": 1674071329927,
     "user": {
      "displayName": "satwik gupta",
      "userId": "11579781950189161815"
     },
     "user_tz": -330
    },
    "id": "vx7jfdxe-yCa"
   },
   "outputs": [],
   "source": [
    "test_params_dtc(max_leaf_nodes = 256)"
   ]
  },
  {
   "cell_type": "markdown",
   "metadata": {
    "id": "7UlfObXO_clM"
   },
   "source": [
    "128 number of leaf nodes is found as best number and more importantly the model is not overfitting."
   ]
  },
  {
   "cell_type": "code",
   "execution_count": null,
   "metadata": {
    "executionInfo": {
     "elapsed": 160699,
     "status": "aborted",
     "timestamp": 1674071329935,
     "user": {
      "displayName": "satwik gupta",
      "userId": "11579781950189161815"
     },
     "user_tz": -330
    },
    "id": "v8I2Y7WS-yEu"
   },
   "outputs": [],
   "source": []
  },
  {
   "cell_type": "markdown",
   "metadata": {
    "id": "jBALJqpb_-9Z"
   },
   "source": [
    "We can also check for some values for min_samples_split and min_samples_leaf."
   ]
  },
  {
   "cell_type": "code",
   "execution_count": null,
   "metadata": {
    "executionInfo": {
     "elapsed": 160695,
     "status": "aborted",
     "timestamp": 1674071329937,
     "user": {
      "displayName": "satwik gupta",
      "userId": "11579781950189161815"
     },
     "user_tz": -330
    },
    "id": "EtFm2blW-yH2"
   },
   "outputs": [],
   "source": [
    "test_params_dtc(max_depth = 7, min_samples_split = 4)"
   ]
  },
  {
   "cell_type": "code",
   "execution_count": null,
   "metadata": {
    "executionInfo": {
     "elapsed": 160667,
     "status": "aborted",
     "timestamp": 1674071329938,
     "user": {
      "displayName": "satwik gupta",
      "userId": "11579781950189161815"
     },
     "user_tz": -330
    },
    "id": "8appVN6PAIa9"
   },
   "outputs": [],
   "source": [
    "test_params_dtc(max_depth = 7, min_samples_split = 6)"
   ]
  },
  {
   "cell_type": "code",
   "execution_count": null,
   "metadata": {
    "executionInfo": {
     "elapsed": 160662,
     "status": "aborted",
     "timestamp": 1674071329940,
     "user": {
      "displayName": "satwik gupta",
      "userId": "11579781950189161815"
     },
     "user_tz": -330
    },
    "id": "p6FLKx7nAIgI"
   },
   "outputs": [],
   "source": [
    "test_params_dtc(max_depth = 7, min_samples_split = 20)"
   ]
  },
  {
   "cell_type": "code",
   "execution_count": null,
   "metadata": {
    "executionInfo": {
     "elapsed": 160657,
     "status": "aborted",
     "timestamp": 1674071329942,
     "user": {
      "displayName": "satwik gupta",
      "userId": "11579781950189161815"
     },
     "user_tz": -330
    },
    "id": "0XFtWbJjAIjG"
   },
   "outputs": [],
   "source": [
    "test_params_dtc(max_depth = 7, min_samples_leaf = 2)"
   ]
  },
  {
   "cell_type": "code",
   "execution_count": null,
   "metadata": {
    "executionInfo": {
     "elapsed": 160650,
     "status": "aborted",
     "timestamp": 1674071329943,
     "user": {
      "displayName": "satwik gupta",
      "userId": "11579781950189161815"
     },
     "user_tz": -330
    },
    "id": "v4VJcsacAwxk"
   },
   "outputs": [],
   "source": [
    "test_params_dtc(max_depth = 7, min_samples_leaf = 5)"
   ]
  },
  {
   "cell_type": "code",
   "execution_count": null,
   "metadata": {
    "executionInfo": {
     "elapsed": 160645,
     "status": "aborted",
     "timestamp": 1674071329944,
     "user": {
      "displayName": "satwik gupta",
      "userId": "11579781950189161815"
     },
     "user_tz": -330
    },
    "id": "0gjecv2jAw0p"
   },
   "outputs": [],
   "source": [
    "test_params_dtc(max_depth = 7, min_samples_leaf = 8)"
   ]
  },
  {
   "cell_type": "code",
   "execution_count": null,
   "metadata": {
    "executionInfo": {
     "elapsed": 160641,
     "status": "aborted",
     "timestamp": 1674071329946,
     "user": {
      "displayName": "satwik gupta",
      "userId": "11579781950189161815"
     },
     "user_tz": -330
    },
    "id": "Yy57IhAkBK-T"
   },
   "outputs": [],
   "source": [
    "test_params_dtc(max_depth = 7, min_samples_leaf = 20)"
   ]
  },
  {
   "cell_type": "markdown",
   "metadata": {
    "id": "Q37EcNIPBiej"
   },
   "source": [
    "Since these two does not seems to have much impact with a good max_depth value, we can now try to get best model by tuning these hyperparameters."
   ]
  },
  {
   "cell_type": "code",
   "execution_count": null,
   "metadata": {
    "executionInfo": {
     "elapsed": 160639,
     "status": "aborted",
     "timestamp": 1674071329950,
     "user": {
      "displayName": "satwik gupta",
      "userId": "11579781950189161815"
     },
     "user_tz": -330
    },
    "id": "6miQeykvAw3f"
   },
   "outputs": [],
   "source": [
    "test_params_dtc(max_depth = 7, max_leaf_nodes = 64)"
   ]
  },
  {
   "cell_type": "code",
   "execution_count": null,
   "metadata": {
    "executionInfo": {
     "elapsed": 160640,
     "status": "aborted",
     "timestamp": 1674071329957,
     "user": {
      "displayName": "satwik gupta",
      "userId": "11579781950189161815"
     },
     "user_tz": -330
    },
    "id": "Bnzq-hfRC6qY"
   },
   "outputs": [],
   "source": [
    "test_params_dtc(max_depth = 7, max_leaf_nodes = 128)"
   ]
  },
  {
   "cell_type": "code",
   "execution_count": null,
   "metadata": {
    "executionInfo": {
     "elapsed": 160636,
     "status": "aborted",
     "timestamp": 1674071329959,
     "user": {
      "displayName": "satwik gupta",
      "userId": "11579781950189161815"
     },
     "user_tz": -330
    },
    "id": "utiVWf8-C6tz"
   },
   "outputs": [],
   "source": [
    "test_params_dtc(max_depth = 7, max_leaf_nodes = 256)"
   ]
  },
  {
   "cell_type": "code",
   "execution_count": null,
   "metadata": {
    "executionInfo": {
     "elapsed": 160632,
     "status": "aborted",
     "timestamp": 1674071329961,
     "user": {
      "displayName": "satwik gupta",
      "userId": "11579781950189161815"
     },
     "user_tz": -330
    },
    "id": "nyJP5qHODRec"
   },
   "outputs": [],
   "source": [
    "test_params_dtc(max_depth = 8, max_leaf_nodes = 64)"
   ]
  },
  {
   "cell_type": "code",
   "execution_count": null,
   "metadata": {
    "executionInfo": {
     "elapsed": 160628,
     "status": "aborted",
     "timestamp": 1674071329963,
     "user": {
      "displayName": "satwik gupta",
      "userId": "11579781950189161815"
     },
     "user_tz": -330
    },
    "id": "LYRCTkJVDRbb"
   },
   "outputs": [],
   "source": [
    "test_params_dtc(max_depth = 8, max_leaf_nodes = 128)"
   ]
  },
  {
   "cell_type": "code",
   "execution_count": null,
   "metadata": {
    "executionInfo": {
     "elapsed": 160642,
     "status": "aborted",
     "timestamp": 1674071329983,
     "user": {
      "displayName": "satwik gupta",
      "userId": "11579781950189161815"
     },
     "user_tz": -330
    },
    "id": "-2oOTg34C62V"
   },
   "outputs": [],
   "source": [
    "test_params_dtc(max_depth = 7, max_leaf_nodes = 128, min_samples_leaf = 4)"
   ]
  },
  {
   "cell_type": "code",
   "execution_count": null,
   "metadata": {
    "executionInfo": {
     "elapsed": 160640,
     "status": "aborted",
     "timestamp": 1674071329985,
     "user": {
      "displayName": "satwik gupta",
      "userId": "11579781950189161815"
     },
     "user_tz": -330
    },
    "id": "eR_wm-GbDyTp"
   },
   "outputs": [],
   "source": [
    "test_params_dtc(max_depth = 7, max_leaf_nodes = 128, min_samples_leaf = 5)"
   ]
  },
  {
   "cell_type": "markdown",
   "metadata": {
    "id": "58XcBSv0EPML"
   },
   "source": [
    "So we now select our best decision tree classifier model as follows."
   ]
  },
  {
   "cell_type": "code",
   "execution_count": null,
   "metadata": {
    "executionInfo": {
     "elapsed": 160636,
     "status": "aborted",
     "timestamp": 1674071329986,
     "user": {
      "displayName": "satwik gupta",
      "userId": "11579781950189161815"
     },
     "user_tz": -330
    },
    "id": "9yEZly61EZ9X"
   },
   "outputs": [],
   "source": [
    "model_dtc_best = DecisionTreeClassifier(max_depth = 7, max_leaf_nodes = 128, min_samples_leaf = 5, random_state=42)"
   ]
  },
  {
   "cell_type": "code",
   "execution_count": null,
   "metadata": {
    "executionInfo": {
     "elapsed": 160632,
     "status": "aborted",
     "timestamp": 1674071329988,
     "user": {
      "displayName": "satwik gupta",
      "userId": "11579781950189161815"
     },
     "user_tz": -330
    },
    "id": "rwzK3EWxEq30"
   },
   "outputs": [],
   "source": [
    "model_performance(model_dtc_best, X_train, train_targets, X_val, val_targets)"
   ]
  },
  {
   "cell_type": "markdown",
   "metadata": {
    "id": "XoUku-hcFS_V"
   },
   "source": [
    "From Logistic Regression our validation has increased slightly and we got a minor increase in roc_auc_score as well. Now we may have a look at feature importance of Decision Tree Classifier."
   ]
  },
  {
   "cell_type": "code",
   "execution_count": null,
   "metadata": {
    "executionInfo": {
     "elapsed": 160627,
     "status": "aborted",
     "timestamp": 1674071329989,
     "user": {
      "displayName": "satwik gupta",
      "userId": "11579781950189161815"
     },
     "user_tz": -330
    },
    "id": "lzcPGlC-FzW-"
   },
   "outputs": [],
   "source": [
    "importance_df = pd.DataFrame({\n",
    "    'feature': X_train.columns,\n",
    "    'importance': model_dtc_best.feature_importances_\n",
    "})\n",
    "sns.barplot(x = 'importance', y = 'feature', data = importance_df.sort_values('importance', ascending = False).head(10));"
   ]
  },
  {
   "cell_type": "markdown",
   "metadata": {
    "id": "3KbP_jKQmfRo"
   },
   "source": [
    "Since we can observe a very high influence of 'DEP_DEL15' on prediction, we will look at the performance of another baseline model which predicts delay at arrival same as delay at departure column. "
   ]
  },
  {
   "cell_type": "code",
   "execution_count": null,
   "metadata": {
    "executionInfo": {
     "elapsed": 160626,
     "status": "aborted",
     "timestamp": 1674071329992,
     "user": {
      "displayName": "satwik gupta",
      "userId": "11579781950189161815"
     },
     "user_tz": -330
    },
    "id": "WJRuVgRQkd02"
   },
   "outputs": [],
   "source": [
    "arr_preds_based_on_dep_delay = val_df['DEP_DEL15']\n",
    "arr_preds_based_on_dep_delay"
   ]
  },
  {
   "cell_type": "code",
   "execution_count": null,
   "metadata": {
    "executionInfo": {
     "elapsed": 160628,
     "status": "aborted",
     "timestamp": 1674071329999,
     "user": {
      "displayName": "satwik gupta",
      "userId": "11579781950189161815"
     },
     "user_tz": -330
    },
    "id": "DcYx1QyAke0e"
   },
   "outputs": [],
   "source": [
    "accuracy_score(val_targets, arr_preds_based_on_dep_delay)"
   ]
  },
  {
   "cell_type": "code",
   "execution_count": null,
   "metadata": {
    "executionInfo": {
     "elapsed": 160626,
     "status": "aborted",
     "timestamp": 1674071330001,
     "user": {
      "displayName": "satwik gupta",
      "userId": "11579781950189161815"
     },
     "user_tz": -330
    },
    "id": "1glcN3Q1lLNs"
   },
   "outputs": [],
   "source": [
    "roc_auc_score(val_targets, arr_preds_based_on_dep_delay)"
   ]
  },
  {
   "cell_type": "code",
   "execution_count": null,
   "metadata": {
    "executionInfo": {
     "elapsed": 160627,
     "status": "aborted",
     "timestamp": 1674071330006,
     "user": {
      "displayName": "satwik gupta",
      "userId": "11579781950189161815"
     },
     "user_tz": -330
    },
    "id": "RPvhM9uBlqod"
   },
   "outputs": [],
   "source": [
    " conf_matrix_arr_based_on_dep_delay =  confusion_matrix(val_targets, arr_preds_based_on_dep_delay, normalize = 'true')\n",
    " plt.figure()\n",
    " plt.title('Validation Confusion Matrix for Arrival delay prediction based on Departure delay')\n",
    " sns.heatmap(conf_matrix_arr_based_on_dep_delay, annot = True);"
   ]
  },
  {
   "cell_type": "markdown",
   "metadata": {
    "id": "4Kwj6vjknH2w"
   },
   "source": [
    "As above results suggests our Decision Tree Classifier gives almost same performance to the model that just copying the departure delay column. We need to check more algorithms to outperform this baseline model."
   ]
  },
  {
   "cell_type": "code",
   "execution_count": null,
   "metadata": {
    "executionInfo": {
     "elapsed": 160625,
     "status": "aborted",
     "timestamp": 1674071330008,
     "user": {
      "displayName": "satwik gupta",
      "userId": "11579781950189161815"
     },
     "user_tz": -330
    },
    "id": "dCBI_6VNE4H3"
   },
   "outputs": [],
   "source": []
  },
  {
   "cell_type": "markdown",
   "metadata": {
    "id": "K5z7K2pUn5ai"
   },
   "source": [
    "### Random Forest Classifeir"
   ]
  },
  {
   "cell_type": "code",
   "execution_count": null,
   "metadata": {
    "executionInfo": {
     "elapsed": 160622,
     "status": "aborted",
     "timestamp": 1674071330009,
     "user": {
      "displayName": "satwik gupta",
      "userId": "11579781950189161815"
     },
     "user_tz": -330
    },
    "id": "nxWIqOs2acxP"
   },
   "outputs": [],
   "source": [
    "from sklearn.ensemble import RandomForestClassifier"
   ]
  },
  {
   "cell_type": "code",
   "execution_count": null,
   "metadata": {
    "executionInfo": {
     "elapsed": 160619,
     "status": "aborted",
     "timestamp": 1674071330010,
     "user": {
      "displayName": "satwik gupta",
      "userId": "11579781950189161815"
     },
     "user_tz": -330
    },
    "id": "SeY53vBghm96"
   },
   "outputs": [],
   "source": [
    "model = RandomForestClassifier(n_jobs = -1, random_state = 42)"
   ]
  },
  {
   "cell_type": "code",
   "execution_count": null,
   "metadata": {
    "executionInfo": {
     "elapsed": 160607,
     "status": "aborted",
     "timestamp": 1674071330011,
     "user": {
      "displayName": "satwik gupta",
      "userId": "11579781950189161815"
     },
     "user_tz": -330
    },
    "id": "DEQuJZjUhtwE"
   },
   "outputs": [],
   "source": [
    "model_performance(model, X_train, train_targets, X_val, val_targets)"
   ]
  },
  {
   "cell_type": "markdown",
   "metadata": {
    "id": "UvQ-6Goxo05N"
   },
   "source": [
    "The default configuration of Random Forest is not good compared to our best Decision Tree model, and we need to search for optimum hyperparameters."
   ]
  },
  {
   "cell_type": "code",
   "execution_count": null,
   "metadata": {
    "executionInfo": {
     "elapsed": 160604,
     "status": "aborted",
     "timestamp": 1674071330012,
     "user": {
      "displayName": "satwik gupta",
      "userId": "11579781950189161815"
     },
     "user_tz": -330
    },
    "id": "WpxXAOmnpLgi"
   },
   "outputs": [],
   "source": []
  },
  {
   "cell_type": "markdown",
   "metadata": {
    "id": "fBSEWjQmpO-6"
   },
   "source": [
    "#### Hyperparameter Tuinng for Random Forest Classifier"
   ]
  },
  {
   "cell_type": "code",
   "execution_count": null,
   "metadata": {
    "executionInfo": {
     "elapsed": 160605,
     "status": "aborted",
     "timestamp": 1674071330017,
     "user": {
      "displayName": "satwik gupta",
      "userId": "11579781950189161815"
     },
     "user_tz": -330
    },
    "id": "wDf8nCqXpXoD"
   },
   "outputs": [],
   "source": [
    "# function to quickly evaluate effect of different hyperparameters\n",
    "def test_params_rfc(**params):\n",
    "    model = RandomForestClassifier(n_jobs = -1, random_state = 42, **params).fit(X_train, train_targets)\n",
    "    train_accuracy = model.score(X_train, train_targets)\n",
    "    val_accuracy = model.score(X_val, val_targets)\n",
    "    roc_auc_score_lr = roc_auc_score(val_targets, model.predict(X_val))\n",
    "    print('Train set accuracy: {:.2f}%'.format(train_accuracy*100))\n",
    "    print('Validation set Accuracy: {:.2f}%'.format(val_accuracy* 100))\n",
    "    print('roc auc score: {:.2f}'.format(roc_auc_score_lr))"
   ]
  },
  {
   "cell_type": "markdown",
   "metadata": {
    "id": "5bMaeSKivBcJ"
   },
   "source": [
    "Let's look at influence of number of estimators."
   ]
  },
  {
   "cell_type": "code",
   "execution_count": null,
   "metadata": {
    "executionInfo": {
     "elapsed": 160603,
     "status": "aborted",
     "timestamp": 1674071330019,
     "user": {
      "displayName": "satwik gupta",
      "userId": "11579781950189161815"
     },
     "user_tz": -330
    },
    "id": "sknNQa6mpXrD"
   },
   "outputs": [],
   "source": [
    "test_params_rfc(n_estimators = 5)"
   ]
  },
  {
   "cell_type": "code",
   "execution_count": null,
   "metadata": {
    "executionInfo": {
     "elapsed": 160601,
     "status": "aborted",
     "timestamp": 1674071330021,
     "user": {
      "displayName": "satwik gupta",
      "userId": "11579781950189161815"
     },
     "user_tz": -330
    },
    "id": "4YaeUjxHpXtd"
   },
   "outputs": [],
   "source": [
    "test_params_rfc(n_estimators = 20)"
   ]
  },
  {
   "cell_type": "code",
   "execution_count": null,
   "metadata": {
    "executionInfo": {
     "elapsed": 160598,
     "status": "aborted",
     "timestamp": 1674071330022,
     "user": {
      "displayName": "satwik gupta",
      "userId": "11579781950189161815"
     },
     "user_tz": -330
    },
    "id": "2u_ZhmIKpX1j"
   },
   "outputs": [],
   "source": [
    "test_params_rfc(n_estimators = 35)"
   ]
  },
  {
   "cell_type": "code",
   "execution_count": null,
   "metadata": {
    "executionInfo": {
     "elapsed": 160595,
     "status": "aborted",
     "timestamp": 1674071330023,
     "user": {
      "displayName": "satwik gupta",
      "userId": "11579781950189161815"
     },
     "user_tz": -330
    },
    "id": "1CBy4XAIpX4g"
   },
   "outputs": [],
   "source": [
    "test_params_rfc(n_estimators = 50)"
   ]
  },
  {
   "cell_type": "markdown",
   "metadata": {
    "id": "uHfPMjX0vJsR"
   },
   "source": [
    "Now we can check what effect max_depth can make. "
   ]
  },
  {
   "cell_type": "code",
   "execution_count": null,
   "metadata": {
    "executionInfo": {
     "elapsed": 160592,
     "status": "aborted",
     "timestamp": 1674071330024,
     "user": {
      "displayName": "satwik gupta",
      "userId": "11579781950189161815"
     },
     "user_tz": -330
    },
    "id": "_ZCYHmOLpX7m"
   },
   "outputs": [],
   "source": [
    "test_params_rfc(n_estimators = 20, max_depth = 5)"
   ]
  },
  {
   "cell_type": "code",
   "execution_count": null,
   "metadata": {
    "executionInfo": {
     "elapsed": 160590,
     "status": "aborted",
     "timestamp": 1674071330025,
     "user": {
      "displayName": "satwik gupta",
      "userId": "11579781950189161815"
     },
     "user_tz": -330
    },
    "id": "zj9qB2WMrZ-L"
   },
   "outputs": [],
   "source": [
    "test_params_rfc(n_estimators = 20, max_depth = 7)"
   ]
  },
  {
   "cell_type": "code",
   "execution_count": null,
   "metadata": {
    "executionInfo": {
     "elapsed": 160586,
     "status": "aborted",
     "timestamp": 1674071330026,
     "user": {
      "displayName": "satwik gupta",
      "userId": "11579781950189161815"
     },
     "user_tz": -330
    },
    "id": "qVoj3ibmraCF"
   },
   "outputs": [],
   "source": [
    "test_params_rfc(n_estimators = 20, max_depth = 8)"
   ]
  },
  {
   "cell_type": "markdown",
   "metadata": {
    "id": "qY5brIT6vRFR"
   },
   "source": [
    "Let's also check effect of max_leaf_nodes."
   ]
  },
  {
   "cell_type": "code",
   "execution_count": null,
   "metadata": {
    "executionInfo": {
     "elapsed": 121,
     "status": "aborted",
     "timestamp": 1674071330740,
     "user": {
      "displayName": "satwik gupta",
      "userId": "11579781950189161815"
     },
     "user_tz": -330
    },
    "id": "ATnGBPuKraE9"
   },
   "outputs": [],
   "source": [
    "test_params_rfc(n_estimators = 20, max_leaf_nodes = 32)"
   ]
  },
  {
   "cell_type": "code",
   "execution_count": null,
   "metadata": {
    "executionInfo": {
     "elapsed": 121,
     "status": "aborted",
     "timestamp": 1674071330741,
     "user": {
      "displayName": "satwik gupta",
      "userId": "11579781950189161815"
     },
     "user_tz": -330
    },
    "id": "n9tjlKRNraH4"
   },
   "outputs": [],
   "source": [
    "test_params_rfc(n_estimators = 20, max_leaf_nodes = 64)"
   ]
  },
  {
   "cell_type": "code",
   "execution_count": null,
   "metadata": {
    "executionInfo": {
     "elapsed": 121,
     "status": "aborted",
     "timestamp": 1674071330742,
     "user": {
      "displayName": "satwik gupta",
      "userId": "11579781950189161815"
     },
     "user_tz": -330
    },
    "id": "AyiIn2cpraKa"
   },
   "outputs": [],
   "source": [
    "test_params_rfc(n_estimators = 40, max_leaf_nodes = 128)"
   ]
  },
  {
   "cell_type": "code",
   "execution_count": null,
   "metadata": {
    "executionInfo": {
     "elapsed": 121,
     "status": "aborted",
     "timestamp": 1674071330743,
     "user": {
      "displayName": "satwik gupta",
      "userId": "11579781950189161815"
     },
     "user_tz": -330
    },
    "id": "pfxpqihNraNA"
   },
   "outputs": [],
   "source": [
    "test_params_rfc(n_estimators = 20, max_leaf_nodes = 256)"
   ]
  },
  {
   "cell_type": "markdown",
   "metadata": {
    "id": "fgsyyMyEvbH4"
   },
   "source": [
    "Now we will check min_samples_leaf and its effect."
   ]
  },
  {
   "cell_type": "code",
   "execution_count": null,
   "metadata": {
    "executionInfo": {
     "elapsed": 122,
     "status": "aborted",
     "timestamp": 1674071330744,
     "user": {
      "displayName": "satwik gupta",
      "userId": "11579781950189161815"
     },
     "user_tz": -330
    },
    "id": "VwRi1uGQsbvx"
   },
   "outputs": [],
   "source": [
    "test_params_rfc(n_estimators = 20, min_samples_leaf = 2)"
   ]
  },
  {
   "cell_type": "code",
   "execution_count": null,
   "metadata": {
    "executionInfo": {
     "elapsed": 122,
     "status": "aborted",
     "timestamp": 1674071330745,
     "user": {
      "displayName": "satwik gupta",
      "userId": "11579781950189161815"
     },
     "user_tz": -330
    },
    "id": "VWK1ZDJ9sbtL"
   },
   "outputs": [],
   "source": [
    "test_params_rfc(n_estimators = 20, min_samples_leaf = 4)"
   ]
  },
  {
   "cell_type": "code",
   "execution_count": null,
   "metadata": {
    "executionInfo": {
     "elapsed": 122,
     "status": "aborted",
     "timestamp": 1674071330746,
     "user": {
      "displayName": "satwik gupta",
      "userId": "11579781950189161815"
     },
     "user_tz": -330
    },
    "id": "BEgepRmfsbp5"
   },
   "outputs": [],
   "source": [
    "test_params_rfc(n_estimators = 20, min_samples_leaf = 8)"
   ]
  },
  {
   "cell_type": "markdown",
   "metadata": {
    "id": "Ny39yY_Jvmvp"
   },
   "source": [
    "It would be helpful if we check effect of hyperparameter min_samples_split."
   ]
  },
  {
   "cell_type": "code",
   "execution_count": null,
   "metadata": {
    "executionInfo": {
     "elapsed": 122,
     "status": "aborted",
     "timestamp": 1674071330747,
     "user": {
      "displayName": "satwik gupta",
      "userId": "11579781950189161815"
     },
     "user_tz": -330
    },
    "id": "CrlGWa6NsbZG"
   },
   "outputs": [],
   "source": [
    "test_params_rfc(n_estimators = 20, min_samples_split = 8)"
   ]
  },
  {
   "cell_type": "code",
   "execution_count": null,
   "metadata": {
    "executionInfo": {
     "elapsed": 124,
     "status": "aborted",
     "timestamp": 1674071330749,
     "user": {
      "displayName": "satwik gupta",
      "userId": "11579781950189161815"
     },
     "user_tz": -330
    },
    "id": "-1yZcrnYsbJh"
   },
   "outputs": [],
   "source": [
    "test_params_rfc(n_estimators = 20, min_samples_split = 50)"
   ]
  },
  {
   "cell_type": "code",
   "execution_count": null,
   "metadata": {
    "executionInfo": {
     "elapsed": 124,
     "status": "aborted",
     "timestamp": 1674071330750,
     "user": {
      "displayName": "satwik gupta",
      "userId": "11579781950189161815"
     },
     "user_tz": -330
    },
    "id": "3L2ECt3muaka"
   },
   "outputs": [],
   "source": [
    "test_params_rfc(n_estimators = 20, min_samples_split = 25)"
   ]
  },
  {
   "cell_type": "code",
   "execution_count": null,
   "metadata": {
    "executionInfo": {
     "elapsed": 125,
     "status": "aborted",
     "timestamp": 1674071330752,
     "user": {
      "displayName": "satwik gupta",
      "userId": "11579781950189161815"
     },
     "user_tz": -330
    },
    "id": "Ggkzpc0bu9DY"
   },
   "outputs": [],
   "source": [
    "model_rfc_best = RandomForestClassifier(n_jobs = -1, random_state = 42, n_estimators = 20, min_samples_leaf = 8)"
   ]
  },
  {
   "cell_type": "code",
   "execution_count": null,
   "metadata": {
    "executionInfo": {
     "elapsed": 127,
     "status": "aborted",
     "timestamp": 1674071330754,
     "user": {
      "displayName": "satwik gupta",
      "userId": "11579781950189161815"
     },
     "user_tz": -330
    },
    "id": "xVKJpGa1u9M9"
   },
   "outputs": [],
   "source": [
    "model_performance(model_rfc_best, X_train, train_targets, X_val, val_targets)"
   ]
  },
  {
   "cell_type": "markdown",
   "metadata": {
    "id": "auGlhjME00ob"
   },
   "source": [
    "We could only able to achieve a marginal increase in performance compared to model that copies departure delays."
   ]
  },
  {
   "cell_type": "code",
   "execution_count": null,
   "metadata": {
    "executionInfo": {
     "elapsed": 127,
     "status": "aborted",
     "timestamp": 1674071330755,
     "user": {
      "displayName": "satwik gupta",
      "userId": "11579781950189161815"
     },
     "user_tz": -330
    },
    "id": "GyXNJ-R31XTc"
   },
   "outputs": [],
   "source": [
    "importance_df = pd.DataFrame({\n",
    "    'feature': X_train.columns,\n",
    "    'importance': model_rfc_best.feature_importances_\n",
    "})\n",
    "sns.barplot(x = 'importance', y = 'feature', data = importance_df.sort_values('importance', ascending = False).head(10));"
   ]
  },
  {
   "cell_type": "markdown",
   "metadata": {
    "id": "W-jRWz4t12a6"
   },
   "source": [
    "By examining the feature importance we can understand that the Random Forest model is best as it depends on many features for prediction unlike Decision Tree model which mostly depends on one feature. we can hope our Random Forest will perform better to unknown data."
   ]
  },
  {
   "cell_type": "code",
   "execution_count": null,
   "metadata": {
    "executionInfo": {
     "elapsed": 128,
     "status": "aborted",
     "timestamp": 1674071330757,
     "user": {
      "displayName": "satwik gupta",
      "userId": "11579781950189161815"
     },
     "user_tz": -330
    },
    "id": "dQLIyjjRu9QN"
   },
   "outputs": [],
   "source": []
  },
  {
   "cell_type": "markdown",
   "metadata": {
    "id": "ZCPPmNfj1Ji2"
   },
   "source": [
    "### XGBoost Classifier"
   ]
  },
  {
   "cell_type": "code",
   "execution_count": null,
   "metadata": {
    "executionInfo": {
     "elapsed": 129,
     "status": "aborted",
     "timestamp": 1674071330758,
     "user": {
      "displayName": "satwik gupta",
      "userId": "11579781950189161815"
     },
     "user_tz": -330
    },
    "id": "ezBfK9uOfgwZ"
   },
   "outputs": [],
   "source": [
    "from xgboost import XGBClassifier"
   ]
  },
  {
   "cell_type": "code",
   "execution_count": null,
   "metadata": {
    "executionInfo": {
     "elapsed": 129,
     "status": "aborted",
     "timestamp": 1674071330759,
     "user": {
      "displayName": "satwik gupta",
      "userId": "11579781950189161815"
     },
     "user_tz": -330
    },
    "id": "h61A2wFDGFBl"
   },
   "outputs": [],
   "source": [
    "model = XGBClassifier(random_state=42, n_jobs = -1,use_label_encoder=False, eval_metric = 'logloss')\n"
   ]
  },
  {
   "cell_type": "code",
   "execution_count": null,
   "metadata": {
    "executionInfo": {
     "elapsed": 129,
     "status": "aborted",
     "timestamp": 1674071330760,
     "user": {
      "displayName": "satwik gupta",
      "userId": "11579781950189161815"
     },
     "user_tz": -330
    },
    "id": "8rp-eUthfgzl"
   },
   "outputs": [],
   "source": [
    "model_performance(model, X_train, train_targets, X_val, val_targets)"
   ]
  },
  {
   "cell_type": "markdown",
   "metadata": {
    "id": "LDurTAW83O4M"
   },
   "source": [
    "From the above performance data we can see that clearly performance on validation set is increased but the roc_auc_score is decreased."
   ]
  },
  {
   "cell_type": "code",
   "execution_count": null,
   "metadata": {
    "executionInfo": {
     "elapsed": 129,
     "status": "aborted",
     "timestamp": 1674071330761,
     "user": {
      "displayName": "satwik gupta",
      "userId": "11579781950189161815"
     },
     "user_tz": -330
    },
    "id": "6Rqtreao4ksa"
   },
   "outputs": [],
   "source": []
  },
  {
   "cell_type": "markdown",
   "metadata": {
    "id": "1GBb7DOl3dam"
   },
   "source": [
    "#### Hyperparameter Tuning for XGBClassifier"
   ]
  },
  {
   "cell_type": "code",
   "execution_count": null,
   "metadata": {
    "executionInfo": {
     "elapsed": 129,
     "status": "aborted",
     "timestamp": 1674071330762,
     "user": {
      "displayName": "satwik gupta",
      "userId": "11579781950189161815"
     },
     "user_tz": -330
    },
    "id": "DBMD4tdV3qQm"
   },
   "outputs": [],
   "source": [
    "# function to quickly evaluate effect of different hyperparameters\n",
    "def test_params_xgbc(**params):\n",
    "    model = XGBClassifier(random_state=42, n_jobs = -1,use_label_encoder=False, eval_metric = 'logloss', **params).fit(X_train, train_targets)\n",
    "    train_accuracy = model.score(X_train, train_targets)\n",
    "    val_accuracy = model.score(X_val, val_targets)\n",
    "    roc_auc_score_lr = roc_auc_score(val_targets, model.predict(X_val))\n",
    "    print('Train set accuracy: {:.2f}%'.format(train_accuracy*100))\n",
    "    print('Validation set Accuracy: {:.2f}%'.format(val_accuracy* 100))\n",
    "    print('roc auc score: {:.2f}'.format(roc_auc_score_lr))"
   ]
  },
  {
   "cell_type": "markdown",
   "metadata": {
    "id": "AbeUoobx_Rb2"
   },
   "source": [
    "Let's check effect of number of estimators."
   ]
  },
  {
   "cell_type": "code",
   "execution_count": null,
   "metadata": {
    "executionInfo": {
     "elapsed": 129,
     "status": "aborted",
     "timestamp": 1674071330763,
     "user": {
      "displayName": "satwik gupta",
      "userId": "11579781950189161815"
     },
     "user_tz": -330
    },
    "id": "OqU_yw6mfg9z"
   },
   "outputs": [],
   "source": [
    "test_params_xgbc(n_estimators = 10)"
   ]
  },
  {
   "cell_type": "code",
   "execution_count": null,
   "metadata": {
    "executionInfo": {
     "elapsed": 129,
     "status": "aborted",
     "timestamp": 1674071330764,
     "user": {
      "displayName": "satwik gupta",
      "userId": "11579781950189161815"
     },
     "user_tz": -330
    },
    "id": "IH38lYwpfhAw"
   },
   "outputs": [],
   "source": [
    "test_params_xgbc(n_estimators = 20)"
   ]
  },
  {
   "cell_type": "code",
   "execution_count": null,
   "metadata": {
    "executionInfo": {
     "elapsed": 129,
     "status": "aborted",
     "timestamp": 1674071330765,
     "user": {
      "displayName": "satwik gupta",
      "userId": "11579781950189161815"
     },
     "user_tz": -330
    },
    "id": "VUj0SyJefhIW"
   },
   "outputs": [],
   "source": [
    "test_params_xgbc(n_estimators = 30)"
   ]
  },
  {
   "cell_type": "code",
   "execution_count": null,
   "metadata": {
    "executionInfo": {
     "elapsed": 130,
     "status": "aborted",
     "timestamp": 1674071330767,
     "user": {
      "displayName": "satwik gupta",
      "userId": "11579781950189161815"
     },
     "user_tz": -330
    },
    "id": "08yPabtm2wHc"
   },
   "outputs": [],
   "source": [
    "test_params_xgbc(n_estimators = 50)"
   ]
  },
  {
   "cell_type": "markdown",
   "metadata": {
    "id": "NKPHxxE9_Xsp"
   },
   "source": [
    "Now let's check max_depth."
   ]
  },
  {
   "cell_type": "code",
   "execution_count": null,
   "metadata": {
    "executionInfo": {
     "elapsed": 131,
     "status": "aborted",
     "timestamp": 1674071330769,
     "user": {
      "displayName": "satwik gupta",
      "userId": "11579781950189161815"
     },
     "user_tz": -330
    },
    "id": "UvUqpDyX2wE1"
   },
   "outputs": [],
   "source": [
    "test_params_xgbc(n_estimators = 10, max_depth = 5)"
   ]
  },
  {
   "cell_type": "code",
   "execution_count": null,
   "metadata": {
    "executionInfo": {
     "elapsed": 131,
     "status": "aborted",
     "timestamp": 1674071330770,
     "user": {
      "displayName": "satwik gupta",
      "userId": "11579781950189161815"
     },
     "user_tz": -330
    },
    "id": "cHEjAX_22wBk"
   },
   "outputs": [],
   "source": [
    "test_params_xgbc(n_estimators = 10, max_depth = 10)"
   ]
  },
  {
   "cell_type": "code",
   "execution_count": null,
   "metadata": {
    "executionInfo": {
     "elapsed": 131,
     "status": "aborted",
     "timestamp": 1674071330771,
     "user": {
      "displayName": "satwik gupta",
      "userId": "11579781950189161815"
     },
     "user_tz": -330
    },
    "id": "DUXTQ-Yo3t-8"
   },
   "outputs": [],
   "source": [
    "test_params_xgbc(n_estimators = 10, max_depth = 20)"
   ]
  },
  {
   "cell_type": "markdown",
   "metadata": {
    "id": "nyNCBxBQ_elh"
   },
   "source": [
    "We can also explore learning_rate's effect on predictions."
   ]
  },
  {
   "cell_type": "code",
   "execution_count": null,
   "metadata": {
    "executionInfo": {
     "elapsed": 130,
     "status": "aborted",
     "timestamp": 1674071330772,
     "user": {
      "displayName": "satwik gupta",
      "userId": "11579781950189161815"
     },
     "user_tz": -330
    },
    "id": "o4haR6tg5uG_"
   },
   "outputs": [],
   "source": [
    "test_params_xgbc(n_estimators = 10, learning_rate = 0.2)"
   ]
  },
  {
   "cell_type": "code",
   "execution_count": null,
   "metadata": {
    "executionInfo": {
     "elapsed": 133,
     "status": "aborted",
     "timestamp": 1674071330775,
     "user": {
      "displayName": "satwik gupta",
      "userId": "11579781950189161815"
     },
     "user_tz": -330
    },
    "id": "wTDskzFv6LBi"
   },
   "outputs": [],
   "source": [
    "test_params_xgbc(n_estimators = 10, learning_rate = 0.3)"
   ]
  },
  {
   "cell_type": "code",
   "execution_count": null,
   "metadata": {
    "executionInfo": {
     "elapsed": 133,
     "status": "aborted",
     "timestamp": 1674071330776,
     "user": {
      "displayName": "satwik gupta",
      "userId": "11579781950189161815"
     },
     "user_tz": -330
    },
    "id": "rliI5aUw6LEq"
   },
   "outputs": [],
   "source": [
    "test_params_xgbc(n_estimators = 10, learning_rate = 0.4)"
   ]
  },
  {
   "cell_type": "code",
   "execution_count": null,
   "metadata": {
    "executionInfo": {
     "elapsed": 134,
     "status": "aborted",
     "timestamp": 1674071330778,
     "user": {
      "displayName": "satwik gupta",
      "userId": "11579781950189161815"
     },
     "user_tz": -330
    },
    "id": "QnXWEoSl6LG4"
   },
   "outputs": [],
   "source": [
    "test_params_xgbc(n_estimators = 10, learning_rate = 0.5)"
   ]
  },
  {
   "cell_type": "code",
   "execution_count": null,
   "metadata": {
    "executionInfo": {
     "elapsed": 135,
     "status": "aborted",
     "timestamp": 1674071330779,
     "user": {
      "displayName": "satwik gupta",
      "userId": "11579781950189161815"
     },
     "user_tz": -330
    },
    "id": "ec45bp9SAUW-"
   },
   "outputs": [],
   "source": [
    "test_params_xgbc(n_estimators = 40, max_depth = 7, learning_rate = 0.3)"
   ]
  },
  {
   "cell_type": "code",
   "execution_count": null,
   "metadata": {
    "executionInfo": {
     "elapsed": 134,
     "status": "aborted",
     "timestamp": 1674071330781,
     "user": {
      "displayName": "satwik gupta",
      "userId": "11579781950189161815"
     },
     "user_tz": -330
    },
    "id": "1c7ZU8rMAUZ7"
   },
   "outputs": [],
   "source": [
    "test_params_xgbc(n_estimators = 50, max_depth = 7, learning_rate = 0.3)"
   ]
  },
  {
   "cell_type": "code",
   "execution_count": null,
   "metadata": {
    "executionInfo": {
     "elapsed": 134,
     "status": "aborted",
     "timestamp": 1674071330782,
     "user": {
      "displayName": "satwik gupta",
      "userId": "11579781950189161815"
     },
     "user_tz": -330
    },
    "id": "gsIJkVW8AUe4"
   },
   "outputs": [],
   "source": [
    "model_xgbc_best = XGBClassifier(n_estimators = 50, max_depth = 7, learning_rate = 0.3, random_state=42, n_jobs = -1,use_label_encoder=False, eval_metric = 'logloss')"
   ]
  },
  {
   "cell_type": "code",
   "execution_count": null,
   "metadata": {
    "executionInfo": {
     "elapsed": 136,
     "status": "aborted",
     "timestamp": 1674071330785,
     "user": {
      "displayName": "satwik gupta",
      "userId": "11579781950189161815"
     },
     "user_tz": -330
    },
    "id": "ZSexlLATG7C-"
   },
   "outputs": [],
   "source": [
    "model_performance(model_xgbc_best, X_train, train_targets, X_val, val_targets)"
   ]
  },
  {
   "cell_type": "markdown",
   "metadata": {
    "id": "KQoXO9VTIEb2"
   },
   "source": [
    "With gradient boosting algorithm of XGBoost we could achieve better accuracy on validation set, but for the highest of accuracy model, roc_auc_score is less compared to earlier models. For this reason we will select one more best model from XGBoost classifier to checck performance on test data."
   ]
  },
  {
   "cell_type": "code",
   "execution_count": null,
   "metadata": {
    "executionInfo": {
     "elapsed": 137,
     "status": "aborted",
     "timestamp": 1674071330787,
     "user": {
      "displayName": "satwik gupta",
      "userId": "11579781950189161815"
     },
     "user_tz": -330
    },
    "id": "R6rb7RKzItJe"
   },
   "outputs": [],
   "source": [
    "model_xgbc_best2 = XGBClassifier(n_estimators = 10, learning_rate = 0.4, random_state=42, n_jobs = -1,use_label_encoder=False, eval_metric = 'logloss')"
   ]
  },
  {
   "cell_type": "code",
   "execution_count": null,
   "metadata": {
    "executionInfo": {
     "elapsed": 138,
     "status": "aborted",
     "timestamp": 1674071330789,
     "user": {
      "displayName": "satwik gupta",
      "userId": "11579781950189161815"
     },
     "user_tz": -330
    },
    "id": "ZBeBLLb0YvK_"
   },
   "outputs": [],
   "source": [
    "model_performance(model_xgbc_best2, X_train, train_targets, X_val, val_targets)"
   ]
  },
  {
   "cell_type": "code",
   "execution_count": null,
   "metadata": {
    "executionInfo": {
     "elapsed": 145,
     "status": "aborted",
     "timestamp": 1674071330797,
     "user": {
      "displayName": "satwik gupta",
      "userId": "11579781950189161815"
     },
     "user_tz": -330
    },
    "id": "o4VCilpD7tp1"
   },
   "outputs": [],
   "source": []
  },
  {
   "cell_type": "markdown",
   "metadata": {
    "id": "amRPG5EmHqII"
   },
   "source": [
    "## Making Predictions on New Inputs"
   ]
  },
  {
   "cell_type": "markdown",
   "metadata": {
    "id": "Zth9SpJtS5g7"
   },
   "source": [
    "To predict delay on arrival for a single input (details of a single trip) we can write a function as follows. The two dictionaries, origin_cat_dict and dest_cat_dict are used for getting corresponding category for origin and destination airports."
   ]
  },
  {
   "cell_type": "code",
   "execution_count": null,
   "metadata": {
    "executionInfo": {
     "elapsed": 148,
     "status": "aborted",
     "timestamp": 1674071330800,
     "user": {
      "displayName": "satwik gupta",
      "userId": "11579781950189161815"
     },
     "user_tz": -330
    },
    "id": "UMxUsXsLLM8z"
   },
   "outputs": [],
   "source": [
    "# function to predict sample input\n",
    "def predict_input(model, single_input):\n",
    "    input_df = pd.DataFrame([single_input])\n",
    "    input_df['ORIGIN_CAT'] = origin_cat_dict[single_input['ORIGIN']]\n",
    "    input_df['DEST_CAT'] = dest_cat_dict[single_input['DEST']]\n",
    "    input_df[numeric_cols] = scaler.transform(input_df[numeric_cols])\n",
    "    input_df[encoded_cols] = encoder.transform(input_df[categorical_cols])\n",
    "    X_input = input_df[numeric_cols + encoded_cols]\n",
    "    pred = model.predict(X_input)[0]\n",
    "    prob = model.predict_proba(X_input)[0][list(model.classes_).index(pred)]\n",
    "    return pred, prob"
   ]
  },
  {
   "cell_type": "markdown",
   "metadata": {
    "id": "vzMAIx8XS2Ha"
   },
   "source": [
    "A single input by the name new_input is shown below."
   ]
  },
  {
   "cell_type": "code",
   "execution_count": null,
   "metadata": {
    "executionInfo": {
     "elapsed": 149,
     "status": "aborted",
     "timestamp": 1674071330802,
     "user": {
      "displayName": "satwik gupta",
      "userId": "11579781950189161815"
     },
     "user_tz": -330
    },
    "id": "7KzcAhwXS25A"
   },
   "outputs": [],
   "source": [
    "new_input = {'DAY_OF_MONTH': 3,\n",
    "             'DAY_OF_WEEK': 2,\n",
    "             'OP_CARRIER': '9E',\n",
    "             'ORIGIN': 'ATL',\n",
    "             'DEST': 'LGA',\n",
    "             'DEP_TIME': 1225.0,\n",
    "             'DEP_DEL15': 0.0,\n",
    "             'DEP_TIME_BLK': '1200-1259',\n",
    "             'DISTANCE': 578.0 }"
   ]
  },
  {
   "cell_type": "markdown",
   "metadata": {
    "id": "n8VnZwF4TlXo"
   },
   "source": [
    "We use above function for prediction of arrival delay for the given input. We will use the logistic regression model named model_lr."
   ]
  },
  {
   "cell_type": "code",
   "execution_count": null,
   "metadata": {
    "executionInfo": {
     "elapsed": 154,
     "status": "aborted",
     "timestamp": 1674071330807,
     "user": {
      "displayName": "satwik gupta",
      "userId": "11579781950189161815"
     },
     "user_tz": -330
    },
    "id": "aN6JbmIYTiaA"
   },
   "outputs": [],
   "source": [
    "predict_input(model_lr, new_input)"
   ]
  },
  {
   "cell_type": "markdown",
   "metadata": {
    "id": "lY3NmtDNUDB8"
   },
   "source": [
    "The model is predicting no delay (indicated by 0.0) with 0.94 probability."
   ]
  },
  {
   "cell_type": "code",
   "execution_count": null,
   "metadata": {
    "executionInfo": {
     "elapsed": 155,
     "status": "aborted",
     "timestamp": 1674071330809,
     "user": {
      "displayName": "satwik gupta",
      "userId": "11579781950189161815"
     },
     "user_tz": -330
    },
    "id": "61nQYXEkAvBp"
   },
   "outputs": [],
   "source": []
  },
  {
   "cell_type": "markdown",
   "metadata": {
    "id": "UVFGVE2SUShZ"
   },
   "source": [
    "## Compare different models on Test Data"
   ]
  },
  {
   "cell_type": "code",
   "execution_count": null,
   "metadata": {
    "executionInfo": {
     "elapsed": 156,
     "status": "aborted",
     "timestamp": 1674071330811,
     "user": {
      "displayName": "satwik gupta",
      "userId": "11579781950189161815"
     },
     "user_tz": -330
    },
    "id": "lv2epDOsNcfL"
   },
   "outputs": [],
   "source": [
    "model_lr = LogisticRegression(solver = 'liblinear', random_state = 42)\n",
    "model_dtc_best = DecisionTreeClassifier(max_depth = 7, max_leaf_nodes = 128, min_samples_leaf = 5, random_state=42)\n",
    "model_rfc_best = RandomForestClassifier(n_jobs = -1, random_state = 42, n_estimators = 20, min_samples_leaf = 8)\n",
    "model_xgbc_best = XGBClassifier(n_estimators = 50, max_depth = 7, learning_rate = 0.3, random_state=42, n_jobs = -1,\n",
    "                                use_label_encoder=False, eval_metric = 'logloss')\n",
    "model_xgbc_best2 = XGBClassifier(n_estimators = 10, learning_rate = 0.4, random_state=42, n_jobs = -1,use_label_encoder=False, eval_metric = 'logloss')\n"
   ]
  },
  {
   "cell_type": "code",
   "execution_count": null,
   "metadata": {
    "executionInfo": {
     "elapsed": 158,
     "status": "aborted",
     "timestamp": 1674071330813,
     "user": {
      "displayName": "satwik gupta",
      "userId": "11579781950189161815"
     },
     "user_tz": -330
    },
    "id": "pn4fBiuKWG4B"
   },
   "outputs": [],
   "source": [
    "models = [model_lr, model_dtc_best, model_rfc_best, model_xgbc_best, model_xgbc_best2]\n",
    "accuracy_scores = []\n",
    "roc_auc_scores = []"
   ]
  },
  {
   "cell_type": "code",
   "execution_count": null,
   "metadata": {
    "executionInfo": {
     "elapsed": 158,
     "status": "aborted",
     "timestamp": 1674071330814,
     "user": {
      "displayName": "satwik gupta",
      "userId": "11579781950189161815"
     },
     "user_tz": -330
    },
    "id": "fLG-Xi6QSAiZ"
   },
   "outputs": [],
   "source": [
    "for model in models:\n",
    "  model.fit(X_train, train_targets)\n",
    "  test_preds = model.predict(X_test)\n",
    "  test_accuracy = accuracy_score(test_targets, test_preds)\n",
    "  roc_auc_score_test = roc_auc_score(test_targets, test_preds)\n",
    "  accuracy_scores.append(round(test_accuracy*100, 2))\n",
    "  roc_auc_scores.append(round(roc_auc_score_test, 3))\n"
   ]
  },
  {
   "cell_type": "code",
   "execution_count": null,
   "metadata": {
    "executionInfo": {
     "elapsed": 163,
     "status": "aborted",
     "timestamp": 1674071330819,
     "user": {
      "displayName": "satwik gupta",
      "userId": "11579781950189161815"
     },
     "user_tz": -330
    },
    "id": "mXlgK4eSSVRH"
   },
   "outputs": [],
   "source": [
    "test_results_df = pd.DataFrame({\n",
    "    'Model' : ['Logistic Regression', 'Decision Tree Classifier', 'Random Forest Classifier', 'XGBoost Classifier_1', 'XGBoost Classifier_2'],\n",
    "    'Accuracy': accuracy_scores,\n",
    "    'roc_auc_score': roc_auc_scores\n",
    "})"
   ]
  },
  {
   "cell_type": "code",
   "execution_count": null,
   "metadata": {
    "executionInfo": {
     "elapsed": 164,
     "status": "aborted",
     "timestamp": 1674071330821,
     "user": {
      "displayName": "satwik gupta",
      "userId": "11579781950189161815"
     },
     "user_tz": -330
    },
    "id": "edg-kT67SAIf"
   },
   "outputs": [],
   "source": [
    "test_results_df"
   ]
  },
  {
   "cell_type": "markdown",
   "metadata": {
    "id": "8nLFz6KUU95Y"
   },
   "source": [
    "Let's also add the model which predicts arrival delay purely by copying departure delay to the above dataframe to compare with our models."
   ]
  },
  {
   "cell_type": "code",
   "execution_count": null,
   "metadata": {
    "executionInfo": {
     "elapsed": 165,
     "status": "aborted",
     "timestamp": 1674071330823,
     "user": {
      "displayName": "satwik gupta",
      "userId": "11579781950189161815"
     },
     "user_tz": -330
    },
    "id": "Xz1GpON7WKTG"
   },
   "outputs": [],
   "source": [
    "test_dep_delay = test_df['DEP_DEL15']"
   ]
  },
  {
   "cell_type": "code",
   "execution_count": null,
   "metadata": {
    "executionInfo": {
     "elapsed": 167,
     "status": "aborted",
     "timestamp": 1674071330825,
     "user": {
      "displayName": "satwik gupta",
      "userId": "11579781950189161815"
     },
     "user_tz": -330
    },
    "id": "_djukjnWWKWz"
   },
   "outputs": [],
   "source": [
    "accuracy_copy_model = round(accuracy_score(test_targets, test_dep_delay)*100, 2)"
   ]
  },
  {
   "cell_type": "code",
   "execution_count": null,
   "metadata": {
    "executionInfo": {
     "elapsed": 167,
     "status": "aborted",
     "timestamp": 1674071330826,
     "user": {
      "displayName": "satwik gupta",
      "userId": "11579781950189161815"
     },
     "user_tz": -330
    },
    "id": "N0n1kF-pWKd-"
   },
   "outputs": [],
   "source": [
    "roc_auc_copy_model = round(roc_auc_score(test_targets, test_dep_delay), 3)"
   ]
  },
  {
   "cell_type": "code",
   "execution_count": null,
   "metadata": {
    "executionInfo": {
     "elapsed": 169,
     "status": "aborted",
     "timestamp": 1674071330828,
     "user": {
      "displayName": "satwik gupta",
      "userId": "11579781950189161815"
     },
     "user_tz": -330
    },
    "id": "wFopKu_-Wl8V"
   },
   "outputs": [],
   "source": [
    "test_results_df.loc[5] = ['Departure Delay Copy Model', accuracy_copy_model, roc_auc_copy_model]"
   ]
  },
  {
   "cell_type": "code",
   "execution_count": null,
   "metadata": {
    "executionInfo": {
     "elapsed": 170,
     "status": "aborted",
     "timestamp": 1674071330830,
     "user": {
      "displayName": "satwik gupta",
      "userId": "11579781950189161815"
     },
     "user_tz": -330
    },
    "id": "E_7jERoLW9yn"
   },
   "outputs": [],
   "source": [
    "test_results_df"
   ]
  },
  {
   "cell_type": "markdown",
   "metadata": {
    "id": "0hLbKxpvXJf-"
   },
   "source": [
    "It turns out that the XGBoost classifier model performs the best in terms of accuracy compared to other models.And this model loses roc_auc_score by a small value compared to others. "
   ]
  },
  {
   "cell_type": "code",
   "execution_count": null,
   "metadata": {
    "executionInfo": {
     "elapsed": 172,
     "status": "aborted",
     "timestamp": 1674071330832,
     "user": {
      "displayName": "satwik gupta",
      "userId": "11579781950189161815"
     },
     "user_tz": -330
    },
    "id": "NrW9cDWEb-Lq"
   },
   "outputs": [],
   "source": []
  },
  {
   "cell_type": "markdown",
   "metadata": {
    "id": "xalAcdQhZ8Tl"
   },
   "source": [
    "## Saving and Loading Trained Models"
   ]
  },
  {
   "cell_type": "markdown",
   "metadata": {
    "id": "8HBUmuJ1Xzef"
   },
   "source": [
    "Now we will save check performance of our best model and save the model weights and other required items for future use,"
   ]
  },
  {
   "cell_type": "code",
   "execution_count": null,
   "metadata": {
    "executionInfo": {
     "elapsed": 173,
     "status": "aborted",
     "timestamp": 1674071330834,
     "user": {
      "displayName": "satwik gupta",
      "userId": "11579781950189161815"
     },
     "user_tz": -330
    },
    "id": "IP1K7Mj2Sqjz"
   },
   "outputs": [],
   "source": [
    "model_best = XGBClassifier(n_estimators = 50, max_depth = 7, learning_rate = 0.3, random_state=42, n_jobs = -1,\n",
    "                                use_label_encoder=False, eval_metric = 'logloss')"
   ]
  },
  {
   "cell_type": "code",
   "execution_count": null,
   "metadata": {
    "executionInfo": {
     "elapsed": 174,
     "status": "aborted",
     "timestamp": 1674071330836,
     "user": {
      "displayName": "satwik gupta",
      "userId": "11579781950189161815"
     },
     "user_tz": -330
    },
    "id": "1hQ6tIP3YRk5"
   },
   "outputs": [],
   "source": [
    "model_best.fit(X_train, train_targets)"
   ]
  },
  {
   "cell_type": "code",
   "execution_count": null,
   "metadata": {
    "executionInfo": {
     "elapsed": 175,
     "status": "aborted",
     "timestamp": 1674071330837,
     "user": {
      "displayName": "satwik gupta",
      "userId": "11579781950189161815"
     },
     "user_tz": -330
    },
    "id": "bWR-NPejYZUU"
   },
   "outputs": [],
   "source": [
    "train_preds = model_best.predict(X_train)\n",
    "val_preds = model_best.predict(X_val)\n",
    "test_preds = model_best.predict(X_test)\n",
    "train_accuracy = accuracy_score(train_targets, train_preds)\n",
    "val_accuracy = accuracy_score(val_targets, val_preds)\n",
    "test_accuracy = accuracy_score(test_targets, test_preds)\n",
    "print('Train set Accuracy: {:.2f}%'.format(train_accuracy*100))\n",
    "print('Validation set Accuracy: {:.2f}%'.format(val_accuracy* 100))\n",
    "print('Test set Accuracy: {:.2f}%'.format(test_accuracy* 100))\n",
    "print('roc auc score on Test data: {:.2f}'.format(roc_auc_score(test_targets, test_preds)))  \n",
    "conf_matrix =  confusion_matrix(test_targets, test_preds, normalize = 'true')\n",
    "plt.figure()\n",
    "plt.title('Test Confusion Matrix')\n",
    "sns.heatmap(conf_matrix, annot = True);"
   ]
  },
  {
   "cell_type": "markdown",
   "metadata": {
    "id": "CmVAr9vRZ9IU"
   },
   "source": [
    "We can use the joblib module to save and load Python objects on the disk."
   ]
  },
  {
   "cell_type": "code",
   "execution_count": null,
   "metadata": {
    "executionInfo": {
     "elapsed": 176,
     "status": "aborted",
     "timestamp": 1674071330839,
     "user": {
      "displayName": "satwik gupta",
      "userId": "11579781950189161815"
     },
     "user_tz": -330
    },
    "id": "WtS3pRDoaFsN"
   },
   "outputs": [],
   "source": [
    "import joblib"
   ]
  },
  {
   "cell_type": "code",
   "execution_count": null,
   "metadata": {
    "executionInfo": {
     "elapsed": 178,
     "status": "aborted",
     "timestamp": 1674071330841,
     "user": {
      "displayName": "satwik gupta",
      "userId": "11579781950189161815"
     },
     "user_tz": -330
    },
    "id": "4Xcg0FhaZ_8Y"
   },
   "outputs": [],
   "source": [
    "flight_arrival_delay_prediction = {\n",
    "    'model': model_best,\n",
    "    'origin_cat': origin_cat_dict,\n",
    "    'dest_cat': dest_cat_dict,\n",
    "    'scaler': scaler,\n",
    "    'encoder': encoder,\n",
    "    'input_cols': input_cols,\n",
    "    'target_col': target_col,\n",
    "    'numeric_cols': numeric_cols,\n",
    "    'categorical_cols': categorical_cols,\n",
    "    'encoded_cols': encoded_cols\n",
    "}\n"
   ]
  },
  {
   "cell_type": "code",
   "execution_count": null,
   "metadata": {
    "executionInfo": {
     "elapsed": 178,
     "status": "aborted",
     "timestamp": 1674071330842,
     "user": {
      "displayName": "satwik gupta",
      "userId": "11579781950189161815"
     },
     "user_tz": -330
    },
    "id": "HEjM-GLAa1dz"
   },
   "outputs": [],
   "source": [
    "joblib.dump(flight_arrival_delay_prediction, 'flight_arrival_delay_prediction.joblib')"
   ]
  },
  {
   "cell_type": "markdown",
   "metadata": {
    "id": "SQpLk8u6bKri"
   },
   "source": [
    "Now let's load this model and check on new_input"
   ]
  },
  {
   "cell_type": "code",
   "execution_count": null,
   "metadata": {
    "executionInfo": {
     "elapsed": 178,
     "status": "aborted",
     "timestamp": 1674071330844,
     "user": {
      "displayName": "satwik gupta",
      "userId": "11579781950189161815"
     },
     "user_tz": -330
    },
    "id": "NTpM9sEVbQU4"
   },
   "outputs": [],
   "source": [
    "flight_delay_2 = joblib.load('flight_arrival_delay_prediction.joblib')"
   ]
  },
  {
   "cell_type": "code",
   "execution_count": null,
   "metadata": {
    "executionInfo": {
     "elapsed": 178,
     "status": "aborted",
     "timestamp": 1674071330845,
     "user": {
      "displayName": "satwik gupta",
      "userId": "11579781950189161815"
     },
     "user_tz": -330
    },
    "id": "eybJek1lbfCi"
   },
   "outputs": [],
   "source": [
    "predict_input(flight_delay_2['model'], new_input)"
   ]
  },
  {
   "cell_type": "markdown",
   "metadata": {
    "id": "6cvkRaWXcQCP"
   },
   "source": [
    "So our loaded best model is predicting no delay on arrival airport for single input with 0.95 probability."
   ]
  },
  {
   "cell_type": "markdown",
   "metadata": {
    "id": "4dWpp6akemZT"
   },
   "source": [
    "### Summary"
   ]
  },
  {
   "cell_type": "markdown",
   "metadata": {
    "id": "h0Pr7jFjcyrO"
   },
   "source": [
    "As part of this project the following tasks are performed:\n",
    "\n",
    "- Downloaded a real-world dataset from a Kaggle competition and  identified a problem to work on with the dataset, stated the modeling objective with clarity.\n",
    "- Performed exploratory data analysis to gather insights, perform feature engineering, created a training, validation & test split, and prepared the data for modeling.\n",
    "- Trained and evaluated different machine learning models such as Logistic Regression, Decision Tree, Random Forest and XGBoost, tuned hyperparameters to improve models.\n",
    "- The final performance of best models are evaluated with an unseen test data and also compared models with dump models created from good understanding of data.\n",
    "- Implemented function for sample predictions, and saved model weights and loaded back and tested."
   ]
  },
  {
   "cell_type": "markdown",
   "metadata": {
    "id": "bVJzQ2jhf_5V"
   },
   "source": [
    "### Future Work"
   ]
  },
  {
   "cell_type": "markdown",
   "metadata": {
    "id": "K5mGzcG7gMnP"
   },
   "source": [
    "The model developed mainly depends on departure delay column for its predictions, an interesting problem would be trying to build models that do not use departure delays for predicting delay on arrival."
   ]
  },
  {
   "cell_type": "code",
   "execution_count": null,
   "metadata": {
    "executionInfo": {
     "elapsed": 180,
     "status": "aborted",
     "timestamp": 1674071330847,
     "user": {
      "displayName": "satwik gupta",
      "userId": "11579781950189161815"
     },
     "user_tz": -330
    },
    "id": "BmF1lV_wdZJY"
   },
   "outputs": [],
   "source": [
    "jovian.commit()"
   ]
  },
  {
   "cell_type": "code",
   "execution_count": null,
   "metadata": {
    "executionInfo": {
     "elapsed": 180,
     "status": "aborted",
     "timestamp": 1674071330849,
     "user": {
      "displayName": "satwik gupta",
      "userId": "11579781950189161815"
     },
     "user_tz": -330
    },
    "id": "G0-7wZn1gdRJ"
   },
   "outputs": [],
   "source": []
  }
 ],
 "metadata": {
  "colab": {
   "provenance": []
  },
  "kernelspec": {
   "display_name": "Python 3 (ipykernel)",
   "language": "python",
   "name": "python3"
  },
  "language_info": {
   "codemirror_mode": {
    "name": "ipython",
    "version": 3
   },
   "file_extension": ".py",
   "mimetype": "text/x-python",
   "name": "python",
   "nbconvert_exporter": "python",
   "pygments_lexer": "ipython3",
   "version": "3.9.7"
  }
 },
 "nbformat": 4,
 "nbformat_minor": 1
}
